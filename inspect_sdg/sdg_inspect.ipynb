{
 "cells": [
  {
   "cell_type": "code",
   "id": "initial_id",
   "metadata": {
    "collapsed": true,
    "ExecuteTime": {
     "end_time": "2024-12-17T17:56:21.718708Z",
     "start_time": "2024-12-17T17:56:14.501716Z"
    }
   },
   "source": [
    "import os\n",
    "import json\n",
    "import glob\n",
    "\n",
    "\n",
    "files = glob.glob('**/*.jsonl', recursive=True)\n",
    "for input_file in files:\n",
    "    input_filename_no_ext = os.path.splitext(input_file)[0]\n",
    "    os.makedirs(input_filename_no_ext, exist_ok=True)\n",
    "    with open(input_file, 'r') as f:\n",
    "        for index, line in enumerate(f):\n",
    "            data = json.loads(line)\n",
    "            with open(f'{input_filename_no_ext}/{index}.json', 'w') as out:\n",
    "                json.dump(data, out, indent=4)\n",
    "            with open(f'{input_filename_no_ext}/{index}.txt', 'w') as out:\n",
    "                text = data['messages'][1]['content']\n",
    "                out.write(text)\n",
    "                metadata = data['metadata']\n"
   ],
   "outputs": [],
   "execution_count": 2
  },
  {
   "metadata": {},
   "cell_type": "code",
   "outputs": [],
   "execution_count": null,
   "source": "",
   "id": "4d2bb1900d9c1eb9"
  }
 ],
 "metadata": {
  "kernelspec": {
   "display_name": "Python 3",
   "language": "python",
   "name": "python3"
  },
  "language_info": {
   "codemirror_mode": {
    "name": "ipython",
    "version": 2
   },
   "file_extension": ".py",
   "mimetype": "text/x-python",
   "name": "python",
   "nbconvert_exporter": "python",
   "pygments_lexer": "ipython2",
   "version": "2.7.6"
  }
 },
 "nbformat": 4,
 "nbformat_minor": 5
}
