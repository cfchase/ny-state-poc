{
 "cells": [
  {
   "cell_type": "markdown",
   "id": "06bb24d2-f2f7-455f-8854-6d1ae1f233b8",
   "metadata": {},
   "source": [
    "# Evaluating the fine tuned model"
   ]
  },
  {
   "cell_type": "markdown",
   "id": "8308b229-b520-4e82-a783-eb921bb955e7",
   "metadata": {},
   "source": [
    "### Needed packages and imports"
   ]
  },
  {
   "cell_type": "code",
   "execution_count": 1,
   "id": "91e41b41-f60a-4b0f-91a1-cd273b60f21b",
   "metadata": {
    "ExecuteTime": {
     "end_time": "2024-11-11T16:06:00.716772Z",
     "start_time": "2024-11-11T16:05:57.936808Z"
    },
    "scrolled": true,
    "tags": []
   },
   "outputs": [
    {
     "name": "stdout",
     "output_type": "stream",
     "text": [
      "\u001b[33mWARNING: Ignoring invalid distribution ~orch (/opt/app-root/lib64/python3.11/site-packages)\u001b[0m\u001b[33m\n",
      "\u001b[0m\u001b[33mWARNING: Ignoring invalid distribution ~orch (/opt/app-root/lib64/python3.11/site-packages)\u001b[0m\u001b[33m\n",
      "\u001b[0mRequirement already satisfied: docling~=2.4.0 in /opt/app-root/lib64/python3.11/site-packages (from -r requirements.txt (line 1)) (2.4.2)\n",
      "Requirement already satisfied: docling-core~=2.3.1 in /opt/app-root/lib64/python3.11/site-packages (from -r requirements.txt (line 2)) (2.3.2)\n",
      "Requirement already satisfied: docling-ibm-models~=2.0.3 in /opt/app-root/lib64/python3.11/site-packages (from -r requirements.txt (line 3)) (2.0.3)\n",
      "Requirement already satisfied: docling-parse~=2.0.3 in /opt/app-root/lib64/python3.11/site-packages (from -r requirements.txt (line 4)) (2.0.3)\n",
      "Requirement already satisfied: einops~=0.8.0 in /opt/app-root/lib64/python3.11/site-packages (from -r requirements.txt (line 5)) (0.8.0)\n",
      "Requirement already satisfied: langchain~=0.3.5 in /opt/app-root/lib64/python3.11/site-packages (from -r requirements.txt (line 6)) (0.3.7)\n",
      "Requirement already satisfied: langchain-community~=0.3.3 in /opt/app-root/lib64/python3.11/site-packages (from -r requirements.txt (line 7)) (0.3.5)\n",
      "Requirement already satisfied: langchain-openai~=0.2.4 in /opt/app-root/lib64/python3.11/site-packages (from -r requirements.txt (line 8)) (0.2.5)\n",
      "Requirement already satisfied: langchain-milvus~=0.1.6 in /opt/app-root/lib64/python3.11/site-packages (from -r requirements.txt (line 9)) (0.1.7)\n",
      "Requirement already satisfied: langchain-text-splitters~=0.3.0 in /opt/app-root/lib64/python3.11/site-packages (from -r requirements.txt (line 10)) (0.3.2)\n",
      "Requirement already satisfied: openai~=1.53.0 in /opt/app-root/lib64/python3.11/site-packages (from -r requirements.txt (line 11)) (1.53.1)\n",
      "Requirement already satisfied: pypdf~=5.1.0 in /opt/app-root/lib64/python3.11/site-packages (from -r requirements.txt (line 12)) (5.1.0)\n",
      "Requirement already satisfied: pymilvus~=2.4.9 in /opt/app-root/lib64/python3.11/site-packages (from -r requirements.txt (line 13)) (2.4.9)\n",
      "Requirement already satisfied: python-dotenv~=1.0.1 in /opt/app-root/lib64/python3.11/site-packages (from -r requirements.txt (line 14)) (1.0.1)\n",
      "Requirement already satisfied: sentence-transformers~=3.2.1 in /opt/app-root/lib64/python3.11/site-packages (from -r requirements.txt (line 15)) (3.2.1)\n",
      "Collecting torch~=2.5.1 (from -r requirements.txt (line 16))\n",
      "  Obtaining dependency information for torch~=2.5.1 from https://files.pythonhosted.org/packages/d1/35/e8b2daf02ce933e4518e6f5682c72fd0ed66c15910ea1fb4168f442b71c4/torch-2.5.1-cp311-cp311-manylinux1_x86_64.whl.metadata\n",
      "  Downloading torch-2.5.1-cp311-cp311-manylinux1_x86_64.whl.metadata (28 kB)\n",
      "Requirement already satisfied: torchvision~=0.20.1 in /opt/app-root/lib64/python3.11/site-packages (from -r requirements.txt (line 17)) (0.20.1)\n",
      "Requirement already satisfied: beautifulsoup4<5.0.0,>=4.12.3 in /opt/app-root/lib64/python3.11/site-packages (from docling~=2.4.0->-r requirements.txt (line 1)) (4.12.3)\n",
      "Requirement already satisfied: certifi>=2024.7.4 in /opt/app-root/lib64/python3.11/site-packages (from docling~=2.4.0->-r requirements.txt (line 1)) (2024.8.30)\n",
      "Requirement already satisfied: deepsearch-glm<0.27.0,>=0.26.1 in /opt/app-root/lib64/python3.11/site-packages (from docling~=2.4.0->-r requirements.txt (line 1)) (0.26.1)\n",
      "Requirement already satisfied: easyocr<2.0,>=1.7 in /opt/app-root/lib64/python3.11/site-packages (from docling~=2.4.0->-r requirements.txt (line 1)) (1.7.2)\n",
      "Requirement already satisfied: filetype<2.0.0,>=1.2.0 in /opt/app-root/lib64/python3.11/site-packages (from docling~=2.4.0->-r requirements.txt (line 1)) (1.2.0)\n",
      "Requirement already satisfied: huggingface_hub<1,>=0.23 in /opt/app-root/lib64/python3.11/site-packages (from docling~=2.4.0->-r requirements.txt (line 1)) (0.26.2)\n",
      "Requirement already satisfied: marko<3.0.0,>=2.1.2 in /opt/app-root/lib64/python3.11/site-packages (from docling~=2.4.0->-r requirements.txt (line 1)) (2.1.2)\n",
      "Requirement already satisfied: pandas<3.0.0,>=2.1.4 in /opt/app-root/lib64/python3.11/site-packages (from docling~=2.4.0->-r requirements.txt (line 1)) (2.2.3)\n",
      "Requirement already satisfied: pyarrow<17.0.0,>=16.1.0 in /opt/app-root/lib64/python3.11/site-packages (from docling~=2.4.0->-r requirements.txt (line 1)) (16.1.0)\n",
      "Requirement already satisfied: pydantic<3.0.0,>=2.0.0 in /opt/app-root/lib64/python3.11/site-packages (from docling~=2.4.0->-r requirements.txt (line 1)) (2.9.2)\n",
      "Requirement already satisfied: pydantic-settings<3.0.0,>=2.3.0 in /opt/app-root/lib64/python3.11/site-packages (from docling~=2.4.0->-r requirements.txt (line 1)) (2.6.1)\n",
      "Requirement already satisfied: pypdfium2<5.0.0,>=4.30.0 in /opt/app-root/lib64/python3.11/site-packages (from docling~=2.4.0->-r requirements.txt (line 1)) (4.30.0)\n",
      "Requirement already satisfied: python-docx<2.0.0,>=1.1.2 in /opt/app-root/lib64/python3.11/site-packages (from docling~=2.4.0->-r requirements.txt (line 1)) (1.1.2)\n",
      "Requirement already satisfied: python-pptx<2.0.0,>=1.0.2 in /opt/app-root/lib64/python3.11/site-packages (from docling~=2.4.0->-r requirements.txt (line 1)) (1.0.2)\n",
      "Requirement already satisfied: requests<3.0.0,>=2.32.3 in /opt/app-root/lib64/python3.11/site-packages (from docling~=2.4.0->-r requirements.txt (line 1)) (2.32.3)\n",
      "Requirement already satisfied: rtree<2.0.0,>=1.3.0 in /opt/app-root/lib64/python3.11/site-packages (from docling~=2.4.0->-r requirements.txt (line 1)) (1.3.0)\n",
      "Requirement already satisfied: scipy<2.0.0,>=1.14.1 in /opt/app-root/lib64/python3.11/site-packages (from docling~=2.4.0->-r requirements.txt (line 1)) (1.14.1)\n",
      "Requirement already satisfied: typer<0.13.0,>=0.12.5 in /opt/app-root/lib64/python3.11/site-packages (from docling~=2.4.0->-r requirements.txt (line 1)) (0.12.5)\n",
      "Requirement already satisfied: jsonref<2.0.0,>=1.1.0 in /opt/app-root/lib64/python3.11/site-packages (from docling-core~=2.3.1->-r requirements.txt (line 2)) (1.1.0)\n",
      "Requirement already satisfied: jsonschema<5.0.0,>=4.16.0 in /opt/app-root/lib64/python3.11/site-packages (from docling-core~=2.3.1->-r requirements.txt (line 2)) (4.23.0)\n",
      "Requirement already satisfied: pillow<11.0.0,>=10.3.0 in /opt/app-root/lib64/python3.11/site-packages (from docling-core~=2.3.1->-r requirements.txt (line 2)) (10.4.0)\n",
      "Requirement already satisfied: tabulate<0.10.0,>=0.9.0 in /opt/app-root/lib64/python3.11/site-packages (from docling-core~=2.3.1->-r requirements.txt (line 2)) (0.9.0)\n",
      "Requirement already satisfied: jsonlines<4.0.0,>=3.1.0 in /opt/app-root/lib64/python3.11/site-packages (from docling-ibm-models~=2.0.3->-r requirements.txt (line 3)) (3.1.0)\n",
      "Requirement already satisfied: lxml<5.0.0,>=4.9.1 in /opt/app-root/lib64/python3.11/site-packages (from docling-ibm-models~=2.0.3->-r requirements.txt (line 3)) (4.9.4)\n",
      "Requirement already satisfied: mean_average_precision<2022.0.0.0,>=2021.4.26.0 in /opt/app-root/lib64/python3.11/site-packages (from docling-ibm-models~=2.0.3->-r requirements.txt (line 3)) (2021.4.26.0)\n",
      "Requirement already satisfied: numpy<2.0.0,>=1.24.4 in /opt/app-root/lib64/python3.11/site-packages (from docling-ibm-models~=2.0.3->-r requirements.txt (line 3)) (1.26.4)\n",
      "Requirement already satisfied: opencv-python-headless<5.0.0.0,>=4.6.0.66 in /opt/app-root/lib64/python3.11/site-packages (from docling-ibm-models~=2.0.3->-r requirements.txt (line 3)) (4.10.0.84)\n",
      "Requirement already satisfied: tqdm<5.0.0,>=4.64.0 in /opt/app-root/lib64/python3.11/site-packages (from docling-ibm-models~=2.0.3->-r requirements.txt (line 3)) (4.66.5)\n",
      "Requirement already satisfied: PyYAML>=5.3 in /opt/app-root/lib64/python3.11/site-packages (from langchain~=0.3.5->-r requirements.txt (line 6)) (6.0.2)\n",
      "Requirement already satisfied: SQLAlchemy<3,>=1.4 in /opt/app-root/lib64/python3.11/site-packages (from langchain~=0.3.5->-r requirements.txt (line 6)) (2.0.35)\n",
      "Requirement already satisfied: aiohttp<4.0.0,>=3.8.3 in /opt/app-root/lib64/python3.11/site-packages (from langchain~=0.3.5->-r requirements.txt (line 6)) (3.10.9)\n",
      "Requirement already satisfied: langchain-core<0.4.0,>=0.3.15 in /opt/app-root/lib64/python3.11/site-packages (from langchain~=0.3.5->-r requirements.txt (line 6)) (0.3.15)\n",
      "Requirement already satisfied: langsmith<0.2.0,>=0.1.17 in /opt/app-root/lib64/python3.11/site-packages (from langchain~=0.3.5->-r requirements.txt (line 6)) (0.1.142)\n",
      "Requirement already satisfied: tenacity!=8.4.0,<10,>=8.1.0 in /opt/app-root/lib64/python3.11/site-packages (from langchain~=0.3.5->-r requirements.txt (line 6)) (9.0.0)\n",
      "Requirement already satisfied: dataclasses-json<0.7,>=0.5.7 in /opt/app-root/lib64/python3.11/site-packages (from langchain-community~=0.3.3->-r requirements.txt (line 7)) (0.6.7)\n",
      "Requirement already satisfied: httpx-sse<0.5.0,>=0.4.0 in /opt/app-root/lib64/python3.11/site-packages (from langchain-community~=0.3.3->-r requirements.txt (line 7)) (0.4.0)\n",
      "Requirement already satisfied: tiktoken<1,>=0.7 in /opt/app-root/lib64/python3.11/site-packages (from langchain-openai~=0.2.4->-r requirements.txt (line 8)) (0.8.0)\n",
      "Requirement already satisfied: anyio<5,>=3.5.0 in /opt/app-root/lib64/python3.11/site-packages (from openai~=1.53.0->-r requirements.txt (line 11)) (4.6.0)\n",
      "Requirement already satisfied: distro<2,>=1.7.0 in /opt/app-root/lib64/python3.11/site-packages (from openai~=1.53.0->-r requirements.txt (line 11)) (1.9.0)\n",
      "Requirement already satisfied: httpx<1,>=0.23.0 in /opt/app-root/lib64/python3.11/site-packages (from openai~=1.53.0->-r requirements.txt (line 11)) (0.27.2)\n",
      "Requirement already satisfied: jiter<1,>=0.4.0 in /opt/app-root/lib64/python3.11/site-packages (from openai~=1.53.0->-r requirements.txt (line 11)) (0.7.0)\n",
      "Requirement already satisfied: sniffio in /opt/app-root/lib64/python3.11/site-packages (from openai~=1.53.0->-r requirements.txt (line 11)) (1.3.1)\n",
      "Requirement already satisfied: typing-extensions<5,>=4.11 in /opt/app-root/lib64/python3.11/site-packages (from openai~=1.53.0->-r requirements.txt (line 11)) (4.12.2)\n",
      "Requirement already satisfied: setuptools>69 in /opt/app-root/lib64/python3.11/site-packages (from pymilvus~=2.4.9->-r requirements.txt (line 13)) (74.1.3)\n",
      "Requirement already satisfied: grpcio>=1.49.1 in /opt/app-root/lib64/python3.11/site-packages (from pymilvus~=2.4.9->-r requirements.txt (line 13)) (1.66.2)\n",
      "Requirement already satisfied: protobuf>=3.20.0 in /opt/app-root/lib64/python3.11/site-packages (from pymilvus~=2.4.9->-r requirements.txt (line 13)) (4.25.5)\n",
      "Requirement already satisfied: environs<=9.5.0 in /opt/app-root/lib64/python3.11/site-packages (from pymilvus~=2.4.9->-r requirements.txt (line 13)) (9.5.0)\n",
      "Requirement already satisfied: ujson>=2.0.0 in /opt/app-root/lib64/python3.11/site-packages (from pymilvus~=2.4.9->-r requirements.txt (line 13)) (5.10.0)\n",
      "Requirement already satisfied: milvus-lite<2.5.0,>=2.4.0 in /opt/app-root/lib64/python3.11/site-packages (from pymilvus~=2.4.9->-r requirements.txt (line 13)) (2.4.10)\n",
      "Requirement already satisfied: transformers<5.0.0,>=4.41.0 in /opt/app-root/lib64/python3.11/site-packages (from sentence-transformers~=3.2.1->-r requirements.txt (line 15)) (4.46.2)\n",
      "Requirement already satisfied: scikit-learn in /opt/app-root/lib64/python3.11/site-packages (from sentence-transformers~=3.2.1->-r requirements.txt (line 15)) (1.5.2)\n",
      "Requirement already satisfied: filelock in /opt/app-root/lib64/python3.11/site-packages (from torch~=2.5.1->-r requirements.txt (line 16)) (3.16.1)\n",
      "Requirement already satisfied: networkx in /opt/app-root/lib64/python3.11/site-packages (from torch~=2.5.1->-r requirements.txt (line 16)) (3.3)\n",
      "Requirement already satisfied: jinja2 in /opt/app-root/lib64/python3.11/site-packages (from torch~=2.5.1->-r requirements.txt (line 16)) (3.1.4)\n",
      "Requirement already satisfied: fsspec in /opt/app-root/lib64/python3.11/site-packages (from torch~=2.5.1->-r requirements.txt (line 16)) (2024.9.0)\n",
      "Requirement already satisfied: nvidia-cuda-nvrtc-cu12==12.4.127 in /opt/app-root/lib64/python3.11/site-packages (from torch~=2.5.1->-r requirements.txt (line 16)) (12.4.127)\n",
      "Requirement already satisfied: nvidia-cuda-runtime-cu12==12.4.127 in /opt/app-root/lib64/python3.11/site-packages (from torch~=2.5.1->-r requirements.txt (line 16)) (12.4.127)\n",
      "Requirement already satisfied: nvidia-cuda-cupti-cu12==12.4.127 in /opt/app-root/lib64/python3.11/site-packages (from torch~=2.5.1->-r requirements.txt (line 16)) (12.4.127)\n",
      "Requirement already satisfied: nvidia-cudnn-cu12==9.1.0.70 in /opt/app-root/lib64/python3.11/site-packages (from torch~=2.5.1->-r requirements.txt (line 16)) (9.1.0.70)\n",
      "Requirement already satisfied: nvidia-cublas-cu12==12.4.5.8 in /opt/app-root/lib64/python3.11/site-packages (from torch~=2.5.1->-r requirements.txt (line 16)) (12.4.5.8)\n",
      "Requirement already satisfied: nvidia-cufft-cu12==11.2.1.3 in /opt/app-root/lib64/python3.11/site-packages (from torch~=2.5.1->-r requirements.txt (line 16)) (11.2.1.3)\n",
      "Requirement already satisfied: nvidia-curand-cu12==10.3.5.147 in /opt/app-root/lib64/python3.11/site-packages (from torch~=2.5.1->-r requirements.txt (line 16)) (10.3.5.147)\n",
      "Requirement already satisfied: nvidia-cusolver-cu12==11.6.1.9 in /opt/app-root/lib64/python3.11/site-packages (from torch~=2.5.1->-r requirements.txt (line 16)) (11.6.1.9)\n",
      "Requirement already satisfied: nvidia-cusparse-cu12==12.3.1.170 in /opt/app-root/lib64/python3.11/site-packages (from torch~=2.5.1->-r requirements.txt (line 16)) (12.3.1.170)\n",
      "Requirement already satisfied: nvidia-nccl-cu12==2.21.5 in /opt/app-root/lib64/python3.11/site-packages (from torch~=2.5.1->-r requirements.txt (line 16)) (2.21.5)\n",
      "Requirement already satisfied: nvidia-nvtx-cu12==12.4.127 in /opt/app-root/lib64/python3.11/site-packages (from torch~=2.5.1->-r requirements.txt (line 16)) (12.4.127)\n",
      "Requirement already satisfied: nvidia-nvjitlink-cu12==12.4.127 in /opt/app-root/lib64/python3.11/site-packages (from torch~=2.5.1->-r requirements.txt (line 16)) (12.4.127)\n",
      "Requirement already satisfied: triton==3.1.0 in /opt/app-root/lib64/python3.11/site-packages (from torch~=2.5.1->-r requirements.txt (line 16)) (3.1.0)\n",
      "Requirement already satisfied: sympy==1.13.1 in /opt/app-root/lib64/python3.11/site-packages (from torch~=2.5.1->-r requirements.txt (line 16)) (1.13.1)\n",
      "Requirement already satisfied: mpmath<1.4,>=1.1.0 in /opt/app-root/lib64/python3.11/site-packages (from sympy==1.13.1->torch~=2.5.1->-r requirements.txt (line 16)) (1.3.0)\n",
      "Requirement already satisfied: aiohappyeyeballs>=2.3.0 in /opt/app-root/lib64/python3.11/site-packages (from aiohttp<4.0.0,>=3.8.3->langchain~=0.3.5->-r requirements.txt (line 6)) (2.4.3)\n",
      "Requirement already satisfied: aiosignal>=1.1.2 in /opt/app-root/lib64/python3.11/site-packages (from aiohttp<4.0.0,>=3.8.3->langchain~=0.3.5->-r requirements.txt (line 6)) (1.3.1)\n",
      "Requirement already satisfied: attrs>=17.3.0 in /opt/app-root/lib64/python3.11/site-packages (from aiohttp<4.0.0,>=3.8.3->langchain~=0.3.5->-r requirements.txt (line 6)) (24.2.0)\n",
      "Requirement already satisfied: frozenlist>=1.1.1 in /opt/app-root/lib64/python3.11/site-packages (from aiohttp<4.0.0,>=3.8.3->langchain~=0.3.5->-r requirements.txt (line 6)) (1.4.1)\n",
      "Requirement already satisfied: multidict<7.0,>=4.5 in /opt/app-root/lib64/python3.11/site-packages (from aiohttp<4.0.0,>=3.8.3->langchain~=0.3.5->-r requirements.txt (line 6)) (6.1.0)\n",
      "Requirement already satisfied: yarl<2.0,>=1.12.0 in /opt/app-root/lib64/python3.11/site-packages (from aiohttp<4.0.0,>=3.8.3->langchain~=0.3.5->-r requirements.txt (line 6)) (1.13.1)\n",
      "Requirement already satisfied: idna>=2.8 in /opt/app-root/lib64/python3.11/site-packages (from anyio<5,>=3.5.0->openai~=1.53.0->-r requirements.txt (line 11)) (3.10)\n",
      "Requirement already satisfied: soupsieve>1.2 in /opt/app-root/lib64/python3.11/site-packages (from beautifulsoup4<5.0.0,>=4.12.3->docling~=2.4.0->-r requirements.txt (line 1)) (2.6)\n",
      "Requirement already satisfied: marshmallow<4.0.0,>=3.18.0 in /opt/app-root/lib64/python3.11/site-packages (from dataclasses-json<0.7,>=0.5.7->langchain-community~=0.3.3->-r requirements.txt (line 7)) (3.23.1)\n",
      "Requirement already satisfied: typing-inspect<1,>=0.4.0 in /opt/app-root/lib64/python3.11/site-packages (from dataclasses-json<0.7,>=0.5.7->langchain-community~=0.3.3->-r requirements.txt (line 7)) (0.9.0)\n",
      "Requirement already satisfied: docutils!=0.21 in /opt/app-root/lib64/python3.11/site-packages (from deepsearch-glm<0.27.0,>=0.26.1->docling~=2.4.0->-r requirements.txt (line 1)) (0.21.2)\n",
      "Requirement already satisfied: rich<14.0.0,>=13.7.0 in /opt/app-root/lib64/python3.11/site-packages (from deepsearch-glm<0.27.0,>=0.26.1->docling~=2.4.0->-r requirements.txt (line 1)) (13.9.4)\n",
      "Requirement already satisfied: scikit-image in /opt/app-root/lib64/python3.11/site-packages (from easyocr<2.0,>=1.7->docling~=2.4.0->-r requirements.txt (line 1)) (0.24.0)\n",
      "Requirement already satisfied: python-bidi in /opt/app-root/lib64/python3.11/site-packages (from easyocr<2.0,>=1.7->docling~=2.4.0->-r requirements.txt (line 1)) (0.6.3)\n",
      "Requirement already satisfied: Shapely in /opt/app-root/lib64/python3.11/site-packages (from easyocr<2.0,>=1.7->docling~=2.4.0->-r requirements.txt (line 1)) (2.0.6)\n",
      "Requirement already satisfied: pyclipper in /opt/app-root/lib64/python3.11/site-packages (from easyocr<2.0,>=1.7->docling~=2.4.0->-r requirements.txt (line 1)) (1.3.0.post6)\n",
      "Requirement already satisfied: ninja in /opt/app-root/lib64/python3.11/site-packages (from easyocr<2.0,>=1.7->docling~=2.4.0->-r requirements.txt (line 1)) (1.11.1.1)\n",
      "Requirement already satisfied: httpcore==1.* in /opt/app-root/lib64/python3.11/site-packages (from httpx<1,>=0.23.0->openai~=1.53.0->-r requirements.txt (line 11)) (1.0.6)\n",
      "Requirement already satisfied: h11<0.15,>=0.13 in /opt/app-root/lib64/python3.11/site-packages (from httpcore==1.*->httpx<1,>=0.23.0->openai~=1.53.0->-r requirements.txt (line 11)) (0.14.0)\n",
      "Requirement already satisfied: packaging>=20.9 in /opt/app-root/lib64/python3.11/site-packages (from huggingface_hub<1,>=0.23->docling~=2.4.0->-r requirements.txt (line 1)) (24.1)\n",
      "Requirement already satisfied: jsonschema-specifications>=2023.03.6 in /opt/app-root/lib64/python3.11/site-packages (from jsonschema<5.0.0,>=4.16.0->docling-core~=2.3.1->-r requirements.txt (line 2)) (2023.12.1)\n",
      "Requirement already satisfied: referencing>=0.28.4 in /opt/app-root/lib64/python3.11/site-packages (from jsonschema<5.0.0,>=4.16.0->docling-core~=2.3.1->-r requirements.txt (line 2)) (0.35.1)\n",
      "Requirement already satisfied: rpds-py>=0.7.1 in /opt/app-root/lib64/python3.11/site-packages (from jsonschema<5.0.0,>=4.16.0->docling-core~=2.3.1->-r requirements.txt (line 2)) (0.20.0)\n",
      "Requirement already satisfied: jsonpatch<2.0,>=1.33 in /opt/app-root/lib64/python3.11/site-packages (from langchain-core<0.4.0,>=0.3.15->langchain~=0.3.5->-r requirements.txt (line 6)) (1.33)\n",
      "Requirement already satisfied: orjson<4.0.0,>=3.9.14 in /opt/app-root/lib64/python3.11/site-packages (from langsmith<0.2.0,>=0.1.17->langchain~=0.3.5->-r requirements.txt (line 6)) (3.10.11)\n",
      "Requirement already satisfied: requests-toolbelt<2.0.0,>=1.0.0 in /opt/app-root/lib64/python3.11/site-packages (from langsmith<0.2.0,>=0.1.17->langchain~=0.3.5->-r requirements.txt (line 6)) (1.0.0)\n",
      "Requirement already satisfied: python-dateutil>=2.8.2 in /opt/app-root/lib64/python3.11/site-packages (from pandas<3.0.0,>=2.1.4->docling~=2.4.0->-r requirements.txt (line 1)) (2.9.0.post0)\n",
      "Requirement already satisfied: pytz>=2020.1 in /opt/app-root/lib64/python3.11/site-packages (from pandas<3.0.0,>=2.1.4->docling~=2.4.0->-r requirements.txt (line 1)) (2024.2)\n",
      "Requirement already satisfied: tzdata>=2022.7 in /opt/app-root/lib64/python3.11/site-packages (from pandas<3.0.0,>=2.1.4->docling~=2.4.0->-r requirements.txt (line 1)) (2024.2)\n",
      "Requirement already satisfied: annotated-types>=0.6.0 in /opt/app-root/lib64/python3.11/site-packages (from pydantic<3.0.0,>=2.0.0->docling~=2.4.0->-r requirements.txt (line 1)) (0.7.0)\n",
      "Requirement already satisfied: pydantic-core==2.23.4 in /opt/app-root/lib64/python3.11/site-packages (from pydantic<3.0.0,>=2.0.0->docling~=2.4.0->-r requirements.txt (line 1)) (2.23.4)\n",
      "Requirement already satisfied: XlsxWriter>=0.5.7 in /opt/app-root/lib64/python3.11/site-packages (from python-pptx<2.0.0,>=1.0.2->docling~=2.4.0->-r requirements.txt (line 1)) (3.2.0)\n",
      "Requirement already satisfied: charset-normalizer<4,>=2 in /opt/app-root/lib64/python3.11/site-packages (from requests<3.0.0,>=2.32.3->docling~=2.4.0->-r requirements.txt (line 1)) (3.3.2)\n",
      "Requirement already satisfied: urllib3<3,>=1.21.1 in /opt/app-root/lib64/python3.11/site-packages (from requests<3.0.0,>=2.32.3->docling~=2.4.0->-r requirements.txt (line 1)) (1.26.20)\n",
      "Requirement already satisfied: greenlet!=0.4.17 in /opt/app-root/lib64/python3.11/site-packages (from SQLAlchemy<3,>=1.4->langchain~=0.3.5->-r requirements.txt (line 6)) (3.1.1)\n",
      "Requirement already satisfied: regex>=2022.1.18 in /opt/app-root/lib64/python3.11/site-packages (from tiktoken<1,>=0.7->langchain-openai~=0.2.4->-r requirements.txt (line 8)) (2024.11.6)\n",
      "Requirement already satisfied: safetensors>=0.4.1 in /opt/app-root/lib64/python3.11/site-packages (from transformers<5.0.0,>=4.41.0->sentence-transformers~=3.2.1->-r requirements.txt (line 15)) (0.4.5)\n",
      "Requirement already satisfied: tokenizers<0.21,>=0.20 in /opt/app-root/lib64/python3.11/site-packages (from transformers<5.0.0,>=4.41.0->sentence-transformers~=3.2.1->-r requirements.txt (line 15)) (0.20.3)\n",
      "Requirement already satisfied: click>=8.0.0 in /opt/app-root/lib64/python3.11/site-packages (from typer<0.13.0,>=0.12.5->docling~=2.4.0->-r requirements.txt (line 1)) (8.1.7)\n",
      "Requirement already satisfied: shellingham>=1.3.0 in /opt/app-root/lib64/python3.11/site-packages (from typer<0.13.0,>=0.12.5->docling~=2.4.0->-r requirements.txt (line 1)) (1.5.4)\n",
      "Requirement already satisfied: MarkupSafe>=2.0 in /opt/app-root/lib64/python3.11/site-packages (from jinja2->torch~=2.5.1->-r requirements.txt (line 16)) (2.1.5)\n",
      "Requirement already satisfied: joblib>=1.2.0 in /opt/app-root/lib64/python3.11/site-packages (from scikit-learn->sentence-transformers~=3.2.1->-r requirements.txt (line 15)) (1.4.2)\n",
      "Requirement already satisfied: threadpoolctl>=3.1.0 in /opt/app-root/lib64/python3.11/site-packages (from scikit-learn->sentence-transformers~=3.2.1->-r requirements.txt (line 15)) (3.5.0)\n",
      "Requirement already satisfied: jsonpointer>=1.9 in /opt/app-root/lib64/python3.11/site-packages (from jsonpatch<2.0,>=1.33->langchain-core<0.4.0,>=0.3.15->langchain~=0.3.5->-r requirements.txt (line 6)) (3.0.0)\n",
      "Requirement already satisfied: six>=1.5 in /opt/app-root/lib64/python3.11/site-packages (from python-dateutil>=2.8.2->pandas<3.0.0,>=2.1.4->docling~=2.4.0->-r requirements.txt (line 1)) (1.16.0)\n",
      "Requirement already satisfied: markdown-it-py>=2.2.0 in /opt/app-root/lib64/python3.11/site-packages (from rich<14.0.0,>=13.7.0->deepsearch-glm<0.27.0,>=0.26.1->docling~=2.4.0->-r requirements.txt (line 1)) (3.0.0)\n",
      "Requirement already satisfied: pygments<3.0.0,>=2.13.0 in /opt/app-root/lib64/python3.11/site-packages (from rich<14.0.0,>=13.7.0->deepsearch-glm<0.27.0,>=0.26.1->docling~=2.4.0->-r requirements.txt (line 1)) (2.18.0)\n",
      "Requirement already satisfied: mypy-extensions>=0.3.0 in /opt/app-root/lib64/python3.11/site-packages (from typing-inspect<1,>=0.4.0->dataclasses-json<0.7,>=0.5.7->langchain-community~=0.3.3->-r requirements.txt (line 7)) (1.0.0)\n",
      "Requirement already satisfied: imageio>=2.33 in /opt/app-root/lib64/python3.11/site-packages (from scikit-image->easyocr<2.0,>=1.7->docling~=2.4.0->-r requirements.txt (line 1)) (2.36.0)\n",
      "Requirement already satisfied: tifffile>=2022.8.12 in /opt/app-root/lib64/python3.11/site-packages (from scikit-image->easyocr<2.0,>=1.7->docling~=2.4.0->-r requirements.txt (line 1)) (2024.9.20)\n",
      "Requirement already satisfied: lazy-loader>=0.4 in /opt/app-root/lib64/python3.11/site-packages (from scikit-image->easyocr<2.0,>=1.7->docling~=2.4.0->-r requirements.txt (line 1)) (0.4)\n",
      "Requirement already satisfied: mdurl~=0.1 in /opt/app-root/lib64/python3.11/site-packages (from markdown-it-py>=2.2.0->rich<14.0.0,>=13.7.0->deepsearch-glm<0.27.0,>=0.26.1->docling~=2.4.0->-r requirements.txt (line 1)) (0.1.2)\n",
      "Downloading torch-2.5.1-cp311-cp311-manylinux1_x86_64.whl (906.5 MB)\n",
      "\u001b[2K   \u001b[90m━━━━━━━━━━━━━━━━━━━━━━━━━━━━━━━━━━━━━━━\u001b[0m \u001b[32m906.5/906.5 MB\u001b[0m \u001b[31m283.9 MB/s\u001b[0m eta \u001b[36m0:00:00\u001b[0m00:01\u001b[0m00:01\u001b[0m\n",
      "\u001b[?25h\u001b[33mWARNING: Ignoring invalid distribution ~orch (/opt/app-root/lib64/python3.11/site-packages)\u001b[0m\u001b[33m\n",
      "\u001b[0mInstalling collected packages: torch\n",
      "\u001b[33mWARNING: Ignoring invalid distribution ~orch (/opt/app-root/lib/python3.11/site-packages)\u001b[0m\u001b[33m\n",
      "\u001b[0mSuccessfully installed torch\n",
      "\u001b[33mWARNING: Ignoring invalid distribution ~orch (/opt/app-root/lib64/python3.11/site-packages)\u001b[0m\u001b[33m\n",
      "\u001b[0m\n",
      "\u001b[1m[\u001b[0m\u001b[34;49mnotice\u001b[0m\u001b[1;39;49m]\u001b[0m\u001b[39;49m A new release of pip is available: \u001b[0m\u001b[31;49m23.2.1\u001b[0m\u001b[39;49m -> \u001b[0m\u001b[32;49m24.3.1\u001b[0m\n",
      "\u001b[1m[\u001b[0m\u001b[34;49mnotice\u001b[0m\u001b[1;39;49m]\u001b[0m\u001b[39;49m To update, run: \u001b[0m\u001b[32;49mpip install --upgrade pip\u001b[0m\n"
     ]
    }
   ],
   "source": [
    "!pip install -r requirements.txt"
   ]
  },
  {
   "cell_type": "markdown",
   "id": "f98a3532-1ed4-4671-bea4-5e35f64da2bf",
   "metadata": {},
   "source": [
    "### Model inference parameters\n",
    "\n",
    "The parameters to the fine tuned model."
   ]
  },
  {
   "cell_type": "code",
   "execution_count": 2,
   "id": "304b4bcd-ed99-4d70-aa8a-b4586a9a4966",
   "metadata": {
    "ExecuteTime": {
     "end_time": "2024-11-11T17:29:44.003314Z",
     "start_time": "2024-11-11T17:29:43.622611Z"
    },
    "tags": []
   },
   "outputs": [],
   "source": [
    "import requests\n",
    "import os\n",
    "import yaml\n",
    "import json\n",
    "import re\n",
    "import time\n",
    "import pandas as pd\n",
    "import torch\n",
    "\n",
    "from typing import Iterator\n",
    "from pathlib import Path\n",
    "from openai import OpenAI\n",
    "\n",
    "from langchain.document_loaders import PyPDFDirectoryLoader\n",
    "from langchain.text_splitter import RecursiveCharacterTextSplitter\n",
    "from langchain.embeddings.huggingface import HuggingFaceEmbeddings\n",
    "from langchain.prompts import PromptTemplate\n",
    "\n",
    "from langchain_core.runnables import RunnablePassthrough\n",
    "from langchain_core.output_parsers import StrOutputParser\n",
    "from langchain_core.document_loaders import BaseLoader\n",
    "from langchain_core.documents import Document as LCDocument\n",
    "\n",
    "from langchain_openai import ChatOpenAI\n",
    "from langchain_community.llms import VLLMOpenAI\n",
    "from langchain_milvus import Milvus\n",
    "from langchain_text_splitters import RecursiveCharacterTextSplitter\n",
    "\n",
    "from docling.document_converter import DocumentConverter\n"
   ]
  },
  {
   "cell_type": "code",
   "execution_count": 3,
   "id": "850fa004651738c5",
   "metadata": {
    "ExecuteTime": {
     "end_time": "2024-11-11T16:06:05.072056Z",
     "start_time": "2024-11-11T16:06:05.068240Z"
    }
   },
   "outputs": [
    {
     "data": {
      "text/plain": [
       "False"
      ]
     },
     "execution_count": 3,
     "metadata": {},
     "output_type": "execute_result"
    }
   ],
   "source": [
    "import os\n",
    "\n",
    "from dotenv import load_dotenv\n",
    "\n",
    "load_dotenv()"
   ]
  },
  {
   "cell_type": "code",
   "execution_count": 4,
   "id": "681ca2a6-523d-4a83-a102-270f5747bb00",
   "metadata": {
    "ExecuteTime": {
     "end_time": "2024-11-11T16:49:29.825470Z",
     "start_time": "2024-11-11T16:49:29.823451Z"
    },
    "tags": []
   },
   "outputs": [],
   "source": [
    "MAX_TOKENS=2048\n",
    "TEMPERATURE=0.00"
   ]
  },
  {
   "cell_type": "markdown",
   "id": "47a2c060-ea3e-4bbe-8f3a-3c2e5605c2e4",
   "metadata": {},
   "source": [
    "### Milvus connection info\n",
    "\n",
    "Defaults to local db"
   ]
  },
  {
   "cell_type": "code",
   "execution_count": 5,
   "id": "b655969f-53fb-4917-8a7e-1ee480402524",
   "metadata": {
    "ExecuteTime": {
     "end_time": "2024-11-11T16:49:30.422387Z",
     "start_time": "2024-11-11T16:49:30.420015Z"
    },
    "tags": []
   },
   "outputs": [],
   "source": [
    "MILVUS_URI = os.getenv(\"MILVUS_URI\", \"./milvus_local.db\")\n",
    "MILVUS_USERNAME = os.getenv(\"MILVUS_USERNAME\", \"\")\n",
    "MILVUS_PASSWORD = os.getenv(\"MILVUS_PASSWORD\", \"\")\n",
    "MILVUS_COLLECTION = os.getenv(\"MILVUS_COLLECTION\", \"my_org_documents\")"
   ]
  },
  {
   "cell_type": "markdown",
   "id": "3420575b-4d00-458b-aa0e-7030008ccd53",
   "metadata": {},
   "source": [
    "## Sanity check model"
   ]
  },
  {
   "cell_type": "code",
   "execution_count": 6,
   "id": "a20e7d20fe421c6",
   "metadata": {
    "ExecuteTime": {
     "end_time": "2024-11-11T17:35:05.934496Z",
     "start_time": "2024-11-11T17:35:05.931578Z"
    }
   },
   "outputs": [],
   "source": [
    "def create_llm(testing_config):\n",
    "    if testing_config.get(\"model_type\") == \"openai\":\n",
    "        print(\"Creating OpenAI model\")\n",
    "        return ChatOpenAI(\n",
    "            openai_api_key=re.sub(r\"\\s+\", \"\", testing_config[\"api_key\"]),\n",
    "            model=testing_config[\"model_name\"],\n",
    "            streaming=False\n",
    "        )\n",
    "    print(\"Creating VLLM model\")\n",
    "    return VLLMOpenAI(\n",
    "        openai_api_key=re.sub(r\"\\s+\", \"\", testing_config[\"api_key\"]),\n",
    "        openai_api_base=testing_config[\"endpoint_url\"], #https://model...com/v1\n",
    "        model_name=testing_config[\"model_name\"],\n",
    "        temperature=0.00,\n",
    "        max_tokens=2048,\n",
    "        streaming=False\n",
    "    )\n",
    "\n",
    "def qna_request(llm, template_str, question):\n",
    "    num_retries = 1\n",
    "    for attempt in range(num_retries):\n",
    "        try:\n",
    "            prompt = PromptTemplate.from_template(template_str)\n",
    "            chain = prompt | llm | StrOutputParser()\n",
    "            answer = chain.invoke({\"question\": question})\n",
    "            print(answer)\n",
    "            return answer.strip()\n",
    "        except Exception as e:\n",
    "            print(f\"Request failed: {e}\")\n",
    "            if attempt + 1 < num_retries:\n",
    "                print(f\"Retrying in 5 seconds...\")\n",
    "                time.sleep(5)\n",
    "            else:\n",
    "                return \"\"\n"
   ]
  },
  {
   "cell_type": "code",
   "execution_count": 7,
   "id": "69188d06-d31e-4239-8be8-fdda029bfc0f",
   "metadata": {
    "ExecuteTime": {
     "end_time": "2024-11-11T17:37:00.611124Z",
     "start_time": "2024-11-11T17:36:59.335850Z"
    },
    "tags": []
   },
   "outputs": [
    {
     "name": "stdout",
     "output_type": "stream",
     "text": [
      "Creating VLLM model\n",
      "The State Share for the Gateway Tunnel Project is 1.3 billion dollars. This information is accurate as of the time of the response. The Gateway Tunnel Project is a significant infrastructure initiative in the United States, and the State Share represents the financial commitment of one of the project's partners, which is New York State.\n"
     ]
    },
    {
     "data": {
      "text/plain": [
       "\"The State Share for the Gateway Tunnel Project is 1.3 billion dollars. This information is accurate as of the time of the response. The Gateway Tunnel Project is a significant infrastructure initiative in the United States, and the State Share represents the financial commitment of one of the project's partners, which is New York State.\""
      ]
     },
     "execution_count": 7,
     "metadata": {},
     "output_type": "execute_result"
    }
   ],
   "source": [
    "with open(\"llm_config.yaml\", \"r\") as f:\n",
    "    llm_config = yaml.safe_load(f)\n",
    "\n",
    "llm = create_llm(llm_config[\"testing_config\"][0])\n",
    "template_str = llm_config[\"testing_config\"][0][\"qna_template\"]\n",
    "\n",
    "question = \" What is the State Share for the Gateway Tunnel Project?\"\n",
    "qna_request(llm, template_str, question)"
   ]
  },
  {
   "cell_type": "markdown",
   "id": "c961a7ae-d9d9-4cbc-9926-e1acaa6bc0f0",
   "metadata": {},
   "source": [
    "## Creating an Milvus DB with documents"
   ]
  },
  {
   "cell_type": "markdown",
   "id": "28f598eb-8665-4240-91c0-3cc178aad88c",
   "metadata": {},
   "source": [
    "## Initial index creation and document ingestion"
   ]
  },
  {
   "cell_type": "markdown",
   "id": "f8cff5f7-c509-48db-90b5-e15815b8b530",
   "metadata": {},
   "source": [
    "#### Load pdfs"
   ]
  },
  {
   "cell_type": "code",
   "execution_count": 8,
   "id": "54db9a89a16c5c07",
   "metadata": {
    "ExecuteTime": {
     "end_time": "2024-11-11T16:49:56.980781Z",
     "start_time": "2024-11-11T16:49:56.976636Z"
    }
   },
   "outputs": [],
   "source": [
    "class DoclingPDFLoader(BaseLoader):\n",
    "\n",
    "    def __init__(self, file_path: str | list[str]) -> None:\n",
    "        self._file_paths = file_path if isinstance(file_path, list) else [file_path]\n",
    "        self._converter = DocumentConverter()\n",
    "\n",
    "    def lazy_load(self) -> Iterator[LCDocument]:\n",
    "        for source in self._file_paths:\n",
    "            dl_doc = self._converter.convert(source).document\n",
    "            text = dl_doc.export_to_markdown()\n",
    "            yield LCDocument(page_content=text)"
   ]
  },
  {
   "cell_type": "code",
   "execution_count": 9,
   "id": "2a968a5dd3653176",
   "metadata": {
    "ExecuteTime": {
     "end_time": "2024-11-11T16:50:01.311171Z",
     "start_time": "2024-11-11T16:50:01.306759Z"
    }
   },
   "outputs": [
    {
     "data": {
      "text/plain": [
       "['source_docs/ny_budget/fy25cp-en.pdf',\n",
       " 'source_docs/policies/telecommuting/its-p10-003-its-telecommuting-policy.pdf']"
      ]
     },
     "execution_count": 9,
     "metadata": {},
     "output_type": "execute_result"
    }
   ],
   "source": [
    "pdf_folder_path = \"./source_docs\"\n",
    "file_paths = [str(path) for path in Path(pdf_folder_path).rglob('*.pdf')]\n",
    "file_paths"
   ]
  },
  {
   "cell_type": "code",
   "execution_count": 10,
   "id": "d9a38809-2915-4376-a847-0cec2abbfd0b",
   "metadata": {
    "ExecuteTime": {
     "end_time": "2024-11-11T16:50:06.934538Z",
     "start_time": "2024-11-11T16:50:06.871430Z"
    }
   },
   "outputs": [],
   "source": [
    "loader = DoclingPDFLoader(file_path=file_paths)"
   ]
  },
  {
   "cell_type": "markdown",
   "id": "4198fe0a-38bf-4cd4-af7d-35b41c645edd",
   "metadata": {},
   "source": [
    "#### Split documents into chunks with some overlap"
   ]
  },
  {
   "cell_type": "code",
   "execution_count": 11,
   "id": "6362934767fd34ad",
   "metadata": {
    "ExecuteTime": {
     "end_time": "2024-11-11T16:50:42.830019Z",
     "start_time": "2024-11-11T16:50:08.192123Z"
    }
   },
   "outputs": [
    {
     "data": {
      "application/vnd.jupyter.widget-view+json": {
       "model_id": "7eaa1106aac34ca98d161df2d92029cb",
       "version_major": 2,
       "version_minor": 0
      },
      "text/plain": [
       "Fetching 9 files:   0%|          | 0/9 [00:00<?, ?it/s]"
      ]
     },
     "metadata": {},
     "output_type": "display_data"
    },
    {
     "name": "stdout",
     "output_type": "stream",
     "text": [
      "\u001b[91m*ERR* --- *ERR*\u001b[0m\n",
      "\u001b[91m*ERR* Table is not square! *ERR*\u001b[0m\n",
      "\u001b[93m*Padding to square...*\u001b[0m\n",
      "\u001b[91m*ERR* --- *ERR*\u001b[0m\n",
      "\u001b[91m*ERR* Table is not square! *ERR*\u001b[0m\n",
      "\u001b[93m*Padding to square...*\u001b[0m\n",
      "\u001b[91m*ERR* --- *ERR*\u001b[0m\n",
      "\u001b[91m*ERR* Table is not square! *ERR*\u001b[0m\n",
      "\u001b[93m*Padding to square...*\u001b[0m\n",
      "ERR#: COULD NOT CONVERT TO RS THIS TABLE TO COMPUTE SPANS\n",
      "\u001b[91m*ERR* --- *ERR*\u001b[0m\n",
      "\u001b[91m*ERR* Table is not square! *ERR*\u001b[0m\n",
      "\u001b[93m*Padding to square...*\u001b[0m\n"
     ]
    },
    {
     "data": {
      "text/plain": [
       "Document(metadata={}, page_content='<!-- image -->\\n\\n<!-- image -->')"
      ]
     },
     "execution_count": 11,
     "metadata": {},
     "output_type": "execute_result"
    }
   ],
   "source": [
    "text_splitter = RecursiveCharacterTextSplitter(\n",
    "    chunk_size=1024,\n",
    "    chunk_overlap=100,\n",
    ")\n",
    "\n",
    "docs = loader.load()\n",
    "all_splits = text_splitter.split_documents(docs)\n",
    "all_splits[0]"
   ]
  },
  {
   "cell_type": "markdown",
   "id": "7ae7eae2-c670-4eb5-803b-b4d591fa83db",
   "metadata": {},
   "source": [
    "#### Create the index and ingest the documents"
   ]
  },
  {
   "cell_type": "code",
   "execution_count": 12,
   "id": "53eb6d94-8615-4d55-b5b1-102f9ce56e6b",
   "metadata": {
    "ExecuteTime": {
     "end_time": "2024-11-11T16:56:48.879756Z",
     "start_time": "2024-11-11T16:56:44.521087Z"
    }
   },
   "outputs": [
    {
     "name": "stderr",
     "output_type": "stream",
     "text": [
      "/tmp/ipykernel_2377/3330881644.py:8: LangChainDeprecationWarning: The class `HuggingFaceEmbeddings` was deprecated in LangChain 0.2.2 and will be removed in 1.0. An updated version of the class exists in the :class:`~langchain-huggingface package and should be used instead. To use it run `pip install -U :class:`~langchain-huggingface` and import as `from :class:`~langchain_huggingface import HuggingFaceEmbeddings``.\n",
      "  embeddings = HuggingFaceEmbeddings(\n",
      "<All keys matched successfully>\n"
     ]
    }
   ],
   "source": [
    "device = (\n",
    "    \"cuda\" if torch.cuda.is_available()\n",
    "    else \"mps\" if torch.backends.mps.is_available()\n",
    "    else \"cpu\"\n",
    ")\n",
    "\n",
    "model_kwargs = {\"trust_remote_code\": True, \"device\": device}\n",
    "embeddings = HuggingFaceEmbeddings(\n",
    "    model_name=\"nomic-ai/nomic-embed-text-v1.5\",\n",
    "    model_kwargs=model_kwargs,\n",
    "    show_progress=True\n",
    ")\n",
    "\n",
    "db = Milvus(\n",
    "    embedding_function=embeddings,\n",
    "    connection_args={\n",
    "        \"uri\": MILVUS_URI,\n",
    "        \"user\": MILVUS_USERNAME, \n",
    "        \"password\": MILVUS_PASSWORD\n",
    "    },\n",
    "    collection_name=MILVUS_COLLECTION,\n",
    "    auto_id=True,\n",
    "    drop_old=True\n",
    ")\n"
   ]
  },
  {
   "cell_type": "code",
   "execution_count": 13,
   "id": "b6bf425b-dffd-4f42-9537-49d41383182d",
   "metadata": {
    "ExecuteTime": {
     "end_time": "2024-11-11T16:56:54.933505Z",
     "start_time": "2024-11-11T16:56:52.374042Z"
    },
    "tags": []
   },
   "outputs": [
    {
     "data": {
      "application/vnd.jupyter.widget-view+json": {
       "model_id": "d349f805bf1b4f009d8cc52225b73c5b",
       "version_major": 2,
       "version_minor": 0
      },
      "text/plain": [
       "Batches:   0%|          | 0/120 [00:00<?, ?it/s]"
      ]
     },
     "metadata": {},
     "output_type": "display_data"
    },
    {
     "name": "stdout",
     "output_type": "stream",
     "text": [
      "3829 documents loaded.\n"
     ]
    }
   ],
   "source": [
    "loaded = db.add_documents(all_splits)\n",
    "print(f\"{len(loaded)} documents loaded.\")"
   ]
  },
  {
   "cell_type": "markdown",
   "id": "dae3b458-4979-46df-8493-7496764a2568",
   "metadata": {},
   "source": [
    "#### Test vector DB search"
   ]
  },
  {
   "cell_type": "code",
   "execution_count": 14,
   "id": "489c6e6d-c42c-4de4-87cf-8edfd0e63da3",
   "metadata": {
    "ExecuteTime": {
     "end_time": "2024-11-11T16:57:07.580787Z",
     "start_time": "2024-11-11T16:57:07.452690Z"
    },
    "tags": []
   },
   "outputs": [
    {
     "data": {
      "application/vnd.jupyter.widget-view+json": {
       "model_id": "0a8d85bfb1be45558a5345a70f0d317c",
       "version_major": 2,
       "version_minor": 0
      },
      "text/plain": [
       "Batches:   0%|          | 0/1 [00:00<?, ?it/s]"
      ]
     },
     "metadata": {},
     "output_type": "display_data"
    }
   ],
   "source": [
    "query = \"What percentage of existing State-related debt is projected to be retired in 15 years?\"\n",
    "docs_with_score = db.similarity_search_with_score(query)"
   ]
  },
  {
   "cell_type": "code",
   "execution_count": 15,
   "id": "90feeb37-7888-4c5f-a5cb-5f82637cec16",
   "metadata": {
    "ExecuteTime": {
     "end_time": "2024-11-11T16:57:08.188369Z",
     "start_time": "2024-11-11T16:57:08.185890Z"
    },
    "tags": []
   },
   "outputs": [
    {
     "name": "stdout",
     "output_type": "stream",
     "text": [
      "--------------------------------------------------------------------------------\n",
      "Score:  167.80189514160156\n",
      "## $^{ }$State Debt as a Percent of Personal Income\n",
      "\n",
      "The State debt projections from FY 2025 to FY 2029 reflect a 9.8 percent average annual increase in debt levels and 4.1 percent average annual increase in statewide personal income. As a result, debt as a percentage of personal income is expected to increase over the five-year Plan period, from 3.9 percent in FY 2025 to 4.8 percent in FY 2029.\n",
      "\n",
      "Over a longer time horizon, State-related debt outstanding as a percentage of personal income is projected to drop from 5.0 percent in FY 2015 to 4.8 percent in FY 2029. This decline can be largely attributed to the retirement of State debt, which has accelerated over the past three years due to early retirement (defeasance) of debt due to prepayments. Over the last ten-years debt has remained virtually the same at $54.3 billion and personal income grew at 4.0 percent annually, which has resulted in debt to PI declining to 3.5 percent today.\n",
      "\n",
      "<!-- image -->\n",
      "\n",
      "<!-- image -->\n",
      "--------------------------------------------------------------------------------\n",
      "--------------------------------------------------------------------------------\n",
      "Score:  168.49005126953125\n",
      "Over the next five years, retirements of State-related debt are projected to average $2.2 billion annually. Retirements projected in FY 2025 of $594 million are substantially below the annual average due to the early retirement of bonds as part of debt prepayments. The following pie charts provide a distribution of projected debt retirements for FY 2025 by both functional area and financing program.\n",
      "\n",
      "<!-- image -->\n",
      "\n",
      "Debt Retirements by Credit Structure $594 Projected in FY 2025 Budget (millions of dollars)\n",
      "\n",
      "<!-- image -->\n",
      "\n",
      "<!-- image -->\n",
      "\n",
      "<!-- image -->\n",
      "\n",
      "## FY 2025 Debt Outstanding\n",
      "--------------------------------------------------------------------------------\n",
      "--------------------------------------------------------------------------------\n",
      "Score:  172.22923278808594\n",
      "## $^{ }$Debt Retirements\n",
      "\n",
      "The State expects to retire $594 million of debt in FY 2025, approximately $767 million (56 percent) less than in FY 2024. The decrease in retirements is largely due to prior prepayments, which resulted in the early retirement (defeasance) of $3.0 billion of bonds that had been scheduled to retire in FY 2025. Additional retirements beyond the level projected in FY 2025 are possible through debt management actions. Debt retirements are projected to average $2.2 billion annually over the Capital Plan period.\n",
      "\n",
      "<!-- image -->\n",
      "\n",
      "## Debt Service\n",
      "--------------------------------------------------------------------------------\n",
      "--------------------------------------------------------------------------------\n",
      "Score:  183.7914581298828\n",
      "## RAPIDITY OF NEW YORK STATE DEBT RETIREMENTS\n",
      "\n",
      "| Period   | Cumulative Percentage of Existing Debt to  be Retired 1   |\n",
      "|----------|-----------------------------------------------------------|\n",
      "| 5 years  | 14%                                                       |\n",
      "| 10 years | 40%                                                       |\n",
      "| 15 years | 59%                                                       |\n",
      "| 20 years | 77%                                                       |\n",
      "| 25 years | 92%                                                       |\n",
      "| 30 years | 98%                                                       |\n",
      "| 40 years | 100%                                                      |\n",
      "--------------------------------------------------------------------------------\n"
     ]
    }
   ],
   "source": [
    "for doc, score in docs_with_score:\n",
    "    print(\"-\" * 80)\n",
    "    print(\"Score: \", score)\n",
    "    print(doc.page_content)\n",
    "    print(\"-\" * 80)"
   ]
  },
  {
   "cell_type": "markdown",
   "id": "05d47df1-ec9b-4571-8864-0c2ff1051dbf",
   "metadata": {},
   "source": [
    "#### Test out RAG request"
   ]
  },
  {
   "cell_type": "code",
   "execution_count": 16,
   "id": "289b702a5f57bd69",
   "metadata": {
    "ExecuteTime": {
     "end_time": "2024-11-11T17:42:28.713525Z",
     "start_time": "2024-11-11T17:42:28.707064Z"
    }
   },
   "outputs": [],
   "source": [
    "retriever = db.as_retriever(search_type=\"similarity\", search_kwargs={\"k\": 4})\n",
    "\n",
    "def format_docs(docs):\n",
    "    return \"\\n\\n\".join(doc.page_content for doc in docs)\n",
    "\n",
    "def rag_request(llm, template_str, question):\n",
    "    num_retries = 1\n",
    "    for attempt in range(num_retries):\n",
    "        try:\n",
    "            prompt = PromptTemplate.from_template(template_str)\n",
    "            rag_chain = (\n",
    "                    {\"context\": retriever | format_docs, \"question\": RunnablePassthrough()}\n",
    "                    | prompt\n",
    "                    | llm\n",
    "                    | StrOutputParser()\n",
    "            )\n",
    "            response = rag_chain.invoke(question)\n",
    "            return response.strip()\n",
    "        except Exception as e:\n",
    "            print(f\"Request failed: {e}\")\n",
    "            if attempt < num_retries:\n",
    "                print(f\"Retrying in 5 seconds...\")\n",
    "                time.sleep(5)\n",
    "            else:\n",
    "                return \"\""
   ]
  },
  {
   "cell_type": "code",
   "execution_count": 17,
   "id": "7f7855c9fe2ced63",
   "metadata": {
    "ExecuteTime": {
     "end_time": "2024-11-11T17:42:31.797639Z",
     "start_time": "2024-11-11T17:42:29.799731Z"
    }
   },
   "outputs": [
    {
     "name": "stdout",
     "output_type": "stream",
     "text": [
      "Creating VLLM model\n"
     ]
    },
    {
     "data": {
      "application/vnd.jupyter.widget-view+json": {
       "model_id": "dbbbc99afa7a46839c5befe6c755de1c",
       "version_major": 2,
       "version_minor": 0
      },
      "text/plain": [
       "Batches:   0%|          | 0/1 [00:00<?, ?it/s]"
      ]
     },
     "metadata": {},
     "output_type": "display_data"
    },
    {
     "data": {
      "text/plain": [
       "'The percentage of existing State-related debt projected to be retired in 15 years is 59%. This information can be found in the table provided in the context, which shows the cumulative percentage of existing debt to be retired for different periods. In this case, 59% of the existing debt is projected to be retired in 15 years.'"
      ]
     },
     "execution_count": 17,
     "metadata": {},
     "output_type": "execute_result"
    }
   ],
   "source": [
    "llm = create_llm(llm_config[\"testing_config\"][0])\n",
    "template_str = llm_config[\"testing_config\"][0][\"rag_template\"]\n",
    "\n",
    "question = \"What percentage of existing State-related debt is projected to be retired in 15 years?\"\n",
    "result = rag_request(llm, template_str, question)\n",
    "result"
   ]
  },
  {
   "cell_type": "markdown",
   "id": "f9fe9c8d763f89d3",
   "metadata": {},
   "source": [
    "## Generate Answers"
   ]
  },
  {
   "cell_type": "markdown",
   "id": "7f44deb49353ef15",
   "metadata": {},
   "source": [
    "### Use qna.yaml to create some questions and ground truth answers"
   ]
  },
  {
   "cell_type": "code",
   "execution_count": 18,
   "id": "ff9e1bdb-8841-4e83-a620-2b239f35281d",
   "metadata": {
    "ExecuteTime": {
     "end_time": "2024-11-11T17:42:50.883811Z",
     "start_time": "2024-11-11T17:42:50.857132Z"
    }
   },
   "outputs": [
    {
     "name": "stdout",
     "output_type": "stream",
     "text": [
      "source_docs/ny_budget/qna.yaml\n"
     ]
    }
   ],
   "source": [
    "with open(\"llm_config.yaml\", \"r\") as f:\n",
    "    llm_config = yaml.safe_load(f)\n",
    "\n",
    "directory = \"./source_docs\"\n",
    "output_directory = llm_config.get(\"name\", \"output\")\n",
    "os.makedirs(output_directory, exist_ok=True)\n",
    "\n",
    "qna_list = []\n",
    "\n",
    "for file_path in Path(directory).rglob('qna.yaml'):\n",
    "    print(file_path)\n",
    "    if not file_path.name == 'qna.yaml':\n",
    "        continue\n",
    "    with open(file_path) as file:\n",
    "        qna = yaml.load(file, Loader=yaml.FullLoader)\n",
    "        for seed_example in qna[\"seed_examples\"]:\n",
    "            for questions_and_answers in seed_example[\"questions_and_answers\"]:\n",
    "                qna_list.append(\n",
    "                    {\n",
    "                        \"question\": questions_and_answers[\"question\"].strip(),\n",
    "                        \"ground_truth\": questions_and_answers[\"answer\"].strip()                     \n",
    "                    }\n",
    "                )\n",
    "                \n",
    "# print(qna_list)\n",
    "\n",
    "qna_df = pd.DataFrame(qna_list)\n",
    "# df.to_csv('qna.csv', index=False)\n",
    "qna_df.to_json(f\"{output_directory}/qna.jsonl\", orient=\"records\", lines=True)\n"
   ]
  },
  {
   "cell_type": "markdown",
   "id": "621433ec840ce28b",
   "metadata": {},
   "source": [
    "## Get responses from each of the available models with and without RAG"
   ]
  },
  {
   "cell_type": "code",
   "execution_count": 19,
   "id": "45ba1106-731a-4477-877e-2c0769fb6e0e",
   "metadata": {
    "ExecuteTime": {
     "end_time": "2024-11-11T17:44:24.813221Z",
     "start_time": "2024-11-11T17:42:59.236414Z"
    }
   },
   "outputs": [
    {
     "name": "stdout",
     "output_type": "stream",
     "text": [
      "Creating VLLM model\n",
      "0 Are some of the State's transformative infrastructure projects financed outside of the State budget?\n",
      "Yes, some of the State's transformative infrastructure projects are financed outside of the State budget. This means that these projects receive funding from sources other than the State's regular budget. This can include funding from federal grants, public-private partnerships, or other external sources. By leveraging external funding, the State can potentially offset the cost of these large-scale projects, make them more financially viable, and avoid increasing taxes for residents.\n",
      "QnA Answer: Yes, some of the State's transformative \n"
     ]
    },
    {
     "data": {
      "application/vnd.jupyter.widget-view+json": {
       "model_id": "1138757e007e427a8e192ad15c6dd4a5",
       "version_major": 2,
       "version_minor": 0
      },
      "text/plain": [
       "Batches:   0%|          | 0/1 [00:00<?, ?it/s]"
      ]
     },
     "metadata": {},
     "output_type": "display_data"
    },
    {
     "name": "stdout",
     "output_type": "stream",
     "text": [
      "RAG Answer: Yes, some of the State's transformative \n",
      "1 What is the State Share for the Gateway Tunnel Project?\n",
      "The State Share for the Gateway Tunnel Project is 1.3 billion dollars. This information is accurate as of the time of the response. The Gateway Tunnel Project is a significant infrastructure initiative in the United States, involving the construction of a new two-track tunnel under the Hudson River between New York and New Jersey. The project has a total estimated cost of 16.0 billion dollars, with the State Share being the portion that the State of New Jersey is responsible for financing.\n",
      "QnA Answer: The State Share for the Gateway Tunnel P\n"
     ]
    },
    {
     "data": {
      "application/vnd.jupyter.widget-view+json": {
       "model_id": "eee9df9c43934b37a286e02b4ba38cb4",
       "version_major": 2,
       "version_minor": 0
      },
      "text/plain": [
       "Batches:   0%|          | 0/1 [00:00<?, ?it/s]"
      ]
     },
     "metadata": {},
     "output_type": "display_data"
    },
    {
     "name": "stdout",
     "output_type": "stream",
     "text": [
      "RAG Answer: The State Share for the Gateway Tunnel P\n",
      "2 Who are the funding partners for the State's transformative infrastructure projects?\n",
      "The funding partners for the State's transformative infrastructure projects are the State, local governments, the Federal government, public authorities, and private entities. This means that the State, along with various levels of government and private organizations, contribute financially to these significant projects. The specific allocation of funds and the roles of each partner can vary depending on the project, but this general structure is common in large-scale infrastructure development.\n",
      "QnA Answer: The funding partners for the State's tra\n"
     ]
    },
    {
     "data": {
      "application/vnd.jupyter.widget-view+json": {
       "model_id": "ecf5f3b90e7b4285b82cf7fc5ab893bb",
       "version_major": 2,
       "version_minor": 0
      },
      "text/plain": [
       "Batches:   0%|          | 0/1 [00:00<?, ?it/s]"
      ]
     },
     "metadata": {},
     "output_type": "display_data"
    },
    {
     "name": "stdout",
     "output_type": "stream",
     "text": [
      "RAG Answer: The funding partners for the State's tra\n",
      "3 What percent of State capital spending in FY 2025 is expected to be supported from Federal aid?\n",
      "The answer is 20 percent. This means that 20 percent of the State's capital spending in FY 2025 is expected to be funded by Federal aid. This information can be useful for understanding the role of Federal funding in the State's capital program and for making informed decisions about resource allocation.\n",
      "QnA Answer: The answer is 20 percent. This means tha\n"
     ]
    },
    {
     "data": {
      "application/vnd.jupyter.widget-view+json": {
       "model_id": "794c4dec669b47fda93f9fb10d9f1393",
       "version_major": 2,
       "version_minor": 0
      },
      "text/plain": [
       "Batches:   0%|          | 0/1 [00:00<?, ?it/s]"
      ]
     },
     "metadata": {},
     "output_type": "display_data"
    },
    {
     "name": "stdout",
     "output_type": "stream",
     "text": [
      "RAG Answer: 19 percent of State capital spending in \n",
      "4 Is capital spending expected to increase in FY 2025?\n",
      "Yes, capital spending is indeed expected to rise in FY 2025. This projection is based on the information provided in the question, which suggests that there is a positive outlook for capital spending in the fiscal year. However, it's important to note that the exact percentage or amount of the increase may not be specified in the response. Nonetheless, the fact that capital spending is anticipated to grow is a clear indication of a positive economic development.\n",
      "QnA Answer: Yes, capital spending is indeed expected\n"
     ]
    },
    {
     "data": {
      "application/vnd.jupyter.widget-view+json": {
       "model_id": "3b8604a865164fe588be6aec4efd9318",
       "version_major": 2,
       "version_minor": 0
      },
      "text/plain": [
       "Batches:   0%|          | 0/1 [00:00<?, ?it/s]"
      ]
     },
     "metadata": {},
     "output_type": "display_data"
    },
    {
     "name": "stdout",
     "output_type": "stream",
     "text": [
      "RAG Answer: Yes, capital spending is expected to inc\n",
      "5 Why is State capital spending projected to increase in FY 2025?\n",
      "State capital spending is projected to increase in FY 2025 due to increased investments in economic development. This is because the state aims to create jobs, strengthen the economy, and generate economic opportunities by investing in various sectors such as infrastructure, housing, and other key areas.\n",
      "QnA Answer: State capital spending is projected to i\n"
     ]
    },
    {
     "data": {
      "application/vnd.jupyter.widget-view+json": {
       "model_id": "6b2e3eadda34480f8738c774c840be82",
       "version_major": 2,
       "version_minor": 0
      },
      "text/plain": [
       "Batches:   0%|          | 0/1 [00:00<?, ?it/s]"
      ]
     },
     "metadata": {},
     "output_type": "display_data"
    },
    {
     "name": "stdout",
     "output_type": "stream",
     "text": [
      "RAG Answer: State capital spending is projected to i\n",
      "6 What is capital spending for the State projected in FY 2025?\n",
      "The capital spending for the State projected in FY 2025 is $17.7 billion.\n",
      "QnA Answer: The capital spending for the State proje\n"
     ]
    },
    {
     "data": {
      "application/vnd.jupyter.widget-view+json": {
       "model_id": "434803749dad40e9b4ca85de580368d0",
       "version_major": 2,
       "version_minor": 0
      },
      "text/plain": [
       "Batches:   0%|          | 0/1 [00:00<?, ?it/s]"
      ]
     },
     "metadata": {},
     "output_type": "display_data"
    },
    {
     "name": "stdout",
     "output_type": "stream",
     "text": [
      "RAG Answer: Capital spending for the State is projec\n",
      "7 What are new large scale projects in the Five-Year DOT capital plan?\n",
      "The Five-Year DOT Capital Plan includes several new large-scale projects. One of them is the Interborough Express, which is a proposed 10-mile light rail system that will connect Brooklyn, Queens, and the Bronx. This project aims to provide a more efficient and eco-friendly transportation option for the residents of these boroughs. Another significant project is the expansion of the Second Avenue Subway, which will include the addition of a new westward expansion and four new fully ADA compliant stations. This expansion will improve accessibility and provide better connectivity to the Hudson River Line. Additionally, the plan includes the Hunts Point Interstate Access Improvement Project, which will modernize the Hunts Point Interstate Access and improve the efficiency of the truck terminal. These are just a few examples of the new large-scale projects in the Five-Year DOT Capital Plan.\n",
      "QnA Answer: The Five-Year DOT Capital Plan includes \n"
     ]
    },
    {
     "data": {
      "application/vnd.jupyter.widget-view+json": {
       "model_id": "a8c7cd15072140299edbdfb51f520dce",
       "version_major": 2,
       "version_minor": 0
      },
      "text/plain": [
       "Batches:   0%|          | 0/1 [00:00<?, ?it/s]"
      ]
     },
     "metadata": {},
     "output_type": "display_data"
    },
    {
     "name": "stdout",
     "output_type": "stream",
     "text": [
      "RAG Answer: The new large scale projects in the Five\n",
      "8 How much does the DOT Capital plan include for the \"Bridge NY\" program?\n",
      "The DOT Capital Plan includes $1 billion for the \"Bridge NY\" program. This program focuses on the reconstruction, replacement, or repair of bridges across the State of New York, aiming to improve the overall condition and safety of these structures. The $1 billion allocation is part of the larger DOT Capital Plan, which consists of funding for various transportation infrastructure projects across the state.\n",
      "QnA Answer: The DOT Capital Plan includes $1 billion\n"
     ]
    },
    {
     "data": {
      "application/vnd.jupyter.widget-view+json": {
       "model_id": "1b8ec929acd74dfcbbf4763632b14a46",
       "version_major": 2,
       "version_minor": 0
      },
      "text/plain": [
       "Batches:   0%|          | 0/1 [00:00<?, ?it/s]"
      ]
     },
     "metadata": {},
     "output_type": "display_data"
    },
    {
     "name": "stdout",
     "output_type": "stream",
     "text": [
      "RAG Answer: The DOT Capital Plan includes $1 billion\n",
      "9 What percentage of existing State-releated debt is projected to be retired in 15 years?\n",
      "The answer is 14%. This means that, based on current projections, approximately 14% of the existing State-related debt is expected to be retired within 15 years. This percentage is a measure of the State's debt repayment capacity and its ability to manage and reduce its debt over time.\n",
      "QnA Answer: The answer is 14%. This means that, base\n"
     ]
    },
    {
     "data": {
      "application/vnd.jupyter.widget-view+json": {
       "model_id": "72a31bc5275c47478364920227917872",
       "version_major": 2,
       "version_minor": 0
      },
      "text/plain": [
       "Batches:   0%|          | 0/1 [00:00<?, ?it/s]"
      ]
     },
     "metadata": {},
     "output_type": "display_data"
    },
    {
     "name": "stdout",
     "output_type": "stream",
     "text": [
      "RAG Answer: The percentage of existing State-related\n",
      "10 What does 100% State-releated debt retirement represent?\n",
      "100% State-related debt retirement refers to the complete repayment of all debts that are directly linked to the financial operations and responsibilities of a state or sovereign entity. This includes debts issued by the state itself, as well as debts issued by public authorities or agencies on behalf of the state. The term \"retirement\" implies that the debt obligation has been discharged, and the state has no further commitment to make payments on that debt. It is important to note that while the debt is retired, the state may still be liable for any inter-governmental loans or guarantees associated with the debt.\n",
      "QnA Answer: 100% State-related debt retirement refer\n"
     ]
    },
    {
     "data": {
      "application/vnd.jupyter.widget-view+json": {
       "model_id": "8a677a48ffe34cf487596d19408cb144",
       "version_major": 2,
       "version_minor": 0
      },
      "text/plain": [
       "Batches:   0%|          | 0/1 [00:00<?, ?it/s]"
      ]
     },
     "metadata": {},
     "output_type": "display_data"
    },
    {
     "name": "stdout",
     "output_type": "stream",
     "text": [
      "RAG Answer: 100% State-related debt retirement repre\n",
      "11 What impact does the rate of debt retirement have on the State?\n",
      "The rate of debt retirement has a significant impact on the State. When debt is retired at a faster rate, the State can reduce the amount of interest it pays over time. This is because the principal amount of debt decreases, leading to lower interest payments. Additionally, retiring debt more quickly can help the State free up capital for other purposes, as the debt service burden is alleviated. However, it's important to balance the benefits of faster debt retirement with the State's financial resources and priorities, as retiring debt too quickly may hinder the State's ability to invest in critical infrastructure and other essential services.\n",
      "QnA Answer: The rate of debt retirement has a signif\n"
     ]
    },
    {
     "data": {
      "application/vnd.jupyter.widget-view+json": {
       "model_id": "40bebee4226940d293d0ea1ef88426ec",
       "version_major": 2,
       "version_minor": 0
      },
      "text/plain": [
       "Batches:   0%|          | 0/1 [00:00<?, ?it/s]"
      ]
     },
     "metadata": {},
     "output_type": "display_data"
    },
    {
     "name": "stdout",
     "output_type": "stream",
     "text": [
      "RAG Answer: The rate at which State-related debt is \n",
      "12 How much will be appropriated on Community Services Programs for people with development disabilities in FY 2026?\n",
      "The amount appropriated for Community Services Programs for people with development disabilities in FY 2026 is 74 million dollars.\n",
      "QnA Answer: The amount appropriated for Community Se\n"
     ]
    },
    {
     "data": {
      "application/vnd.jupyter.widget-view+json": {
       "model_id": "66956584291145498884feddb9f82c22",
       "version_major": 2,
       "version_minor": 0
      },
      "text/plain": [
       "Batches:   0%|          | 0/1 [00:00<?, ?it/s]"
      ]
     },
     "metadata": {},
     "output_type": "display_data"
    },
    {
     "name": "stdout",
     "output_type": "stream",
     "text": [
      "RAG Answer: The answer cannot be determined from the\n",
      "13 What are the projected appropriations from FY 2025 to FY 2027 for Non-Bondable Projects for people with developmental disabilities?\n",
      "The projected appropriations for Non-Bondable Projects for people with developmental disabilities from FY 2025 to FY 2027 are as follows:\n",
      "\n",
      "* FY 2025: 1,000 thousand dollars\n",
      "* FY 2026: 1,000 thousand dollars\n",
      "* FY 2027: 1,000 thousand dollars\n",
      "\n",
      "These figures remain constant for each fiscal year, indicating a consistent annual appropriation for Non-Bondable Projects.\n",
      "QnA Answer: The projected appropriations for Non-Bon\n"
     ]
    },
    {
     "data": {
      "application/vnd.jupyter.widget-view+json": {
       "model_id": "139a382e97e04abda3ecc557213c81b3",
       "version_major": 2,
       "version_minor": 0
      },
      "text/plain": [
       "Batches:   0%|          | 0/1 [00:00<?, ?it/s]"
      ]
     },
     "metadata": {},
     "output_type": "display_data"
    },
    {
     "name": "stdout",
     "output_type": "stream",
     "text": [
      "RAG Answer: The projected appropriations for Non-Bon\n",
      "14 What is the total projected appropriation on programs for people with development disabilities in FY 2026?\n",
      "The total projected appropriation on programs for people with development disabilities in FY 2026 is 564,692 thousand dollars. This amount is the sum of various programs' funding for that fiscal year, as detailed in the provided document.\n",
      "QnA Answer: The total projected appropriation on pro\n"
     ]
    },
    {
     "data": {
      "application/vnd.jupyter.widget-view+json": {
       "model_id": "100d5f20e6874ea8abd420dab76f06ac",
       "version_major": 2,
       "version_minor": 0
      },
      "text/plain": [
       "Batches:   0%|          | 0/1 [00:00<?, ?it/s]"
      ]
     },
     "metadata": {},
     "output_type": "display_data"
    },
    {
     "name": "stdout",
     "output_type": "stream",
     "text": [
      "RAG Answer: The total projected appropriation on pro\n",
      "Creating VLLM model\n",
      "0 Are some of the State's transformative infrastructure projects financed outside of the State budget?\n"
     ]
    },
    {
     "data": {
      "application/vnd.jupyter.widget-view+json": {
       "model_id": "97c0eb701f7c44d9a70a3bdabfc1534c",
       "version_major": 2,
       "version_minor": 0
      },
      "text/plain": [
       "Batches:   0%|          | 0/1 [00:00<?, ?it/s]"
      ]
     },
     "metadata": {},
     "output_type": "display_data"
    },
    {
     "name": "stdout",
     "output_type": "stream",
     "text": [
      "RAG Answer: Yes, some of the State's transformative \n",
      "1 What is the State Share for the Gateway Tunnel Project?\n"
     ]
    },
    {
     "data": {
      "application/vnd.jupyter.widget-view+json": {
       "model_id": "a88f77cf4cd742e18c0dc7ab78aa336d",
       "version_major": 2,
       "version_minor": 0
      },
      "text/plain": [
       "Batches:   0%|          | 0/1 [00:00<?, ?it/s]"
      ]
     },
     "metadata": {},
     "output_type": "display_data"
    },
    {
     "name": "stdout",
     "output_type": "stream",
     "text": [
      "RAG Answer: The State Share for the Gateway Tunnel P\n",
      "2 Who are the funding partners for the State's transformative infrastructure projects?\n"
     ]
    },
    {
     "data": {
      "application/vnd.jupyter.widget-view+json": {
       "model_id": "61791152ccff43ba98269da7860e142e",
       "version_major": 2,
       "version_minor": 0
      },
      "text/plain": [
       "Batches:   0%|          | 0/1 [00:00<?, ?it/s]"
      ]
     },
     "metadata": {},
     "output_type": "display_data"
    },
    {
     "name": "stdout",
     "output_type": "stream",
     "text": [
      "RAG Answer: The funding partners for the State's tra\n",
      "3 What percent of State capital spending in FY 2025 is expected to be supported from Federal aid?\n"
     ]
    },
    {
     "data": {
      "application/vnd.jupyter.widget-view+json": {
       "model_id": "764eab81af184e8a81803c0e6abb8bac",
       "version_major": 2,
       "version_minor": 0
      },
      "text/plain": [
       "Batches:   0%|          | 0/1 [00:00<?, ?it/s]"
      ]
     },
     "metadata": {},
     "output_type": "display_data"
    },
    {
     "name": "stdout",
     "output_type": "stream",
     "text": [
      "RAG Answer: The answer is 19 percent. This informati\n",
      "4 Is capital spending expected to increase in FY 2025?\n"
     ]
    },
    {
     "data": {
      "application/vnd.jupyter.widget-view+json": {
       "model_id": "e2052887710046229f3c5378cf112f73",
       "version_major": 2,
       "version_minor": 0
      },
      "text/plain": [
       "Batches:   0%|          | 0/1 [00:00<?, ?it/s]"
      ]
     },
     "metadata": {},
     "output_type": "display_data"
    },
    {
     "name": "stdout",
     "output_type": "stream",
     "text": [
      "RAG Answer: Yes, capital spending is expected to inc\n",
      "5 Why is State capital spending projected to increase in FY 2025?\n"
     ]
    },
    {
     "data": {
      "application/vnd.jupyter.widget-view+json": {
       "model_id": "7f334dfa1d5a4e3dac2dc5dfeec3701d",
       "version_major": 2,
       "version_minor": 0
      },
      "text/plain": [
       "Batches:   0%|          | 0/1 [00:00<?, ?it/s]"
      ]
     },
     "metadata": {},
     "output_type": "display_data"
    },
    {
     "name": "stdout",
     "output_type": "stream",
     "text": [
      "RAG Answer: State capital spending is projected to i\n",
      "6 What is capital spending for the State projected in FY 2025?\n"
     ]
    },
    {
     "data": {
      "application/vnd.jupyter.widget-view+json": {
       "model_id": "9d2e2b04b87d492680440c9d2e384a28",
       "version_major": 2,
       "version_minor": 0
      },
      "text/plain": [
       "Batches:   0%|          | 0/1 [00:00<?, ?it/s]"
      ]
     },
     "metadata": {},
     "output_type": "display_data"
    },
    {
     "name": "stdout",
     "output_type": "stream",
     "text": [
      "RAG Answer: Capital spending for the State is projec\n",
      "7 What are new large scale projects in the Five-Year DOT capital plan?\n"
     ]
    },
    {
     "data": {
      "application/vnd.jupyter.widget-view+json": {
       "model_id": "757570c1199e4fbcbbe6f75211392da4",
       "version_major": 2,
       "version_minor": 0
      },
      "text/plain": [
       "Batches:   0%|          | 0/1 [00:00<?, ?it/s]"
      ]
     },
     "metadata": {},
     "output_type": "display_data"
    },
    {
     "name": "stdout",
     "output_type": "stream",
     "text": [
      "RAG Answer: The new large-scale projects in the Five\n",
      "8 How much does the DOT Capital plan include for the \"Bridge NY\" program?\n"
     ]
    },
    {
     "data": {
      "application/vnd.jupyter.widget-view+json": {
       "model_id": "2cad043e782346dcb51dce64020ff429",
       "version_major": 2,
       "version_minor": 0
      },
      "text/plain": [
       "Batches:   0%|          | 0/1 [00:00<?, ?it/s]"
      ]
     },
     "metadata": {},
     "output_type": "display_data"
    },
    {
     "name": "stdout",
     "output_type": "stream",
     "text": [
      "RAG Answer: The DOT Capital plan includes $1 billion\n",
      "9 What percentage of existing State-releated debt is projected to be retired in 15 years?\n"
     ]
    },
    {
     "data": {
      "application/vnd.jupyter.widget-view+json": {
       "model_id": "c337b5012e334608bfc032d29d2adf57",
       "version_major": 2,
       "version_minor": 0
      },
      "text/plain": [
       "Batches:   0%|          | 0/1 [00:00<?, ?it/s]"
      ]
     },
     "metadata": {},
     "output_type": "display_data"
    },
    {
     "name": "stdout",
     "output_type": "stream",
     "text": [
      "RAG Answer: 59% of existing State-related debt is pr\n",
      "10 What does 100% State-releated debt retirement represent?\n"
     ]
    },
    {
     "data": {
      "application/vnd.jupyter.widget-view+json": {
       "model_id": "ff5e488f080e44ada7389ac5fbbb13de",
       "version_major": 2,
       "version_minor": 0
      },
      "text/plain": [
       "Batches:   0%|          | 0/1 [00:00<?, ?it/s]"
      ]
     },
     "metadata": {},
     "output_type": "display_data"
    },
    {
     "name": "stdout",
     "output_type": "stream",
     "text": [
      "RAG Answer: 100% State-related debt retirement repre\n",
      "11 What impact does the rate of debt retirement have on the State?\n"
     ]
    },
    {
     "data": {
      "application/vnd.jupyter.widget-view+json": {
       "model_id": "f705e9516135440697a302cc57cc0c17",
       "version_major": 2,
       "version_minor": 0
      },
      "text/plain": [
       "Batches:   0%|          | 0/1 [00:00<?, ?it/s]"
      ]
     },
     "metadata": {},
     "output_type": "display_data"
    },
    {
     "name": "stdout",
     "output_type": "stream",
     "text": [
      "RAG Answer: The rate at which State-related debt is \n",
      "12 How much will be appropriated on Community Services Programs for people with development disabilities in FY 2026?\n"
     ]
    },
    {
     "data": {
      "application/vnd.jupyter.widget-view+json": {
       "model_id": "a6595c1256654006a237b7dc1d1b0187",
       "version_major": 2,
       "version_minor": 0
      },
      "text/plain": [
       "Batches:   0%|          | 0/1 [00:00<?, ?it/s]"
      ]
     },
     "metadata": {},
     "output_type": "display_data"
    },
    {
     "name": "stdout",
     "output_type": "stream",
     "text": [
      "RAG Answer: The context provided does not include sp\n",
      "13 What are the projected appropriations from FY 2025 to FY 2027 for Non-Bondable Projects for people with developmental disabilities?\n"
     ]
    },
    {
     "data": {
      "application/vnd.jupyter.widget-view+json": {
       "model_id": "cfe0c2fa630c4208b25e194e11f64411",
       "version_major": 2,
       "version_minor": 0
      },
      "text/plain": [
       "Batches:   0%|          | 0/1 [00:00<?, ?it/s]"
      ]
     },
     "metadata": {},
     "output_type": "display_data"
    },
    {
     "name": "stdout",
     "output_type": "stream",
     "text": [
      "RAG Answer: The projected appropriations from FY 202\n",
      "14 What is the total projected appropriation on programs for people with development disabilities in FY 2026?\n"
     ]
    },
    {
     "data": {
      "application/vnd.jupyter.widget-view+json": {
       "model_id": "896a020fa8584c91ad13b3316367a53b",
       "version_major": 2,
       "version_minor": 0
      },
      "text/plain": [
       "Batches:   0%|          | 0/1 [00:00<?, ?it/s]"
      ]
     },
     "metadata": {},
     "output_type": "display_data"
    },
    {
     "name": "stdout",
     "output_type": "stream",
     "text": [
      "RAG Answer: The total projected appropriation on pro\n",
      "Creating OpenAI model\n",
      "0 Are some of the State's transformative infrastructure projects financed outside of the State budget?\n"
     ]
    },
    {
     "data": {
      "application/vnd.jupyter.widget-view+json": {
       "model_id": "75b2f9de27674356a2cf24ad87a9b0b2",
       "version_major": 2,
       "version_minor": 0
      },
      "text/plain": [
       "Batches:   0%|          | 0/1 [00:00<?, ?it/s]"
      ]
     },
     "metadata": {},
     "output_type": "display_data"
    },
    {
     "name": "stdout",
     "output_type": "stream",
     "text": [
      "RAG Answer: Yes, some of the State's transformative \n",
      "1 What is the State Share for the Gateway Tunnel Project?\n"
     ]
    },
    {
     "data": {
      "application/vnd.jupyter.widget-view+json": {
       "model_id": "6c30daa81cf04cf08989c3974764fb42",
       "version_major": 2,
       "version_minor": 0
      },
      "text/plain": [
       "Batches:   0%|          | 0/1 [00:00<?, ?it/s]"
      ]
     },
     "metadata": {},
     "output_type": "display_data"
    },
    {
     "name": "stdout",
     "output_type": "stream",
     "text": [
      "RAG Answer: The State Share for the Gateway Tunnel P\n",
      "2 Who are the funding partners for the State's transformative infrastructure projects?\n"
     ]
    },
    {
     "data": {
      "application/vnd.jupyter.widget-view+json": {
       "model_id": "29b951b244964f3c85be319b3b85bd89",
       "version_major": 2,
       "version_minor": 0
      },
      "text/plain": [
       "Batches:   0%|          | 0/1 [00:00<?, ?it/s]"
      ]
     },
     "metadata": {},
     "output_type": "display_data"
    },
    {
     "name": "stdout",
     "output_type": "stream",
     "text": [
      "RAG Answer: The funding partners for the State's tra\n",
      "3 What percent of State capital spending in FY 2025 is expected to be supported from Federal aid?\n"
     ]
    },
    {
     "data": {
      "application/vnd.jupyter.widget-view+json": {
       "model_id": "fd782dca1c4442cd800fbb58cc9d93a3",
       "version_major": 2,
       "version_minor": 0
      },
      "text/plain": [
       "Batches:   0%|          | 0/1 [00:00<?, ?it/s]"
      ]
     },
     "metadata": {},
     "output_type": "display_data"
    },
    {
     "name": "stdout",
     "output_type": "stream",
     "text": [
      "RAG Answer: 19 percent of State capital spending in \n",
      "4 Is capital spending expected to increase in FY 2025?\n"
     ]
    },
    {
     "data": {
      "application/vnd.jupyter.widget-view+json": {
       "model_id": "f95655fe28dc4f22a4120f72be8da3fb",
       "version_major": 2,
       "version_minor": 0
      },
      "text/plain": [
       "Batches:   0%|          | 0/1 [00:00<?, ?it/s]"
      ]
     },
     "metadata": {},
     "output_type": "display_data"
    },
    {
     "name": "stdout",
     "output_type": "stream",
     "text": [
      "RAG Answer: Yes, capital spending in FY 2025 is proj\n",
      "5 Why is State capital spending projected to increase in FY 2025?\n"
     ]
    },
    {
     "data": {
      "application/vnd.jupyter.widget-view+json": {
       "model_id": "b99397272a60455584eaa2cf3857a37c",
       "version_major": 2,
       "version_minor": 0
      },
      "text/plain": [
       "Batches:   0%|          | 0/1 [00:00<?, ?it/s]"
      ]
     },
     "metadata": {},
     "output_type": "display_data"
    },
    {
     "name": "stdout",
     "output_type": "stream",
     "text": [
      "RAG Answer: State capital spending is projected to i\n",
      "6 What is capital spending for the State projected in FY 2025?\n"
     ]
    },
    {
     "data": {
      "application/vnd.jupyter.widget-view+json": {
       "model_id": "097da1fe32124ddfa67f5abd4b7dd765",
       "version_major": 2,
       "version_minor": 0
      },
      "text/plain": [
       "Batches:   0%|          | 0/1 [00:00<?, ?it/s]"
      ]
     },
     "metadata": {},
     "output_type": "display_data"
    },
    {
     "name": "stdout",
     "output_type": "stream",
     "text": [
      "RAG Answer: Capital spending for the State is projec\n",
      "7 What are new large scale projects in the Five-Year DOT capital plan?\n"
     ]
    },
    {
     "data": {
      "application/vnd.jupyter.widget-view+json": {
       "model_id": "97934fb759994ad0b5242b95a59d1b8c",
       "version_major": 2,
       "version_minor": 0
      },
      "text/plain": [
       "Batches:   0%|          | 0/1 [00:00<?, ?it/s]"
      ]
     },
     "metadata": {},
     "output_type": "display_data"
    },
    {
     "name": "stdout",
     "output_type": "stream",
     "text": [
      "RAG Answer: The new large-scale projects in the Five\n",
      "8 How much does the DOT Capital plan include for the \"Bridge NY\" program?\n"
     ]
    },
    {
     "data": {
      "application/vnd.jupyter.widget-view+json": {
       "model_id": "128f6611b5344efbb40c4c167eaa19dc",
       "version_major": 2,
       "version_minor": 0
      },
      "text/plain": [
       "Batches:   0%|          | 0/1 [00:00<?, ?it/s]"
      ]
     },
     "metadata": {},
     "output_type": "display_data"
    },
    {
     "name": "stdout",
     "output_type": "stream",
     "text": [
      "RAG Answer: The DOT Capital Plan includes $1 billion\n",
      "9 What percentage of existing State-releated debt is projected to be retired in 15 years?\n"
     ]
    },
    {
     "data": {
      "application/vnd.jupyter.widget-view+json": {
       "model_id": "12cc42410c8047c982ba5fc44a6fab0a",
       "version_major": 2,
       "version_minor": 0
      },
      "text/plain": [
       "Batches:   0%|          | 0/1 [00:00<?, ?it/s]"
      ]
     },
     "metadata": {},
     "output_type": "display_data"
    },
    {
     "name": "stdout",
     "output_type": "stream",
     "text": [
      "RAG Answer: 59%\n",
      "10 What does 100% State-releated debt retirement represent?\n"
     ]
    },
    {
     "data": {
      "application/vnd.jupyter.widget-view+json": {
       "model_id": "5def8de3983d40bb95092d395a1a18ab",
       "version_major": 2,
       "version_minor": 0
      },
      "text/plain": [
       "Batches:   0%|          | 0/1 [00:00<?, ?it/s]"
      ]
     },
     "metadata": {},
     "output_type": "display_data"
    },
    {
     "name": "stdout",
     "output_type": "stream",
     "text": [
      "RAG Answer: 100% State-related debt retirement repre\n",
      "11 What impact does the rate of debt retirement have on the State?\n"
     ]
    },
    {
     "data": {
      "application/vnd.jupyter.widget-view+json": {
       "model_id": "1e83c72507d74352b370842e45c24f60",
       "version_major": 2,
       "version_minor": 0
      },
      "text/plain": [
       "Batches:   0%|          | 0/1 [00:00<?, ?it/s]"
      ]
     },
     "metadata": {},
     "output_type": "display_data"
    },
    {
     "name": "stdout",
     "output_type": "stream",
     "text": [
      "RAG Answer: The rate at which debt is retired or pai\n",
      "12 How much will be appropriated on Community Services Programs for people with development disabilities in FY 2026?\n"
     ]
    },
    {
     "data": {
      "application/vnd.jupyter.widget-view+json": {
       "model_id": "2cbbd84b2e0942d8ae4d91554d1ab58b",
       "version_major": 2,
       "version_minor": 0
      },
      "text/plain": [
       "Batches:   0%|          | 0/1 [00:00<?, ?it/s]"
      ]
     },
     "metadata": {},
     "output_type": "display_data"
    },
    {
     "name": "stdout",
     "output_type": "stream",
     "text": [
      "RAG Answer: The text doesn't provide specific inform\n",
      "13 What are the projected appropriations from FY 2025 to FY 2027 for Non-Bondable Projects for people with developmental disabilities?\n"
     ]
    },
    {
     "data": {
      "application/vnd.jupyter.widget-view+json": {
       "model_id": "20fcfab80b824d7c827e0f3ec8da98ac",
       "version_major": 2,
       "version_minor": 0
      },
      "text/plain": [
       "Batches:   0%|          | 0/1 [00:00<?, ?it/s]"
      ]
     },
     "metadata": {},
     "output_type": "display_data"
    },
    {
     "name": "stdout",
     "output_type": "stream",
     "text": [
      "RAG Answer: I'm sorry, but I can't provide the infor\n",
      "14 What is the total projected appropriation on programs for people with development disabilities in FY 2026?\n"
     ]
    },
    {
     "data": {
      "application/vnd.jupyter.widget-view+json": {
       "model_id": "8e8eedd1bd1646a0a3b55ea1b0150bb3",
       "version_major": 2,
       "version_minor": 0
      },
      "text/plain": [
       "Batches:   0%|          | 0/1 [00:00<?, ?it/s]"
      ]
     },
     "metadata": {},
     "output_type": "display_data"
    },
    {
     "name": "stdout",
     "output_type": "stream",
     "text": [
      "RAG Answer: The document does not provide specific f\n"
     ]
    }
   ],
   "source": [
    "import yaml\n",
    "\n",
    "def replace_special_char(original_str):\n",
    "    return re.sub(r\"[^\\w]\", \"_\", original_str)\n",
    "\n",
    "with open(\"llm_config.yaml\", \"r\") as f:\n",
    "    llm_config = yaml.safe_load(f)\n",
    "\n",
    "output_directory = llm_config.get(\"name\", \"output\")\n",
    "os.makedirs(output_directory, exist_ok=True)   \n",
    "    \n",
    "qna_df = pd.read_json(f\"{output_directory}/qna.jsonl\", orient=\"records\", lines=True)\n",
    "\n",
    "for testing_config in llm_config[\"testing_config\"]:\n",
    "    answers = qna_df.copy()\n",
    "    answers[\"answer\"] = \"\"\n",
    "    answers[\"rag_answer\"] = \"\"\n",
    "    llm = create_llm(testing_config)\n",
    "    for index, row in answers.iterrows():\n",
    "        question = row[\"question\"]\n",
    "        print(index, question)\n",
    "        if testing_config.get(\"qna_template\"):\n",
    "            answer = qna_request(llm, testing_config.get(\"qna_template\"), question)\n",
    "            print(\"QnA Answer: \" + answer[:40])\n",
    "            answers.at[index, \"answer\"] = answer\n",
    "        if testing_config.get(\"rag_template\"):\n",
    "            answer = rag_request(llm, testing_config.get(\"rag_template\"), question)\n",
    "            print(\"RAG Answer: \" + answer[:40])\n",
    "            answers.at[index, \"rag_answer\"] = answer\n",
    "    testing_config_name = replace_special_char(testing_config[\"name\" or \"model_name\"])\n",
    "    answers.to_json(f\"{output_directory}/{testing_config_name}_answers.jsonl\", orient=\"records\", lines=True)\n",
    "    # answers.to_csv(f\"{output_directory}/{base_filename}_answers.csv\")"
   ]
  },
  {
   "cell_type": "markdown",
   "id": "71bf0670-0bea-4807-b760-bf442824a17a",
   "metadata": {},
   "source": [
    "## Grade responses using Judge Model"
   ]
  },
  {
   "cell_type": "code",
   "execution_count": 20,
   "id": "13fa5c97-b204-474d-a395-f3acbfb50483",
   "metadata": {
    "ExecuteTime": {
     "end_time": "2024-11-11T17:55:00.708041Z",
     "start_time": "2024-11-11T17:55:00.700102Z"
    }
   },
   "outputs": [],
   "source": [
    "import yaml\n",
    "\n",
    "with open(\"llm_config.yaml\", \"r\") as f:\n",
    "    llm_config = yaml.safe_load(f)\n",
    "\n",
    "output_directory = llm_config.get(\"name\", \"output\")\n",
    "os.makedirs(output_directory, exist_ok=True)"
   ]
  },
  {
   "cell_type": "code",
   "execution_count": 21,
   "id": "b3fde059-0fb1-4075-8e23-8609a33cad9a",
   "metadata": {
    "ExecuteTime": {
     "end_time": "2024-11-11T18:11:45.782848Z",
     "start_time": "2024-11-11T18:11:45.779906Z"
    }
   },
   "outputs": [],
   "source": [
    "from langchain.prompts import PromptTemplate\n",
    "\n",
    "scoring_template_str = \"\"\"You are an evaluation system tasked with assessing the answer quality of a AI generated response in relation to the posed question and reference answer. Assess if the response is correct, accurate, and factual based on the reference answer. Evaluate the answer_quality as:\n",
    "    - Score 1: The response is completely incorrect, inaccurate, and/or not factual.\n",
    "    - Score 2: The response is mostly incorrect, inaccurate, and/or not factual.\n",
    "    - Score 3: The response is somewhat correct, accurate, and/or factual.\n",
    "    - Score 4: The response is mostly correct, accurate, and factual.\n",
    "    - Score 5: The response is completely correct, accurate, and factual.\n",
    "    Here is the question: \\n ------- \\n {question} \\n -------\n",
    "    Here is model answer: \\n ------- \\n {answer} \\n -------\n",
    "    Here is the reference answer(may be very short and lack details or indirect, long and extractive):  \\n ------- \\n {reference_answer} \\n ------- \\n\n",
    "    Assess the quality of model answer with respect to the Reference Answer, but do not penalize the model answer for adding details or give a direct answer to user question. Provide the quality level as a JSON object with two keys: 'reasoning' and 'answer_quality'.\n",
    "    \"\"\"\n",
    "\n",
    "scoring_template_str = llm_config[\"judge\"].get(\"template\", scoring_template_str)\n",
    "SCORING_PROMPT = PromptTemplate.from_template(scoring_template_str)"
   ]
  },
  {
   "cell_type": "code",
   "execution_count": 22,
   "id": "f877508f-fa77-4d53-8de3-d0ba4f837281",
   "metadata": {
    "ExecuteTime": {
     "end_time": "2024-11-11T18:11:54.855577Z",
     "start_time": "2024-11-11T18:11:54.846308Z"
    },
    "tags": []
   },
   "outputs": [],
   "source": [
    "judge_client = OpenAI(api_key=llm_config[\"judge\"][\"api_key\"])\n",
    "judge_model_name = llm_config[\"judge\"][\"model_name\"]\n",
    "\n",
    "\n",
    "def score_request(question, answer, reference_answer):\n",
    "    messages = [\n",
    "        {\n",
    "            \"role\": \"user\",\n",
    "            \"content\": SCORING_PROMPT.format(\n",
    "                question=question,\n",
    "                answer=answer,\n",
    "                reference_answer=reference_answer\n",
    "            )\n",
    "        }\n",
    "    ]\n",
    "\n",
    "    completion = judge_client.chat.completions.create(\n",
    "        model=judge_model_name,\n",
    "        messages=messages,\n",
    "        n=1,\n",
    "        temperature=0.0,\n",
    "        max_tokens=1024,\n",
    "    )\n",
    "    \n",
    "    response_content = completion.choices[0].message.content\n",
    "    result = json.loads(response_content)\n",
    "    score = result[\"answer_quality\"]\n",
    "    reasoning = result[\"reasoning\"]\n",
    "    return score, reasoning\n"
   ]
  },
  {
   "cell_type": "code",
   "execution_count": 23,
   "id": "c8dcdb86-5272-45d6-92f4-71ea7e412599",
   "metadata": {
    "ExecuteTime": {
     "end_time": "2024-11-11T18:24:21.624706Z",
     "start_time": "2024-11-11T18:12:10.647497Z"
    }
   },
   "outputs": [
    {
     "name": "stdout",
     "output_type": "stream",
     "text": [
      "0 Are some of the State's transformative infrastructure projects financed outside of the State budget?\n",
      "Yes, some of the State's transformative  5 The model answer is in line with the ref\n",
      "Yes, some of the State's transformative  5 The model answer is completely correct, \n",
      "1 What is the State Share for the Gateway Tunnel Project?\n",
      "The State Share for the Gateway Tunnel P 5 The model answer is completely correct, \n",
      "The State Share for the Gateway Tunnel P 5 The model answer is completely correct, \n",
      "2 Who are the funding partners for the State's transformative infrastructure projects?\n",
      "The funding partners for the State's tra 5 The model answer is completely correct, \n",
      "The funding partners for the State's tra 5 The model answer is completely correct, \n",
      "3 What percent of State capital spending in FY 2025 is expected to be supported from Federal aid?\n",
      "The answer is 20 percent. This means tha 4 The model answer is mostly correct. It c\n",
      "19 percent of State capital spending in  5 The model answer correctly identifies th\n",
      "4 Is capital spending expected to increase in FY 2025?\n",
      "Yes, capital spending is indeed expected 4 The model answer correctly states that c\n",
      "Yes, capital spending is expected to inc 5 The model answer is completely correct, \n",
      "5 Why is State capital spending projected to increase in FY 2025?\n",
      "State capital spending is projected to i 5 The model answer correctly identifies th\n",
      "State capital spending is projected to i 5 The model answer is completely correct, \n",
      "6 What is capital spending for the State projected in FY 2025?\n",
      "The capital spending for the State proje 5 The model answer is completely correct, \n",
      "Capital spending for the State is projec 5 The model answer is completely correct, \n",
      "7 What are new large scale projects in the Five-Year DOT capital plan?\n",
      "The Five-Year DOT Capital Plan includes  1 The model answer is incorrect because it\n",
      "The new large scale projects in the Five 5 The model answer is completely correct, \n",
      "8 How much does the DOT Capital plan include for the \"Bridge NY\" program?\n",
      "The DOT Capital Plan includes $1 billion 5 The model answer is completely correct, \n",
      "The DOT Capital Plan includes $1 billion 5 The model answer is identical to the ref\n",
      "9 What percentage of existing State-releated debt is projected to be retired in 15 years?\n",
      "The answer is 14%. This means that, base 1 The model answer is incorrect because it\n",
      "The percentage of existing State-related 5 The model answer is completely correct, \n",
      "10 What does 100% State-releated debt retirement represent?\n",
      "100% State-related debt retirement refer 5 The model answer is completely correct, \n",
      "100% State-related debt retirement repre 5 The model answer correctly explains that\n",
      "11 What impact does the rate of debt retirement have on the State?\n",
      "The rate of debt retirement has a signif 4 The model answer is mostly correct and f\n",
      "The rate at which State-related debt is  5 The model answer is completely correct, \n",
      "12 How much will be appropriated on Community Services Programs for people with development disabilities in FY 2026?\n",
      "The amount appropriated for Community Se 1 The model answer is incorrect. The refer\n",
      "The answer cannot be determined from the 1 The model answer does not provide the co\n",
      "13 What are the projected appropriations from FY 2025 to FY 2027 for Non-Bondable Projects for people with developmental disabilities?\n",
      "The projected appropriations for Non-Bon 4 The model answer is mostly correct. It a\n",
      "The projected appropriations for Non-Bon 4 The model answer is mostly correct. It a\n",
      "14 What is the total projected appropriation on programs for people with development disabilities in FY 2026?\n",
      "The total projected appropriation on pro 1 The model answer is incorrect. The total\n",
      "The total projected appropriation on pro 1 The model answer does not provide the co\n",
      "0 Are some of the State's transformative infrastructure projects financed outside of the State budget?\n",
      "Yes, some of the State's transformative  5 The model answer is completely correct, \n",
      "1 What is the State Share for the Gateway Tunnel Project?\n",
      "The State Share for the Gateway Tunnel P 5 The model answer correctly identifies th\n",
      "2 Who are the funding partners for the State's transformative infrastructure projects?\n",
      "The funding partners for the State's tra 5 The model answer correctly identifies al\n",
      "3 What percent of State capital spending in FY 2025 is expected to be supported from Federal aid?\n",
      "The answer is 19 percent. This informati 5 The model answer correctly identifies th\n",
      "4 Is capital spending expected to increase in FY 2025?\n",
      "Yes, capital spending is expected to inc 5 The model answer is completely correct, \n",
      "5 Why is State capital spending projected to increase in FY 2025?\n",
      "State capital spending is projected to i 5 The model answer correctly identifies th\n",
      "6 What is capital spending for the State projected in FY 2025?\n",
      "Capital spending for the State is projec 5 The model answer is completely correct, \n",
      "7 What are new large scale projects in the Five-Year DOT capital plan?\n",
      "The new large-scale projects in the Five 5 The model answer is completely correct, \n",
      "8 How much does the DOT Capital plan include for the \"Bridge NY\" program?\n",
      "The DOT Capital plan includes $1 billion 5 The model answer is identical to the ref\n",
      "9 What percentage of existing State-releated debt is projected to be retired in 15 years?\n",
      "59% of existing State-related debt is pr 5 The model answer is completely correct, \n",
      "10 What does 100% State-releated debt retirement represent?\n",
      "100% State-related debt retirement repre 5 The model answer is completely correct, \n",
      "11 What impact does the rate of debt retirement have on the State?\n",
      "The rate at which State-related debt is  5 The model answer is completely correct, \n",
      "12 How much will be appropriated on Community Services Programs for people with development disabilities in FY 2026?\n",
      "The context provided does not include sp 2 The model answer does not provide the sp\n",
      "13 What are the projected appropriations from FY 2025 to FY 2027 for Non-Bondable Projects for people with developmental disabilities?\n",
      "The projected appropriations from FY 202 1 The model answer is incorrect. The proje\n",
      "14 What is the total projected appropriation on programs for people with development disabilities in FY 2026?\n",
      "The total projected appropriation on pro 1 The model answer is incorrect. The refer\n",
      "0 Are some of the State's transformative infrastructure projects financed outside of the State budget?\n",
      "Yes, some of the State's transformative  5 The model answer is in line with the ref\n",
      "1 What is the State Share for the Gateway Tunnel Project?\n",
      "The State Share for the Gateway Tunnel P 5 The model answer is identical to the ref\n",
      "2 Who are the funding partners for the State's transformative infrastructure projects?\n",
      "The funding partners for the State's tra 5 The model answer is in complete alignmen\n",
      "3 What percent of State capital spending in FY 2025 is expected to be supported from Federal aid?\n",
      "19 percent of State capital spending in  5 The model answer correctly identifies th\n",
      "4 Is capital spending expected to increase in FY 2025?\n",
      "Yes, capital spending in FY 2025 is proj 5 The model answer is completely correct, \n",
      "5 Why is State capital spending projected to increase in FY 2025?\n",
      "State capital spending is projected to i 5 The model answer is completely correct, \n",
      "6 What is capital spending for the State projected in FY 2025?\n",
      "Capital spending for the State is projec 5 The model answer is completely correct, \n",
      "7 What are new large scale projects in the Five-Year DOT capital plan?\n",
      "The new large-scale projects in the Five 5 The model answer is completely correct, \n",
      "8 How much does the DOT Capital plan include for the \"Bridge NY\" program?\n",
      "The DOT Capital Plan includes $1 billion 5 The model answer is identical to the ref\n",
      "9 What percentage of existing State-releated debt is projected to be retired in 15 years?\n",
      "59% 5 The model answer is completely correct, \n",
      "10 What does 100% State-releated debt retirement represent?\n",
      "100% State-related debt retirement repre 5 The model answer is completely correct, \n",
      "11 What impact does the rate of debt retirement have on the State?\n",
      "The rate at which debt is retired or pai 5 The model answer is completely correct, \n",
      "12 How much will be appropriated on Community Services Programs for people with development disabilities in FY 2026?\n",
      "The text doesn't provide specific inform 1 The model answer failed to provide the s\n",
      "13 What are the projected appropriations from FY 2025 to FY 2027 for Non-Bondable Projects for people with developmental disabilities?\n",
      "I'm sorry, but I can't provide the infor 1 The model answer does not provide the sp\n",
      "14 What is the total projected appropriation on programs for people with development disabilities in FY 2026?\n",
      "The document does not provide specific f 1 The model answer is incorrect because it\n"
     ]
    }
   ],
   "source": [
    "for testing_config in llm_config[\"testing_config\"]:\n",
    "    testing_config_name = replace_special_char(testing_config[\"name\" or \"model_name\"])\n",
    "    answers_filename = f\"{output_directory}/{testing_config_name}_answers.jsonl\"\n",
    "    scores = pd.read_json(answers_filename, orient=\"records\", lines=True)\n",
    "    position = scores.columns.get_loc(\"answer\")\n",
    "    scores.insert(position + 1, \"answer_score\", \"\")\n",
    "    scores.insert(position + 2, \"answer_score_reasoning\", \"\")\n",
    "    position = scores.columns.get_loc(\"rag_answer\")\n",
    "    scores.insert(position + 1, \"rag_answer_score\", \"\")\n",
    "    scores.insert(position + 2, \"rag_answer_score_reasoning\", \"\")\n",
    "\n",
    "    for index, row in scores.iterrows():\n",
    "        question = row[\"question\"]\n",
    "        answer = row[\"answer\"]\n",
    "        reference_answer = row[\"ground_truth\"]\n",
    "        print(index, question)\n",
    "        if answer:\n",
    "            score, reasoning = score_request(question, answer, reference_answer)\n",
    "            scores.at[index, \"answer_score\"] = score\n",
    "            scores.at[index, \"answer_score_reasoning\"] = reasoning\n",
    "            print(answer[:40], score, reasoning[:40])\n",
    "        rag_answer = row[\"rag_answer\"]\n",
    "        if rag_answer:\n",
    "            score, reasoning = score_request(question, rag_answer, reference_answer)\n",
    "            scores.at[index, \"rag_answer_score\"] = score\n",
    "            scores.at[index, \"rag_answer_score_reasoning\"] = reasoning\n",
    "            print(rag_answer[:40], score, reasoning[:40])\n",
    "    judge_name = replace_special_char(judge_model_name)\n",
    "    scores_filename = f\"{output_directory}/{testing_config_name}_{judge_name}_scores\"\n",
    "    scores.to_json(f\"{scores_filename}.jsonl\", orient=\"records\", lines=True)\n",
    "    scores.to_csv(f\"{scores_filename}.csv\", index=False)\n"
   ]
  },
  {
   "cell_type": "markdown",
   "id": "66c9ad25-b957-4fab-aea9-b9b828e030d2",
   "metadata": {},
   "source": [
    "## Create resulting score report CSV"
   ]
  },
  {
   "cell_type": "code",
   "execution_count": 24,
   "id": "bd1cedae-4bbf-419d-87cb-d5aedf404694",
   "metadata": {
    "ExecuteTime": {
     "end_time": "2024-11-11T18:25:16.967516Z",
     "start_time": "2024-11-11T18:25:16.949360Z"
    }
   },
   "outputs": [
    {
     "name": "stdout",
     "output_type": "stream",
     "text": [
      "ny_state_answer_score          3.666667\n",
      "ny_state_rag_answer_score      4.400000\n",
      "granite_7b_rag_answer_score    4.266667\n",
      "gpt_4_rag_answer_score         4.200000\n",
      "dtype: float64\n"
     ]
    }
   ],
   "source": [
    "with open(\"llm_config.yaml\", \"r\") as f:\n",
    "    llm_config = yaml.safe_load(f)\n",
    "\n",
    "output_directory = llm_config.get(\"name\", \"output\")\n",
    "os.makedirs(output_directory, exist_ok=True)\n",
    "\n",
    "judge_client = OpenAI(api_key=llm_config[\"judge\"][\"api_key\"])\n",
    "judge_model_name = llm_config[\"judge\"][\"model_name\"]\n",
    "judge_name = replace_special_char(judge_model_name)\n",
    "\n",
    "summary_output_df = pd.DataFrame()\n",
    "\n",
    "for testing_config in llm_config[\"testing_config\"]:\n",
    "    testing_config_name = replace_special_char(testing_config[\"name\" or \"model_name\"])\n",
    "    scores_filename = f\"{output_directory}/{testing_config_name}_{judge_name}_scores.jsonl\"\n",
    "    scores = pd.read_json(scores_filename, orient=\"records\", lines=True)\n",
    "    if testing_config.get(\"qna_template\"):\n",
    "        summary_output_df[f\"{testing_config_name}_answer_score\"] = scores[\"answer_score\"]\n",
    "    if testing_config.get(\"rag_template\"):\n",
    "        summary_output_df[f\"{testing_config_name}_rag_answer_score\"] = scores[\"rag_answer_score\"]\n",
    "\n",
    "average_row = summary_output_df.mean(axis=0, numeric_only=True)\n",
    "print(average_row)\n",
    "summary_output_df.loc[len(summary_output_df)] = average_row\n",
    "question_indices = [f\"Q{i+1}\" for i in range(len(summary_output_df)-1)]\n",
    "question_indices.append(\"Average\")\n",
    "summary_output_df.insert(0, 'question index', question_indices)\n",
    "\n",
    "summary_filepath = f\"{output_directory}/summary_{judge_name}_scores\"\n",
    "# summary_output_df.to_json(f\"{summary_filepath}.jsonl\", orient=\"records\", lines=True)\n",
    "summary_output_df.to_csv(f\"{summary_filepath}.csv\", index=False)"
   ]
  },
  {
   "cell_type": "code",
   "execution_count": 25,
   "id": "785bb2e5bde823e6",
   "metadata": {},
   "outputs": [],
   "source": [
    "with pd.ExcelWriter(f\"{output_directory}/{judge_name}_scores.xlsx\") as writer:\n",
    "    summary_output_df = pd.read_csv(f\"{summary_filepath}.csv\")\n",
    "    summary_output_df.to_excel(writer, sheet_name=\"Summary\", index=False)\n",
    "\n",
    "    for testing_config in llm_config[\"testing_config\"]:\n",
    "        testing_config_name = replace_special_char(testing_config[\"name\" or \"model_name\"])\n",
    "        scores_filename = f\"{output_directory}/{testing_config_name}_{judge_name}_scores.jsonl\"\n",
    "        scores = pd.read_json(scores_filename, orient=\"records\", lines=True)\n",
    "        scores.to_excel(writer, sheet_name=f\"{testing_config_name}_scores\")"
   ]
  },
  {
   "cell_type": "code",
   "execution_count": null,
   "id": "b6dd3392-ad9d-4a6f-adf0-a21f4aa097c8",
   "metadata": {},
   "outputs": [],
   "source": []
  }
 ],
 "metadata": {
  "kernelspec": {
   "display_name": "Python 3.11",
   "language": "python",
   "name": "python3"
  },
  "language_info": {
   "codemirror_mode": {
    "name": "ipython",
    "version": 3
   },
   "file_extension": ".py",
   "mimetype": "text/x-python",
   "name": "python",
   "nbconvert_exporter": "python",
   "pygments_lexer": "ipython3",
   "version": "3.11.7"
  }
 },
 "nbformat": 4,
 "nbformat_minor": 5
}
