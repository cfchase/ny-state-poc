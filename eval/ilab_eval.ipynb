{
 "cells": [
  {
   "cell_type": "markdown",
   "id": "06bb24d2-f2f7-455f-8854-6d1ae1f233b8",
   "metadata": {},
   "source": [
    "# Evaluating the fine tuned model"
   ]
  },
  {
   "cell_type": "markdown",
   "id": "8308b229-b520-4e82-a783-eb921bb955e7",
   "metadata": {},
   "source": [
    "### Needed packages and imports"
   ]
  },
  {
   "cell_type": "code",
   "id": "91e41b41-f60a-4b0f-91a1-cd273b60f21b",
   "metadata": {
    "scrolled": true,
    "tags": [],
    "ExecuteTime": {
     "end_time": "2024-12-19T18:34:53.274065Z",
     "start_time": "2024-12-19T18:34:49.269807Z"
    }
   },
   "source": [
    "!pip install -r requirements.txt"
   ],
   "outputs": [
    {
     "name": "stdout",
     "output_type": "stream",
     "text": [
      "Requirement already satisfied: instructlab in /Users/cchase/git/github/cfchase/ny-state-poc/venv/lib/python3.11/site-packages (from -r requirements.txt (line 1)) (0.22.1)\r\n",
      "Requirement already satisfied: docling<3.0.0 in /Users/cchase/git/github/cfchase/ny-state-poc/venv/lib/python3.11/site-packages (from -r requirements.txt (line 2)) (2.8.3)\r\n",
      "Requirement already satisfied: einops~=0.8.0 in /Users/cchase/git/github/cfchase/ny-state-poc/venv/lib/python3.11/site-packages (from -r requirements.txt (line 3)) (0.8.0)\r\n",
      "Requirement already satisfied: langchain~=0.3.12 in /Users/cchase/git/github/cfchase/ny-state-poc/venv/lib/python3.11/site-packages (from -r requirements.txt (line 4)) (0.3.12)\r\n",
      "Requirement already satisfied: langchain-community~=0.3.12 in /Users/cchase/git/github/cfchase/ny-state-poc/venv/lib/python3.11/site-packages (from -r requirements.txt (line 5)) (0.3.12)\r\n",
      "Requirement already satisfied: langchain-openai~=0.2.12 in /Users/cchase/git/github/cfchase/ny-state-poc/venv/lib/python3.11/site-packages (from -r requirements.txt (line 6)) (0.2.12)\r\n",
      "Requirement already satisfied: langchain-milvus~=0.1.7 in /Users/cchase/git/github/cfchase/ny-state-poc/venv/lib/python3.11/site-packages (from -r requirements.txt (line 7)) (0.1.7)\r\n",
      "Requirement already satisfied: langchain-text-splitters~=0.3.3 in /Users/cchase/git/github/cfchase/ny-state-poc/venv/lib/python3.11/site-packages (from -r requirements.txt (line 8)) (0.3.3)\r\n",
      "Requirement already satisfied: openai~=1.57.4 in /Users/cchase/git/github/cfchase/ny-state-poc/venv/lib/python3.11/site-packages (from -r requirements.txt (line 9)) (1.57.4)\r\n",
      "Requirement already satisfied: pymilvus~=2.5.0 in /Users/cchase/git/github/cfchase/ny-state-poc/venv/lib/python3.11/site-packages (from -r requirements.txt (line 10)) (2.5.0)\r\n",
      "Requirement already satisfied: python-dotenv~=1.0.1 in /Users/cchase/git/github/cfchase/ny-state-poc/venv/lib/python3.11/site-packages (from -r requirements.txt (line 11)) (1.0.1)\r\n",
      "Requirement already satisfied: sentence-transformers~=3.3.1 in /Users/cchase/git/github/cfchase/ny-state-poc/venv/lib/python3.11/site-packages (from -r requirements.txt (line 12)) (3.3.1)\r\n",
      "Requirement already satisfied: torch in /Users/cchase/git/github/cfchase/ny-state-poc/venv/lib/python3.11/site-packages (from -r requirements.txt (line 13)) (2.4.1)\r\n",
      "Requirement already satisfied: torchvision in /Users/cchase/git/github/cfchase/ny-state-poc/venv/lib/python3.11/site-packages (from -r requirements.txt (line 14)) (0.19.1)\r\n",
      "Requirement already satisfied: ragas~=0.2.8 in /Users/cchase/git/github/cfchase/ny-state-poc/venv/lib/python3.11/site-packages (from -r requirements.txt (line 15)) (0.2.8)\r\n",
      "Requirement already satisfied: click<9.0.0,>=8.1.7 in /Users/cchase/git/github/cfchase/ny-state-poc/venv/lib/python3.11/site-packages (from instructlab->-r requirements.txt (line 1)) (8.1.7)\r\n",
      "Requirement already satisfied: click-didyoumean>=0.3.0 in /Users/cchase/git/github/cfchase/ny-state-poc/venv/lib/python3.11/site-packages (from instructlab->-r requirements.txt (line 1)) (0.3.1)\r\n",
      "Requirement already satisfied: datasets>=2.18.0 in /Users/cchase/git/github/cfchase/ny-state-poc/venv/lib/python3.11/site-packages (from instructlab->-r requirements.txt (line 1)) (2.21.0)\r\n",
      "Requirement already satisfied: gguf>=0.6.0 in /Users/cchase/git/github/cfchase/ny-state-poc/venv/lib/python3.11/site-packages (from instructlab->-r requirements.txt (line 1)) (0.13.0)\r\n",
      "Requirement already satisfied: GitPython>=3.1.42 in /Users/cchase/git/github/cfchase/ny-state-poc/venv/lib/python3.11/site-packages (from instructlab->-r requirements.txt (line 1)) (3.1.43)\r\n",
      "Requirement already satisfied: httpx>=0.25.0 in /Users/cchase/git/github/cfchase/ny-state-poc/venv/lib/python3.11/site-packages (from instructlab->-r requirements.txt (line 1)) (0.28.1)\r\n",
      "Requirement already satisfied: instructlab-eval<0.5.0,>=0.4.0 in /Users/cchase/git/github/cfchase/ny-state-poc/venv/lib/python3.11/site-packages (from instructlab->-r requirements.txt (line 1)) (0.4.2)\r\n",
      "Requirement already satisfied: instructlab-quantize>=0.1.0 in /Users/cchase/git/github/cfchase/ny-state-poc/venv/lib/python3.11/site-packages (from instructlab->-r requirements.txt (line 1)) (0.1.0)\r\n",
      "Requirement already satisfied: instructlab-schema>=0.4.0 in /Users/cchase/git/github/cfchase/ny-state-poc/venv/lib/python3.11/site-packages (from instructlab->-r requirements.txt (line 1)) (0.4.1)\r\n",
      "Requirement already satisfied: instructlab-sdg<0.7.0,>=0.6.2 in /Users/cchase/git/github/cfchase/ny-state-poc/venv/lib/python3.11/site-packages (from instructlab->-r requirements.txt (line 1)) (0.6.2)\r\n",
      "Requirement already satisfied: instructlab-training<0.7.0,>=0.6.0 in /Users/cchase/git/github/cfchase/ny-state-poc/venv/lib/python3.11/site-packages (from instructlab->-r requirements.txt (line 1)) (0.6.1)\r\n",
      "Requirement already satisfied: llama_cpp_python==0.2.79 in /Users/cchase/git/github/cfchase/ny-state-poc/venv/lib/python3.11/site-packages (from llama_cpp_python[server]==0.2.79->instructlab->-r requirements.txt (line 1)) (0.2.79)\r\n",
      "Requirement already satisfied: mlx<0.6.0,>=0.5.1 in /Users/cchase/git/github/cfchase/ny-state-poc/venv/lib/python3.11/site-packages (from instructlab->-r requirements.txt (line 1)) (0.5.1)\r\n",
      "Requirement already satisfied: numpy<2.0.0,>=1.26.4 in /Users/cchase/git/github/cfchase/ny-state-poc/venv/lib/python3.11/site-packages (from instructlab->-r requirements.txt (line 1)) (1.26.4)\r\n",
      "Requirement already satisfied: peft>=0.9.0 in /Users/cchase/git/github/cfchase/ny-state-poc/venv/lib/python3.11/site-packages (from instructlab->-r requirements.txt (line 1)) (0.14.0)\r\n",
      "Requirement already satisfied: prompt-toolkit>=3.0.38 in /Users/cchase/git/github/cfchase/ny-state-poc/venv/lib/python3.11/site-packages (from instructlab->-r requirements.txt (line 1)) (3.0.48)\r\n",
      "Requirement already satisfied: pydantic>=2.7.4 in /Users/cchase/git/github/cfchase/ny-state-poc/venv/lib/python3.11/site-packages (from instructlab->-r requirements.txt (line 1)) (2.9.2)\r\n",
      "Requirement already satisfied: pydantic_yaml>=1.2.0 in /Users/cchase/git/github/cfchase/ny-state-poc/venv/lib/python3.11/site-packages (from instructlab->-r requirements.txt (line 1)) (1.4.0)\r\n",
      "Requirement already satisfied: PyYAML>=6.0.0 in /Users/cchase/git/github/cfchase/ny-state-poc/venv/lib/python3.11/site-packages (from instructlab->-r requirements.txt (line 1)) (6.0.2)\r\n",
      "Requirement already satisfied: rich>=13.3.1 in /Users/cchase/git/github/cfchase/ny-state-poc/venv/lib/python3.11/site-packages (from instructlab->-r requirements.txt (line 1)) (13.9.4)\r\n",
      "Requirement already satisfied: rouge-score>=0.1.2 in /Users/cchase/git/github/cfchase/ny-state-poc/venv/lib/python3.11/site-packages (from instructlab->-r requirements.txt (line 1)) (0.1.2)\r\n",
      "Requirement already satisfied: ruamel.yaml>=0.17.0 in /Users/cchase/git/github/cfchase/ny-state-poc/venv/lib/python3.11/site-packages (from instructlab->-r requirements.txt (line 1)) (0.18.6)\r\n",
      "Requirement already satisfied: sentencepiece>=0.2.0 in /Users/cchase/git/github/cfchase/ny-state-poc/venv/lib/python3.11/site-packages (from instructlab->-r requirements.txt (line 1)) (0.2.0)\r\n",
      "Requirement already satisfied: tokenizers>=0.11.1 in /Users/cchase/git/github/cfchase/ny-state-poc/venv/lib/python3.11/site-packages (from instructlab->-r requirements.txt (line 1)) (0.21.0)\r\n",
      "Requirement already satisfied: toml>=0.10.2 in /Users/cchase/git/github/cfchase/ny-state-poc/venv/lib/python3.11/site-packages (from instructlab->-r requirements.txt (line 1)) (0.10.2)\r\n",
      "Requirement already satisfied: tqdm>=4.66.2 in /Users/cchase/git/github/cfchase/ny-state-poc/venv/lib/python3.11/site-packages (from instructlab->-r requirements.txt (line 1)) (4.67.1)\r\n",
      "Requirement already satisfied: transformers>=4.41.2 in /Users/cchase/git/github/cfchase/ny-state-poc/venv/lib/python3.11/site-packages (from instructlab->-r requirements.txt (line 1)) (4.47.0)\r\n",
      "Requirement already satisfied: trl>=0.9.4 in /Users/cchase/git/github/cfchase/ny-state-poc/venv/lib/python3.11/site-packages (from instructlab->-r requirements.txt (line 1)) (0.13.0)\r\n",
      "Requirement already satisfied: wandb>=0.16.4 in /Users/cchase/git/github/cfchase/ny-state-poc/venv/lib/python3.11/site-packages (from instructlab->-r requirements.txt (line 1)) (0.19.1)\r\n",
      "Requirement already satisfied: xdg-base-dirs>=6.0.1 in /Users/cchase/git/github/cfchase/ny-state-poc/venv/lib/python3.11/site-packages (from instructlab->-r requirements.txt (line 1)) (6.0.2)\r\n",
      "Requirement already satisfied: psutil>=6.0.0 in /Users/cchase/git/github/cfchase/ny-state-poc/venv/lib/python3.11/site-packages (from instructlab->-r requirements.txt (line 1)) (6.1.0)\r\n",
      "Requirement already satisfied: huggingface_hub>=0.1.8 in /Users/cchase/git/github/cfchase/ny-state-poc/venv/lib/python3.11/site-packages (from huggingface_hub[hf_transfer]>=0.1.8->instructlab->-r requirements.txt (line 1)) (0.27.0)\r\n",
      "Requirement already satisfied: typing-extensions>=4.5.0 in /Users/cchase/git/github/cfchase/ny-state-poc/venv/lib/python3.11/site-packages (from llama_cpp_python==0.2.79->llama_cpp_python[server]==0.2.79->instructlab->-r requirements.txt (line 1)) (4.12.2)\r\n",
      "Requirement already satisfied: diskcache>=5.6.1 in /Users/cchase/git/github/cfchase/ny-state-poc/venv/lib/python3.11/site-packages (from llama_cpp_python==0.2.79->llama_cpp_python[server]==0.2.79->instructlab->-r requirements.txt (line 1)) (5.6.3)\r\n",
      "Requirement already satisfied: jinja2>=2.11.3 in /Users/cchase/git/github/cfchase/ny-state-poc/venv/lib/python3.11/site-packages (from llama_cpp_python==0.2.79->llama_cpp_python[server]==0.2.79->instructlab->-r requirements.txt (line 1)) (3.1.4)\r\n",
      "Requirement already satisfied: uvicorn>=0.22.0 in /Users/cchase/git/github/cfchase/ny-state-poc/venv/lib/python3.11/site-packages (from llama_cpp_python[server]==0.2.79->instructlab->-r requirements.txt (line 1)) (0.34.0)\r\n",
      "Requirement already satisfied: fastapi>=0.100.0 in /Users/cchase/git/github/cfchase/ny-state-poc/venv/lib/python3.11/site-packages (from llama_cpp_python[server]==0.2.79->instructlab->-r requirements.txt (line 1)) (0.115.6)\r\n",
      "Requirement already satisfied: pydantic-settings>=2.0.1 in /Users/cchase/git/github/cfchase/ny-state-poc/venv/lib/python3.11/site-packages (from llama_cpp_python[server]==0.2.79->instructlab->-r requirements.txt (line 1)) (2.7.0)\r\n",
      "Requirement already satisfied: sse-starlette>=1.6.1 in /Users/cchase/git/github/cfchase/ny-state-poc/venv/lib/python3.11/site-packages (from llama_cpp_python[server]==0.2.79->instructlab->-r requirements.txt (line 1)) (2.1.3)\r\n",
      "Requirement already satisfied: starlette-context<0.4,>=0.3.6 in /Users/cchase/git/github/cfchase/ny-state-poc/venv/lib/python3.11/site-packages (from llama_cpp_python[server]==0.2.79->instructlab->-r requirements.txt (line 1)) (0.3.6)\r\n",
      "Requirement already satisfied: beautifulsoup4<5.0.0,>=4.12.3 in /Users/cchase/git/github/cfchase/ny-state-poc/venv/lib/python3.11/site-packages (from docling<3.0.0->-r requirements.txt (line 2)) (4.12.3)\r\n",
      "Requirement already satisfied: certifi>=2024.7.4 in /Users/cchase/git/github/cfchase/ny-state-poc/venv/lib/python3.11/site-packages (from docling<3.0.0->-r requirements.txt (line 2)) (2024.12.14)\r\n",
      "Requirement already satisfied: deepsearch-glm<0.27.0,>=0.26.1 in /Users/cchase/git/github/cfchase/ny-state-poc/venv/lib/python3.11/site-packages (from docling<3.0.0->-r requirements.txt (line 2)) (0.26.2)\r\n",
      "Requirement already satisfied: docling-core<3.0.0,>=2.6.1 in /Users/cchase/git/github/cfchase/ny-state-poc/venv/lib/python3.11/site-packages (from docling<3.0.0->-r requirements.txt (line 2)) (2.12.0)\r\n",
      "Requirement already satisfied: docling-ibm-models<3.0.0,>=2.0.6 in /Users/cchase/git/github/cfchase/ny-state-poc/venv/lib/python3.11/site-packages (from docling<3.0.0->-r requirements.txt (line 2)) (2.0.8)\r\n",
      "Requirement already satisfied: docling-parse<3.0.0,>=2.0.5 in /Users/cchase/git/github/cfchase/ny-state-poc/venv/lib/python3.11/site-packages (from docling<3.0.0->-r requirements.txt (line 2)) (2.1.2)\r\n",
      "Requirement already satisfied: easyocr<2.0,>=1.7 in /Users/cchase/git/github/cfchase/ny-state-poc/venv/lib/python3.11/site-packages (from docling<3.0.0->-r requirements.txt (line 2)) (1.7.2)\r\n",
      "Requirement already satisfied: filetype<2.0.0,>=1.2.0 in /Users/cchase/git/github/cfchase/ny-state-poc/venv/lib/python3.11/site-packages (from docling<3.0.0->-r requirements.txt (line 2)) (1.2.0)\r\n",
      "Requirement already satisfied: lxml<6.0.0,>=4.0.0 in /Users/cchase/git/github/cfchase/ny-state-poc/venv/lib/python3.11/site-packages (from docling<3.0.0->-r requirements.txt (line 2)) (5.3.0)\r\n",
      "Requirement already satisfied: marko<3.0.0,>=2.1.2 in /Users/cchase/git/github/cfchase/ny-state-poc/venv/lib/python3.11/site-packages (from docling<3.0.0->-r requirements.txt (line 2)) (2.1.2)\r\n",
      "Requirement already satisfied: openpyxl<4.0.0,>=3.1.5 in /Users/cchase/git/github/cfchase/ny-state-poc/venv/lib/python3.11/site-packages (from docling<3.0.0->-r requirements.txt (line 2)) (3.1.5)\r\n",
      "Requirement already satisfied: pandas<3.0.0,>=2.1.4 in /Users/cchase/git/github/cfchase/ny-state-poc/venv/lib/python3.11/site-packages (from docling<3.0.0->-r requirements.txt (line 2)) (2.2.3)\r\n",
      "Requirement already satisfied: pypdfium2<5.0.0,>=4.30.0 in /Users/cchase/git/github/cfchase/ny-state-poc/venv/lib/python3.11/site-packages (from docling<3.0.0->-r requirements.txt (line 2)) (4.30.0)\r\n",
      "Requirement already satisfied: python-docx<2.0.0,>=1.1.2 in /Users/cchase/git/github/cfchase/ny-state-poc/venv/lib/python3.11/site-packages (from docling<3.0.0->-r requirements.txt (line 2)) (1.1.2)\r\n",
      "Requirement already satisfied: python-pptx<2.0.0,>=1.0.2 in /Users/cchase/git/github/cfchase/ny-state-poc/venv/lib/python3.11/site-packages (from docling<3.0.0->-r requirements.txt (line 2)) (1.0.2)\r\n",
      "Requirement already satisfied: requests<3.0.0,>=2.32.3 in /Users/cchase/git/github/cfchase/ny-state-poc/venv/lib/python3.11/site-packages (from docling<3.0.0->-r requirements.txt (line 2)) (2.32.3)\r\n",
      "Requirement already satisfied: rtree<2.0.0,>=1.3.0 in /Users/cchase/git/github/cfchase/ny-state-poc/venv/lib/python3.11/site-packages (from docling<3.0.0->-r requirements.txt (line 2)) (1.3.0)\r\n",
      "Requirement already satisfied: scipy<2.0.0,>=1.6.0 in /Users/cchase/git/github/cfchase/ny-state-poc/venv/lib/python3.11/site-packages (from docling<3.0.0->-r requirements.txt (line 2)) (1.14.1)\r\n",
      "Requirement already satisfied: typer<0.13.0,>=0.12.5 in /Users/cchase/git/github/cfchase/ny-state-poc/venv/lib/python3.11/site-packages (from docling<3.0.0->-r requirements.txt (line 2)) (0.12.5)\r\n",
      "Requirement already satisfied: SQLAlchemy<3,>=1.4 in /Users/cchase/git/github/cfchase/ny-state-poc/venv/lib/python3.11/site-packages (from langchain~=0.3.12->-r requirements.txt (line 4)) (2.0.36)\r\n",
      "Requirement already satisfied: aiohttp<4.0.0,>=3.8.3 in /Users/cchase/git/github/cfchase/ny-state-poc/venv/lib/python3.11/site-packages (from langchain~=0.3.12->-r requirements.txt (line 4)) (3.11.10)\r\n",
      "Requirement already satisfied: langchain-core<0.4.0,>=0.3.25 in /Users/cchase/git/github/cfchase/ny-state-poc/venv/lib/python3.11/site-packages (from langchain~=0.3.12->-r requirements.txt (line 4)) (0.3.25)\r\n",
      "Requirement already satisfied: langsmith<0.3,>=0.1.17 in /Users/cchase/git/github/cfchase/ny-state-poc/venv/lib/python3.11/site-packages (from langchain~=0.3.12->-r requirements.txt (line 4)) (0.2.3)\r\n",
      "Requirement already satisfied: tenacity!=8.4.0,<10,>=8.1.0 in /Users/cchase/git/github/cfchase/ny-state-poc/venv/lib/python3.11/site-packages (from langchain~=0.3.12->-r requirements.txt (line 4)) (9.0.0)\r\n",
      "Requirement already satisfied: dataclasses-json<0.7,>=0.5.7 in /Users/cchase/git/github/cfchase/ny-state-poc/venv/lib/python3.11/site-packages (from langchain-community~=0.3.12->-r requirements.txt (line 5)) (0.6.7)\r\n",
      "Requirement already satisfied: httpx-sse<0.5.0,>=0.4.0 in /Users/cchase/git/github/cfchase/ny-state-poc/venv/lib/python3.11/site-packages (from langchain-community~=0.3.12->-r requirements.txt (line 5)) (0.4.0)\r\n",
      "Requirement already satisfied: tiktoken<1,>=0.7 in /Users/cchase/git/github/cfchase/ny-state-poc/venv/lib/python3.11/site-packages (from langchain-openai~=0.2.12->-r requirements.txt (line 6)) (0.8.0)\r\n",
      "Requirement already satisfied: anyio<5,>=3.5.0 in /Users/cchase/git/github/cfchase/ny-state-poc/venv/lib/python3.11/site-packages (from openai~=1.57.4->-r requirements.txt (line 9)) (4.7.0)\r\n",
      "Requirement already satisfied: distro<2,>=1.7.0 in /Users/cchase/git/github/cfchase/ny-state-poc/venv/lib/python3.11/site-packages (from openai~=1.57.4->-r requirements.txt (line 9)) (1.9.0)\r\n",
      "Requirement already satisfied: jiter<1,>=0.4.0 in /Users/cchase/git/github/cfchase/ny-state-poc/venv/lib/python3.11/site-packages (from openai~=1.57.4->-r requirements.txt (line 9)) (0.8.2)\r\n",
      "Requirement already satisfied: sniffio in /Users/cchase/git/github/cfchase/ny-state-poc/venv/lib/python3.11/site-packages (from openai~=1.57.4->-r requirements.txt (line 9)) (1.3.1)\r\n",
      "Requirement already satisfied: setuptools>69 in /Users/cchase/git/github/cfchase/ny-state-poc/venv/lib/python3.11/site-packages (from pymilvus~=2.5.0->-r requirements.txt (line 10)) (75.6.0)\r\n",
      "Requirement already satisfied: grpcio<=1.67.1,>=1.49.1 in /Users/cchase/git/github/cfchase/ny-state-poc/venv/lib/python3.11/site-packages (from pymilvus~=2.5.0->-r requirements.txt (line 10)) (1.67.1)\r\n",
      "Requirement already satisfied: protobuf>=3.20.0 in /Users/cchase/git/github/cfchase/ny-state-poc/venv/lib/python3.11/site-packages (from pymilvus~=2.5.0->-r requirements.txt (line 10)) (5.29.1)\r\n",
      "Requirement already satisfied: ujson>=2.0.0 in /Users/cchase/git/github/cfchase/ny-state-poc/venv/lib/python3.11/site-packages (from pymilvus~=2.5.0->-r requirements.txt (line 10)) (5.10.0)\r\n",
      "Requirement already satisfied: milvus-lite>=2.4.0 in /Users/cchase/git/github/cfchase/ny-state-poc/venv/lib/python3.11/site-packages (from pymilvus~=2.5.0->-r requirements.txt (line 10)) (2.4.10)\r\n",
      "Requirement already satisfied: scikit-learn in /Users/cchase/git/github/cfchase/ny-state-poc/venv/lib/python3.11/site-packages (from sentence-transformers~=3.3.1->-r requirements.txt (line 12)) (1.6.0)\r\n",
      "Requirement already satisfied: Pillow in /Users/cchase/git/github/cfchase/ny-state-poc/venv/lib/python3.11/site-packages (from sentence-transformers~=3.3.1->-r requirements.txt (line 12)) (10.4.0)\r\n",
      "Requirement already satisfied: filelock in /Users/cchase/git/github/cfchase/ny-state-poc/venv/lib/python3.11/site-packages (from torch->-r requirements.txt (line 13)) (3.16.1)\r\n",
      "Requirement already satisfied: sympy in /Users/cchase/git/github/cfchase/ny-state-poc/venv/lib/python3.11/site-packages (from torch->-r requirements.txt (line 13)) (1.13.3)\r\n",
      "Requirement already satisfied: networkx in /Users/cchase/git/github/cfchase/ny-state-poc/venv/lib/python3.11/site-packages (from torch->-r requirements.txt (line 13)) (3.4.2)\r\n",
      "Requirement already satisfied: fsspec in /Users/cchase/git/github/cfchase/ny-state-poc/venv/lib/python3.11/site-packages (from torch->-r requirements.txt (line 13)) (2024.6.1)\r\n",
      "Requirement already satisfied: nest-asyncio in /Users/cchase/git/github/cfchase/ny-state-poc/venv/lib/python3.11/site-packages (from ragas~=0.2.8->-r requirements.txt (line 15)) (1.6.0)\r\n",
      "Requirement already satisfied: appdirs in /Users/cchase/git/github/cfchase/ny-state-poc/venv/lib/python3.11/site-packages (from ragas~=0.2.8->-r requirements.txt (line 15)) (1.4.4)\r\n",
      "Requirement already satisfied: pysbd>=0.3.4 in /Users/cchase/git/github/cfchase/ny-state-poc/venv/lib/python3.11/site-packages (from ragas~=0.2.8->-r requirements.txt (line 15)) (0.3.4)\r\n",
      "Requirement already satisfied: aiohappyeyeballs>=2.3.0 in /Users/cchase/git/github/cfchase/ny-state-poc/venv/lib/python3.11/site-packages (from aiohttp<4.0.0,>=3.8.3->langchain~=0.3.12->-r requirements.txt (line 4)) (2.4.4)\r\n",
      "Requirement already satisfied: aiosignal>=1.1.2 in /Users/cchase/git/github/cfchase/ny-state-poc/venv/lib/python3.11/site-packages (from aiohttp<4.0.0,>=3.8.3->langchain~=0.3.12->-r requirements.txt (line 4)) (1.3.2)\r\n",
      "Requirement already satisfied: attrs>=17.3.0 in /Users/cchase/git/github/cfchase/ny-state-poc/venv/lib/python3.11/site-packages (from aiohttp<4.0.0,>=3.8.3->langchain~=0.3.12->-r requirements.txt (line 4)) (24.3.0)\r\n",
      "Requirement already satisfied: frozenlist>=1.1.1 in /Users/cchase/git/github/cfchase/ny-state-poc/venv/lib/python3.11/site-packages (from aiohttp<4.0.0,>=3.8.3->langchain~=0.3.12->-r requirements.txt (line 4)) (1.5.0)\r\n",
      "Requirement already satisfied: multidict<7.0,>=4.5 in /Users/cchase/git/github/cfchase/ny-state-poc/venv/lib/python3.11/site-packages (from aiohttp<4.0.0,>=3.8.3->langchain~=0.3.12->-r requirements.txt (line 4)) (6.1.0)\r\n",
      "Requirement already satisfied: propcache>=0.2.0 in /Users/cchase/git/github/cfchase/ny-state-poc/venv/lib/python3.11/site-packages (from aiohttp<4.0.0,>=3.8.3->langchain~=0.3.12->-r requirements.txt (line 4)) (0.2.1)\r\n",
      "Requirement already satisfied: yarl<2.0,>=1.17.0 in /Users/cchase/git/github/cfchase/ny-state-poc/venv/lib/python3.11/site-packages (from aiohttp<4.0.0,>=3.8.3->langchain~=0.3.12->-r requirements.txt (line 4)) (1.18.3)\r\n",
      "Requirement already satisfied: idna>=2.8 in /Users/cchase/git/github/cfchase/ny-state-poc/venv/lib/python3.11/site-packages (from anyio<5,>=3.5.0->openai~=1.57.4->-r requirements.txt (line 9)) (3.10)\r\n",
      "Requirement already satisfied: soupsieve>1.2 in /Users/cchase/git/github/cfchase/ny-state-poc/venv/lib/python3.11/site-packages (from beautifulsoup4<5.0.0,>=4.12.3->docling<3.0.0->-r requirements.txt (line 2)) (2.6)\r\n",
      "Requirement already satisfied: marshmallow<4.0.0,>=3.18.0 in /Users/cchase/git/github/cfchase/ny-state-poc/venv/lib/python3.11/site-packages (from dataclasses-json<0.7,>=0.5.7->langchain-community~=0.3.12->-r requirements.txt (line 5)) (3.23.1)\r\n",
      "Requirement already satisfied: typing-inspect<1,>=0.4.0 in /Users/cchase/git/github/cfchase/ny-state-poc/venv/lib/python3.11/site-packages (from dataclasses-json<0.7,>=0.5.7->langchain-community~=0.3.12->-r requirements.txt (line 5)) (0.9.0)\r\n",
      "Requirement already satisfied: pyarrow>=15.0.0 in /Users/cchase/git/github/cfchase/ny-state-poc/venv/lib/python3.11/site-packages (from datasets>=2.18.0->instructlab->-r requirements.txt (line 1)) (18.1.0)\r\n",
      "Requirement already satisfied: dill<0.3.9,>=0.3.0 in /Users/cchase/git/github/cfchase/ny-state-poc/venv/lib/python3.11/site-packages (from datasets>=2.18.0->instructlab->-r requirements.txt (line 1)) (0.3.8)\r\n",
      "Requirement already satisfied: xxhash in /Users/cchase/git/github/cfchase/ny-state-poc/venv/lib/python3.11/site-packages (from datasets>=2.18.0->instructlab->-r requirements.txt (line 1)) (3.5.0)\r\n",
      "Requirement already satisfied: multiprocess in /Users/cchase/git/github/cfchase/ny-state-poc/venv/lib/python3.11/site-packages (from datasets>=2.18.0->instructlab->-r requirements.txt (line 1)) (0.70.16)\r\n",
      "Requirement already satisfied: packaging in /Users/cchase/git/github/cfchase/ny-state-poc/venv/lib/python3.11/site-packages (from datasets>=2.18.0->instructlab->-r requirements.txt (line 1)) (24.2)\r\n",
      "Requirement already satisfied: docutils!=0.21 in /Users/cchase/git/github/cfchase/ny-state-poc/venv/lib/python3.11/site-packages (from deepsearch-glm<0.27.0,>=0.26.1->docling<3.0.0->-r requirements.txt (line 2)) (0.21.2)\r\n",
      "Requirement already satisfied: tabulate>=0.8.9 in /Users/cchase/git/github/cfchase/ny-state-poc/venv/lib/python3.11/site-packages (from deepsearch-glm<0.27.0,>=0.26.1->docling<3.0.0->-r requirements.txt (line 2)) (0.9.0)\r\n",
      "Requirement already satisfied: jsonref<2.0.0,>=1.1.0 in /Users/cchase/git/github/cfchase/ny-state-poc/venv/lib/python3.11/site-packages (from docling-core<3.0.0,>=2.6.1->docling<3.0.0->-r requirements.txt (line 2)) (1.1.0)\r\n",
      "Requirement already satisfied: jsonschema<5.0.0,>=4.16.0 in /Users/cchase/git/github/cfchase/ny-state-poc/venv/lib/python3.11/site-packages (from docling-core<3.0.0,>=2.6.1->docling<3.0.0->-r requirements.txt (line 2)) (4.23.0)\r\n",
      "Requirement already satisfied: jsonlines<4.0.0,>=3.1.0 in /Users/cchase/git/github/cfchase/ny-state-poc/venv/lib/python3.11/site-packages (from docling-ibm-models<3.0.0,>=2.0.6->docling<3.0.0->-r requirements.txt (line 2)) (3.1.0)\r\n",
      "Requirement already satisfied: opencv-python-headless<5.0.0.0,>=4.6.0.66 in /Users/cchase/git/github/cfchase/ny-state-poc/venv/lib/python3.11/site-packages (from docling-ibm-models<3.0.0,>=2.0.6->docling<3.0.0->-r requirements.txt (line 2)) (4.10.0.84)\r\n",
      "Requirement already satisfied: scikit-image in /Users/cchase/git/github/cfchase/ny-state-poc/venv/lib/python3.11/site-packages (from easyocr<2.0,>=1.7->docling<3.0.0->-r requirements.txt (line 2)) (0.25.0)\r\n",
      "Requirement already satisfied: python-bidi in /Users/cchase/git/github/cfchase/ny-state-poc/venv/lib/python3.11/site-packages (from easyocr<2.0,>=1.7->docling<3.0.0->-r requirements.txt (line 2)) (0.6.3)\r\n",
      "Requirement already satisfied: Shapely in /Users/cchase/git/github/cfchase/ny-state-poc/venv/lib/python3.11/site-packages (from easyocr<2.0,>=1.7->docling<3.0.0->-r requirements.txt (line 2)) (2.0.6)\r\n",
      "Requirement already satisfied: pyclipper in /Users/cchase/git/github/cfchase/ny-state-poc/venv/lib/python3.11/site-packages (from easyocr<2.0,>=1.7->docling<3.0.0->-r requirements.txt (line 2)) (1.3.0.post6)\r\n",
      "Requirement already satisfied: ninja in /Users/cchase/git/github/cfchase/ny-state-poc/venv/lib/python3.11/site-packages (from easyocr<2.0,>=1.7->docling<3.0.0->-r requirements.txt (line 2)) (1.11.1.3)\r\n",
      "Requirement already satisfied: gitdb<5,>=4.0.1 in /Users/cchase/git/github/cfchase/ny-state-poc/venv/lib/python3.11/site-packages (from GitPython>=3.1.42->instructlab->-r requirements.txt (line 1)) (4.0.11)\r\n",
      "Requirement already satisfied: httpcore==1.* in /Users/cchase/git/github/cfchase/ny-state-poc/venv/lib/python3.11/site-packages (from httpx>=0.25.0->instructlab->-r requirements.txt (line 1)) (1.0.7)\r\n",
      "Requirement already satisfied: h11<0.15,>=0.13 in /Users/cchase/git/github/cfchase/ny-state-poc/venv/lib/python3.11/site-packages (from httpcore==1.*->httpx>=0.25.0->instructlab->-r requirements.txt (line 1)) (0.14.0)\r\n",
      "Requirement already satisfied: hf-transfer>=0.1.4 in /Users/cchase/git/github/cfchase/ny-state-poc/venv/lib/python3.11/site-packages (from huggingface_hub[hf_transfer]>=0.1.8->instructlab->-r requirements.txt (line 1)) (0.1.8)\r\n",
      "Requirement already satisfied: shortuuid in /Users/cchase/git/github/cfchase/ny-state-poc/venv/lib/python3.11/site-packages (from instructlab-eval<0.5.0,>=0.4.0->instructlab->-r requirements.txt (line 1)) (1.0.13)\r\n",
      "Requirement already satisfied: accelerate in /Users/cchase/git/github/cfchase/ny-state-poc/venv/lib/python3.11/site-packages (from instructlab-eval<0.5.0,>=0.4.0->instructlab->-r requirements.txt (line 1)) (1.2.1)\r\n",
      "Requirement already satisfied: pandas-stubs in /Users/cchase/git/github/cfchase/ny-state-poc/venv/lib/python3.11/site-packages (from instructlab-eval<0.5.0,>=0.4.0->instructlab->-r requirements.txt (line 1)) (2.2.3.241126)\r\n",
      "Requirement already satisfied: lm-eval>=0.4.4 in /Users/cchase/git/github/cfchase/ny-state-poc/venv/lib/python3.11/site-packages (from instructlab-eval<0.5.0,>=0.4.0->instructlab->-r requirements.txt (line 1)) (0.4.7)\r\n",
      "Requirement already satisfied: yamllint>=1.35.1 in /Users/cchase/git/github/cfchase/ny-state-poc/venv/lib/python3.11/site-packages (from instructlab-schema>=0.4.0->instructlab->-r requirements.txt (line 1)) (1.35.1)\r\n",
      "Requirement already satisfied: wheel>=0.43 in /Users/cchase/git/github/cfchase/ny-state-poc/venv/lib/python3.11/site-packages (from instructlab-training<0.7.0,>=0.6.0->instructlab->-r requirements.txt (line 1)) (0.45.1)\r\n",
      "Requirement already satisfied: py-cpuinfo in /Users/cchase/git/github/cfchase/ny-state-poc/venv/lib/python3.11/site-packages (from instructlab-training<0.7.0,>=0.6.0->instructlab->-r requirements.txt (line 1)) (9.0.0)\r\n",
      "Requirement already satisfied: numba in /Users/cchase/git/github/cfchase/ny-state-poc/venv/lib/python3.11/site-packages (from instructlab-training<0.7.0,>=0.6.0->instructlab->-r requirements.txt (line 1)) (0.60.0)\r\n",
      "Requirement already satisfied: instructlab-dolomite>=0.2.0 in /Users/cchase/git/github/cfchase/ny-state-poc/venv/lib/python3.11/site-packages (from instructlab-training<0.7.0,>=0.6.0->instructlab->-r requirements.txt (line 1)) (0.2.0)\r\n",
      "Requirement already satisfied: aiofiles>=23.2.1 in /Users/cchase/git/github/cfchase/ny-state-poc/venv/lib/python3.11/site-packages (from instructlab-training<0.7.0,>=0.6.0->instructlab->-r requirements.txt (line 1)) (24.1.0)\r\n",
      "Requirement already satisfied: MarkupSafe>=2.0 in /Users/cchase/git/github/cfchase/ny-state-poc/venv/lib/python3.11/site-packages (from jinja2>=2.11.3->llama_cpp_python==0.2.79->llama_cpp_python[server]==0.2.79->instructlab->-r requirements.txt (line 1)) (3.0.2)\r\n",
      "Requirement already satisfied: jsonpatch<2.0,>=1.33 in /Users/cchase/git/github/cfchase/ny-state-poc/venv/lib/python3.11/site-packages (from langchain-core<0.4.0,>=0.3.25->langchain~=0.3.12->-r requirements.txt (line 4)) (1.33)\r\n",
      "Requirement already satisfied: orjson<4.0.0,>=3.9.14 in /Users/cchase/git/github/cfchase/ny-state-poc/venv/lib/python3.11/site-packages (from langsmith<0.3,>=0.1.17->langchain~=0.3.12->-r requirements.txt (line 4)) (3.10.12)\r\n",
      "Requirement already satisfied: requests-toolbelt<2.0.0,>=1.0.0 in /Users/cchase/git/github/cfchase/ny-state-poc/venv/lib/python3.11/site-packages (from langsmith<0.3,>=0.1.17->langchain~=0.3.12->-r requirements.txt (line 4)) (1.0.0)\r\n",
      "Requirement already satisfied: et-xmlfile in /Users/cchase/git/github/cfchase/ny-state-poc/venv/lib/python3.11/site-packages (from openpyxl<4.0.0,>=3.1.5->docling<3.0.0->-r requirements.txt (line 2)) (2.0.0)\r\n",
      "Requirement already satisfied: python-dateutil>=2.8.2 in /Users/cchase/git/github/cfchase/ny-state-poc/venv/lib/python3.11/site-packages (from pandas<3.0.0,>=2.1.4->docling<3.0.0->-r requirements.txt (line 2)) (2.9.0.post0)\r\n",
      "Requirement already satisfied: pytz>=2020.1 in /Users/cchase/git/github/cfchase/ny-state-poc/venv/lib/python3.11/site-packages (from pandas<3.0.0,>=2.1.4->docling<3.0.0->-r requirements.txt (line 2)) (2024.2)\r\n",
      "Requirement already satisfied: tzdata>=2022.7 in /Users/cchase/git/github/cfchase/ny-state-poc/venv/lib/python3.11/site-packages (from pandas<3.0.0,>=2.1.4->docling<3.0.0->-r requirements.txt (line 2)) (2024.2)\r\n",
      "Requirement already satisfied: safetensors in /Users/cchase/git/github/cfchase/ny-state-poc/venv/lib/python3.11/site-packages (from peft>=0.9.0->instructlab->-r requirements.txt (line 1)) (0.4.5)\r\n",
      "Requirement already satisfied: wcwidth in /Users/cchase/git/github/cfchase/ny-state-poc/venv/lib/python3.11/site-packages (from prompt-toolkit>=3.0.38->instructlab->-r requirements.txt (line 1)) (0.2.13)\r\n",
      "Requirement already satisfied: annotated-types>=0.6.0 in /Users/cchase/git/github/cfchase/ny-state-poc/venv/lib/python3.11/site-packages (from pydantic>=2.7.4->instructlab->-r requirements.txt (line 1)) (0.7.0)\r\n",
      "Requirement already satisfied: pydantic-core==2.23.4 in /Users/cchase/git/github/cfchase/ny-state-poc/venv/lib/python3.11/site-packages (from pydantic>=2.7.4->instructlab->-r requirements.txt (line 1)) (2.23.4)\r\n",
      "Requirement already satisfied: XlsxWriter>=0.5.7 in /Users/cchase/git/github/cfchase/ny-state-poc/venv/lib/python3.11/site-packages (from python-pptx<2.0.0,>=1.0.2->docling<3.0.0->-r requirements.txt (line 2)) (3.2.0)\r\n",
      "Requirement already satisfied: charset-normalizer<4,>=2 in /Users/cchase/git/github/cfchase/ny-state-poc/venv/lib/python3.11/site-packages (from requests<3.0.0,>=2.32.3->docling<3.0.0->-r requirements.txt (line 2)) (3.4.0)\r\n",
      "Requirement already satisfied: urllib3<3,>=1.21.1 in /Users/cchase/git/github/cfchase/ny-state-poc/venv/lib/python3.11/site-packages (from requests<3.0.0,>=2.32.3->docling<3.0.0->-r requirements.txt (line 2)) (2.2.3)\r\n",
      "Requirement already satisfied: markdown-it-py>=2.2.0 in /Users/cchase/git/github/cfchase/ny-state-poc/venv/lib/python3.11/site-packages (from rich>=13.3.1->instructlab->-r requirements.txt (line 1)) (3.0.0)\r\n",
      "Requirement already satisfied: pygments<3.0.0,>=2.13.0 in /Users/cchase/git/github/cfchase/ny-state-poc/venv/lib/python3.11/site-packages (from rich>=13.3.1->instructlab->-r requirements.txt (line 1)) (2.18.0)\r\n",
      "Requirement already satisfied: absl-py in /Users/cchase/git/github/cfchase/ny-state-poc/venv/lib/python3.11/site-packages (from rouge-score>=0.1.2->instructlab->-r requirements.txt (line 1)) (2.1.0)\r\n",
      "Requirement already satisfied: nltk in /Users/cchase/git/github/cfchase/ny-state-poc/venv/lib/python3.11/site-packages (from rouge-score>=0.1.2->instructlab->-r requirements.txt (line 1)) (3.9.1)\r\n",
      "Requirement already satisfied: six>=1.14.0 in /Users/cchase/git/github/cfchase/ny-state-poc/venv/lib/python3.11/site-packages (from rouge-score>=0.1.2->instructlab->-r requirements.txt (line 1)) (1.17.0)\r\n",
      "Requirement already satisfied: ruamel.yaml.clib>=0.2.7 in /Users/cchase/git/github/cfchase/ny-state-poc/venv/lib/python3.11/site-packages (from ruamel.yaml>=0.17.0->instructlab->-r requirements.txt (line 1)) (0.2.12)\r\n",
      "Requirement already satisfied: regex>=2022.1.18 in /Users/cchase/git/github/cfchase/ny-state-poc/venv/lib/python3.11/site-packages (from tiktoken<1,>=0.7->langchain-openai~=0.2.12->-r requirements.txt (line 6)) (2024.11.6)\r\n",
      "Requirement already satisfied: shellingham>=1.3.0 in /Users/cchase/git/github/cfchase/ny-state-poc/venv/lib/python3.11/site-packages (from typer<0.13.0,>=0.12.5->docling<3.0.0->-r requirements.txt (line 2)) (1.5.4)\r\n",
      "Requirement already satisfied: docker-pycreds>=0.4.0 in /Users/cchase/git/github/cfchase/ny-state-poc/venv/lib/python3.11/site-packages (from wandb>=0.16.4->instructlab->-r requirements.txt (line 1)) (0.4.0)\r\n",
      "Requirement already satisfied: platformdirs in /Users/cchase/git/github/cfchase/ny-state-poc/venv/lib/python3.11/site-packages (from wandb>=0.16.4->instructlab->-r requirements.txt (line 1)) (4.3.6)\r\n",
      "Requirement already satisfied: sentry-sdk>=2.0.0 in /Users/cchase/git/github/cfchase/ny-state-poc/venv/lib/python3.11/site-packages (from wandb>=0.16.4->instructlab->-r requirements.txt (line 1)) (2.19.2)\r\n",
      "Requirement already satisfied: setproctitle in /Users/cchase/git/github/cfchase/ny-state-poc/venv/lib/python3.11/site-packages (from wandb>=0.16.4->instructlab->-r requirements.txt (line 1)) (1.3.4)\r\n",
      "Requirement already satisfied: joblib>=1.2.0 in /Users/cchase/git/github/cfchase/ny-state-poc/venv/lib/python3.11/site-packages (from scikit-learn->sentence-transformers~=3.3.1->-r requirements.txt (line 12)) (1.4.2)\r\n",
      "Requirement already satisfied: threadpoolctl>=3.1.0 in /Users/cchase/git/github/cfchase/ny-state-poc/venv/lib/python3.11/site-packages (from scikit-learn->sentence-transformers~=3.3.1->-r requirements.txt (line 12)) (3.5.0)\r\n",
      "Requirement already satisfied: mpmath<1.4,>=1.1.0 in /Users/cchase/git/github/cfchase/ny-state-poc/venv/lib/python3.11/site-packages (from sympy->torch->-r requirements.txt (line 13)) (1.3.0)\r\n",
      "Requirement already satisfied: tesserocr<3.0.0,>=2.7.1 in /Users/cchase/git/github/cfchase/ny-state-poc/venv/lib/python3.11/site-packages (from docling[tesserocr]<=2.8.3,>=2.4.2->instructlab-sdg<0.7.0,>=0.6.2->instructlab->-r requirements.txt (line 1)) (2.7.1)\r\n",
      "Requirement already satisfied: starlette<0.42.0,>=0.40.0 in /Users/cchase/git/github/cfchase/ny-state-poc/venv/lib/python3.11/site-packages (from fastapi>=0.100.0->llama_cpp_python[server]==0.2.79->instructlab->-r requirements.txt (line 1)) (0.41.3)\r\n",
      "Requirement already satisfied: smmap<6,>=3.0.1 in /Users/cchase/git/github/cfchase/ny-state-poc/venv/lib/python3.11/site-packages (from gitdb<5,>=4.0.1->GitPython>=3.1.42->instructlab->-r requirements.txt (line 1)) (5.0.1)\r\n",
      "Requirement already satisfied: jsonpointer>=1.9 in /Users/cchase/git/github/cfchase/ny-state-poc/venv/lib/python3.11/site-packages (from jsonpatch<2.0,>=1.33->langchain-core<0.4.0,>=0.3.25->langchain~=0.3.12->-r requirements.txt (line 4)) (3.0.0)\r\n",
      "Requirement already satisfied: jsonschema-specifications>=2023.03.6 in /Users/cchase/git/github/cfchase/ny-state-poc/venv/lib/python3.11/site-packages (from jsonschema<5.0.0,>=4.16.0->docling-core<3.0.0,>=2.6.1->docling<3.0.0->-r requirements.txt (line 2)) (2024.10.1)\r\n",
      "Requirement already satisfied: referencing>=0.28.4 in /Users/cchase/git/github/cfchase/ny-state-poc/venv/lib/python3.11/site-packages (from jsonschema<5.0.0,>=4.16.0->docling-core<3.0.0,>=2.6.1->docling<3.0.0->-r requirements.txt (line 2)) (0.35.1)\r\n",
      "Requirement already satisfied: rpds-py>=0.7.1 in /Users/cchase/git/github/cfchase/ny-state-poc/venv/lib/python3.11/site-packages (from jsonschema<5.0.0,>=4.16.0->docling-core<3.0.0,>=2.6.1->docling<3.0.0->-r requirements.txt (line 2)) (0.22.3)\r\n",
      "Requirement already satisfied: evaluate in /Users/cchase/git/github/cfchase/ny-state-poc/venv/lib/python3.11/site-packages (from lm-eval>=0.4.4->instructlab-eval<0.5.0,>=0.4.0->instructlab->-r requirements.txt (line 1)) (0.4.3)\r\n",
      "Requirement already satisfied: numexpr in /Users/cchase/git/github/cfchase/ny-state-poc/venv/lib/python3.11/site-packages (from lm-eval>=0.4.4->instructlab-eval<0.5.0,>=0.4.0->instructlab->-r requirements.txt (line 1)) (2.10.2)\r\n",
      "Requirement already satisfied: pybind11>=2.6.2 in /Users/cchase/git/github/cfchase/ny-state-poc/venv/lib/python3.11/site-packages (from lm-eval>=0.4.4->instructlab-eval<0.5.0,>=0.4.0->instructlab->-r requirements.txt (line 1)) (2.13.6)\r\n",
      "Requirement already satisfied: pytablewriter in /Users/cchase/git/github/cfchase/ny-state-poc/venv/lib/python3.11/site-packages (from lm-eval>=0.4.4->instructlab-eval<0.5.0,>=0.4.0->instructlab->-r requirements.txt (line 1)) (1.2.0)\r\n",
      "Requirement already satisfied: sacrebleu>=1.5.0 in /Users/cchase/git/github/cfchase/ny-state-poc/venv/lib/python3.11/site-packages (from lm-eval>=0.4.4->instructlab-eval<0.5.0,>=0.4.0->instructlab->-r requirements.txt (line 1)) (2.4.3)\r\n",
      "Requirement already satisfied: sqlitedict in /Users/cchase/git/github/cfchase/ny-state-poc/venv/lib/python3.11/site-packages (from lm-eval>=0.4.4->instructlab-eval<0.5.0,>=0.4.0->instructlab->-r requirements.txt (line 1)) (2.1.0)\r\n",
      "Requirement already satisfied: tqdm-multiprocess in /Users/cchase/git/github/cfchase/ny-state-poc/venv/lib/python3.11/site-packages (from lm-eval>=0.4.4->instructlab-eval<0.5.0,>=0.4.0->instructlab->-r requirements.txt (line 1)) (0.0.11)\r\n",
      "Requirement already satisfied: zstandard in /Users/cchase/git/github/cfchase/ny-state-poc/venv/lib/python3.11/site-packages (from lm-eval>=0.4.4->instructlab-eval<0.5.0,>=0.4.0->instructlab->-r requirements.txt (line 1)) (0.23.0)\r\n",
      "Requirement already satisfied: word2number in /Users/cchase/git/github/cfchase/ny-state-poc/venv/lib/python3.11/site-packages (from lm-eval>=0.4.4->instructlab-eval<0.5.0,>=0.4.0->instructlab->-r requirements.txt (line 1)) (1.1)\r\n",
      "Requirement already satisfied: more_itertools in /Users/cchase/git/github/cfchase/ny-state-poc/venv/lib/python3.11/site-packages (from lm-eval>=0.4.4->instructlab-eval<0.5.0,>=0.4.0->instructlab->-r requirements.txt (line 1)) (10.5.0)\r\n",
      "Requirement already satisfied: mdurl~=0.1 in /Users/cchase/git/github/cfchase/ny-state-poc/venv/lib/python3.11/site-packages (from markdown-it-py>=2.2.0->rich>=13.3.1->instructlab->-r requirements.txt (line 1)) (0.1.2)\r\n",
      "Requirement already satisfied: mypy-extensions>=0.3.0 in /Users/cchase/git/github/cfchase/ny-state-poc/venv/lib/python3.11/site-packages (from typing-inspect<1,>=0.4.0->dataclasses-json<0.7,>=0.5.7->langchain-community~=0.3.12->-r requirements.txt (line 5)) (1.0.0)\r\n",
      "Requirement already satisfied: pathspec>=0.5.3 in /Users/cchase/git/github/cfchase/ny-state-poc/venv/lib/python3.11/site-packages (from yamllint>=1.35.1->instructlab-schema>=0.4.0->instructlab->-r requirements.txt (line 1)) (0.12.1)\r\n",
      "Requirement already satisfied: llvmlite<0.44,>=0.43.0dev0 in /Users/cchase/git/github/cfchase/ny-state-poc/venv/lib/python3.11/site-packages (from numba->instructlab-training<0.7.0,>=0.6.0->instructlab->-r requirements.txt (line 1)) (0.43.0)\r\n",
      "Requirement already satisfied: types-pytz>=2022.1.1 in /Users/cchase/git/github/cfchase/ny-state-poc/venv/lib/python3.11/site-packages (from pandas-stubs->instructlab-eval<0.5.0,>=0.4.0->instructlab->-r requirements.txt (line 1)) (2024.2.0.20241003)\r\n",
      "Requirement already satisfied: imageio!=2.35.0,>=2.33 in /Users/cchase/git/github/cfchase/ny-state-poc/venv/lib/python3.11/site-packages (from scikit-image->easyocr<2.0,>=1.7->docling<3.0.0->-r requirements.txt (line 2)) (2.36.1)\r\n",
      "Requirement already satisfied: tifffile>=2022.8.12 in /Users/cchase/git/github/cfchase/ny-state-poc/venv/lib/python3.11/site-packages (from scikit-image->easyocr<2.0,>=1.7->docling<3.0.0->-r requirements.txt (line 2)) (2024.12.12)\r\n",
      "Requirement already satisfied: lazy-loader>=0.4 in /Users/cchase/git/github/cfchase/ny-state-poc/venv/lib/python3.11/site-packages (from scikit-image->easyocr<2.0,>=1.7->docling<3.0.0->-r requirements.txt (line 2)) (0.4)\r\n",
      "Requirement already satisfied: portalocker in /Users/cchase/git/github/cfchase/ny-state-poc/venv/lib/python3.11/site-packages (from sacrebleu>=1.5.0->lm-eval>=0.4.4->instructlab-eval<0.5.0,>=0.4.0->instructlab->-r requirements.txt (line 1)) (3.0.0)\r\n",
      "Requirement already satisfied: colorama in /Users/cchase/git/github/cfchase/ny-state-poc/venv/lib/python3.11/site-packages (from sacrebleu>=1.5.0->lm-eval>=0.4.4->instructlab-eval<0.5.0,>=0.4.0->instructlab->-r requirements.txt (line 1)) (0.4.6)\r\n",
      "Requirement already satisfied: DataProperty<2,>=1.0.1 in /Users/cchase/git/github/cfchase/ny-state-poc/venv/lib/python3.11/site-packages (from pytablewriter->lm-eval>=0.4.4->instructlab-eval<0.5.0,>=0.4.0->instructlab->-r requirements.txt (line 1)) (1.0.1)\r\n",
      "Requirement already satisfied: mbstrdecoder<2,>=1.0.0 in /Users/cchase/git/github/cfchase/ny-state-poc/venv/lib/python3.11/site-packages (from pytablewriter->lm-eval>=0.4.4->instructlab-eval<0.5.0,>=0.4.0->instructlab->-r requirements.txt (line 1)) (1.1.3)\r\n",
      "Requirement already satisfied: pathvalidate<4,>=2.3.0 in /Users/cchase/git/github/cfchase/ny-state-poc/venv/lib/python3.11/site-packages (from pytablewriter->lm-eval>=0.4.4->instructlab-eval<0.5.0,>=0.4.0->instructlab->-r requirements.txt (line 1)) (3.2.1)\r\n",
      "Requirement already satisfied: tabledata<2,>=1.3.1 in /Users/cchase/git/github/cfchase/ny-state-poc/venv/lib/python3.11/site-packages (from pytablewriter->lm-eval>=0.4.4->instructlab-eval<0.5.0,>=0.4.0->instructlab->-r requirements.txt (line 1)) (1.3.3)\r\n",
      "Requirement already satisfied: tcolorpy<1,>=0.0.5 in /Users/cchase/git/github/cfchase/ny-state-poc/venv/lib/python3.11/site-packages (from pytablewriter->lm-eval>=0.4.4->instructlab-eval<0.5.0,>=0.4.0->instructlab->-r requirements.txt (line 1)) (0.1.6)\r\n",
      "Requirement already satisfied: typepy<2,>=1.3.2 in /Users/cchase/git/github/cfchase/ny-state-poc/venv/lib/python3.11/site-packages (from typepy[datetime]<2,>=1.3.2->pytablewriter->lm-eval>=0.4.4->instructlab-eval<0.5.0,>=0.4.0->instructlab->-r requirements.txt (line 1)) (1.3.2)\r\n",
      "Requirement already satisfied: chardet<6,>=3.0.4 in /Users/cchase/git/github/cfchase/ny-state-poc/venv/lib/python3.11/site-packages (from mbstrdecoder<2,>=1.0.0->pytablewriter->lm-eval>=0.4.4->instructlab-eval<0.5.0,>=0.4.0->instructlab->-r requirements.txt (line 1)) (5.2.0)\r\n",
      "\r\n",
      "\u001B[1m[\u001B[0m\u001B[34;49mnotice\u001B[0m\u001B[1;39;49m]\u001B[0m\u001B[39;49m A new release of pip is available: \u001B[0m\u001B[31;49m24.0\u001B[0m\u001B[39;49m -> \u001B[0m\u001B[32;49m24.3.1\u001B[0m\r\n",
      "\u001B[1m[\u001B[0m\u001B[34;49mnotice\u001B[0m\u001B[1;39;49m]\u001B[0m\u001B[39;49m To update, run: \u001B[0m\u001B[32;49mpip install --upgrade pip\u001B[0m\r\n"
     ]
    }
   ],
   "execution_count": 1
  },
  {
   "cell_type": "markdown",
   "id": "f98a3532-1ed4-4671-bea4-5e35f64da2bf",
   "metadata": {},
   "source": [
    "### Model inference parameters\n",
    "\n",
    "The parameters to the fine tuned model."
   ]
  },
  {
   "cell_type": "code",
   "id": "304b4bcd-ed99-4d70-aa8a-b4586a9a4966",
   "metadata": {
    "tags": [],
    "ExecuteTime": {
     "end_time": "2024-12-19T18:34:56.140842Z",
     "start_time": "2024-12-19T18:34:53.278429Z"
    }
   },
   "source": [
    "import requests\n",
    "import os\n",
    "import yaml\n",
    "import json\n",
    "import re\n",
    "import time\n",
    "import pandas as pd\n",
    "import torch\n",
    "\n",
    "from typing import Iterator\n",
    "from pathlib import Path\n",
    "from openai import OpenAI\n",
    "\n",
    "from langchain.document_loaders import PyPDFDirectoryLoader\n",
    "from langchain.text_splitter import RecursiveCharacterTextSplitter\n",
    "from langchain.embeddings.huggingface import HuggingFaceEmbeddings\n",
    "from langchain.prompts import PromptTemplate\n",
    "\n",
    "from langchain_core.runnables import RunnablePassthrough\n",
    "from langchain_core.output_parsers import StrOutputParser\n",
    "from langchain_core.document_loaders import BaseLoader\n",
    "from langchain_core.documents import Document as LCDocument\n",
    "\n",
    "from langchain_openai import ChatOpenAI\n",
    "from langchain_community.llms import VLLMOpenAI\n",
    "from langchain_milvus import Milvus\n",
    "from langchain_text_splitters import RecursiveCharacterTextSplitter\n",
    "\n",
    "from docling.document_converter import DocumentConverter\n",
    "\n",
    "\n",
    "def replace_special_char(original_str):\n",
    "    return re.sub(r\"[^\\w]\", \"_\", original_str)\n",
    "\n",
    "\n",
    "def get_config():\n",
    "    with open(\"llm_config.yaml\", \"r\") as f:\n",
    "        llm_config = yaml.safe_load(f)\n",
    "    return llm_config\n",
    "\n",
    "\n",
    "def get_output_dir():\n",
    "    llm_config = get_config()\n",
    "    output_directory = replace_special_char(llm_config.get(\"name\", \"output\"))\n",
    "    os.makedirs(output_directory, exist_ok=True)\n",
    "    return output_directory\n",
    "\n",
    "\n",
    "def get_testing_config_name(testing_config):\n",
    "    name = testing_config.get(\"name\")\n",
    "    if name:\n",
    "        return replace_special_char(name)\n",
    "\n",
    "    name = testing_config.get(\"model_name\")\n",
    "    if name and testing_config.get(\"rag\"):\n",
    "        name = replace_special_char(name + \"_rag\")\n",
    "    return name\n"
   ],
   "outputs": [],
   "execution_count": 2
  },
  {
   "cell_type": "code",
   "id": "850fa004651738c5",
   "metadata": {
    "ExecuteTime": {
     "end_time": "2024-12-19T18:34:56.188888Z",
     "start_time": "2024-12-19T18:34:56.182784Z"
    }
   },
   "source": [
    "import os\n",
    "\n",
    "from dotenv import load_dotenv\n",
    "\n",
    "load_dotenv()"
   ],
   "outputs": [
    {
     "data": {
      "text/plain": [
       "False"
      ]
     },
     "execution_count": 3,
     "metadata": {},
     "output_type": "execute_result"
    }
   ],
   "execution_count": 3
  },
  {
   "cell_type": "code",
   "id": "681ca2a6-523d-4a83-a102-270f5747bb00",
   "metadata": {
    "tags": [],
    "ExecuteTime": {
     "end_time": "2024-12-19T18:34:56.204507Z",
     "start_time": "2024-12-19T18:34:56.202752Z"
    }
   },
   "source": [
    "MAX_TOKENS = 2048\n",
    "TEMPERATURE = 0.00"
   ],
   "outputs": [],
   "execution_count": 4
  },
  {
   "cell_type": "markdown",
   "id": "47a2c060-ea3e-4bbe-8f3a-3c2e5605c2e4",
   "metadata": {},
   "source": [
    "### Milvus connection info\n",
    "\n",
    "Defaults to local db"
   ]
  },
  {
   "cell_type": "code",
   "id": "b655969f-53fb-4917-8a7e-1ee480402524",
   "metadata": {
    "tags": [],
    "ExecuteTime": {
     "end_time": "2024-12-19T18:34:56.221106Z",
     "start_time": "2024-12-19T18:34:56.218858Z"
    }
   },
   "source": [
    "MILVUS_URI = os.getenv(\"MILVUS_URI\", \"./milvus_llm_judge_eval.db\")\n",
    "MILVUS_USERNAME = os.getenv(\"MILVUS_USERNAME\", \"\")\n",
    "MILVUS_PASSWORD = os.getenv(\"MILVUS_PASSWORD\", \"\")\n",
    "MILVUS_COLLECTION = os.getenv(\"MILVUS_COLLECTION\", \"my_org_documents\")"
   ],
   "outputs": [],
   "execution_count": 5
  },
  {
   "cell_type": "markdown",
   "id": "3420575b-4d00-458b-aa0e-7030008ccd53",
   "metadata": {},
   "source": [
    "## Sanity check model"
   ]
  },
  {
   "cell_type": "code",
   "id": "a20e7d20fe421c6",
   "metadata": {
    "ExecuteTime": {
     "end_time": "2024-12-19T18:34:56.229836Z",
     "start_time": "2024-12-19T18:34:56.226750Z"
    }
   },
   "source": [
    "def create_llm(testing_config):\n",
    "    openai_api_key = re.sub(r\"\\s+\", \"\", testing_config.get(\"api_key\"))\n",
    "    model_name = testing_config.get(\"model_name\")\n",
    "    if testing_config.get(\"model_type\") == \"openai\":\n",
    "        # print(\"Creating OpenAI model\")\n",
    "        return ChatOpenAI(\n",
    "            openai_api_key=openai_api_key,\n",
    "            model_name=model_name,\n",
    "            streaming=False)\n",
    "    # print(\"Creating VLLM model\")\n",
    "    openai_api_base = testing_config.get(\"endpoint_url\")\n",
    "    return VLLMOpenAI(\n",
    "        openai_api_key=openai_api_key,\n",
    "        openai_api_base=openai_api_base,  #https://model...com/v1\n",
    "        model_name=model_name,\n",
    "        temperature=TEMPERATURE,\n",
    "        max_tokens=MAX_TOKENS,\n",
    "        streaming=False\n",
    "    )\n",
    "\n",
    "\n",
    "def qna_request(llm, template_str, question):\n",
    "    num_retries = 1\n",
    "    for attempt in range(num_retries):\n",
    "        try:\n",
    "            prompt = PromptTemplate.from_template(template_str)\n",
    "            chain = prompt | llm | StrOutputParser()\n",
    "            answer = chain.invoke({\"question\": question})\n",
    "            # print(answer)\n",
    "            return answer.strip()\n",
    "        except Exception as e:\n",
    "            print(f\"Request failed: {e}\")\n",
    "            if attempt + 1 < num_retries:\n",
    "                print(f\"Retrying in 5 seconds...\")\n",
    "                time.sleep(5)\n",
    "            else:\n",
    "                return \"\"\n"
   ],
   "outputs": [],
   "execution_count": 6
  },
  {
   "cell_type": "code",
   "id": "92c2ab24a267887b",
   "metadata": {
    "ExecuteTime": {
     "end_time": "2024-12-19T18:35:01.646141Z",
     "start_time": "2024-12-19T18:34:56.813696Z"
    }
   },
   "source": [
    "llm_config = get_config()\n",
    "for testing_config in llm_config[\"testing_config\"]:\n",
    "    if testing_config.get(\"rag\"):\n",
    "        continue\n",
    "    else:\n",
    "        print(testing_config.get(\"name\"))\n",
    "        llm = create_llm(testing_config)\n",
    "        template_str = testing_config.get(\"template\")\n",
    "        question = \"Who are you?\"\n",
    "        answer = qna_request(llm, template_str, question)\n",
    "        print(answer)\n",
    "        break"
   ],
   "outputs": [
    {
     "name": "stdout",
     "output_type": "stream",
     "text": [
      "finetuned\n",
      "As a helpful and knowledgeable AI assistant, I am designed to provide accurate and relevant information to users. I am not a human, but rather an advanced algorithm that has been trained on a vast amount of data to understand and respond to a wide range of inquiries. My purpose is to assist and make your life easier by offering valuable insights and answering your questions to the best of my ability.\n"
     ]
    }
   ],
   "execution_count": 7
  },
  {
   "cell_type": "markdown",
   "id": "c961a7ae-d9d9-4cbc-9926-e1acaa6bc0f0",
   "metadata": {},
   "source": [
    "## Creating an Milvus DB with documents"
   ]
  },
  {
   "cell_type": "markdown",
   "id": "28f598eb-8665-4240-91c0-3cc178aad88c",
   "metadata": {},
   "source": [
    "## Initial index creation and document ingestion"
   ]
  },
  {
   "cell_type": "markdown",
   "id": "f8cff5f7-c509-48db-90b5-e15815b8b530",
   "metadata": {},
   "source": [
    "#### Load pdfs"
   ]
  },
  {
   "cell_type": "code",
   "execution_count": null,
   "id": "54db9a89a16c5c07",
   "metadata": {
    "ExecuteTime": {
     "end_time": "2024-12-18T18:52:26.691120Z",
     "start_time": "2024-12-18T18:52:26.687916Z"
    }
   },
   "outputs": [],
   "source": [
    "class DoclingPDFLoader(BaseLoader):\n",
    "    def __init__(self, file_path: str | list[str]) -> None:\n",
    "        self._file_paths = file_path if isinstance(file_path, list) else [file_path]\n",
    "        self._converter = DocumentConverter()\n",
    "\n",
    "    def lazy_load(self) -> Iterator[LCDocument]:\n",
    "        for source in self._file_paths:\n",
    "            dl_doc = self._converter.convert(source).document\n",
    "            text = dl_doc.export_to_markdown()\n",
    "            yield LCDocument(page_content=text)"
   ]
  },
  {
   "cell_type": "code",
   "execution_count": null,
   "id": "2a968a5dd3653176",
   "metadata": {
    "ExecuteTime": {
     "end_time": "2024-12-18T18:52:26.702856Z",
     "start_time": "2024-12-18T18:52:26.698040Z"
    }
   },
   "outputs": [],
   "source": [
    "pdf_folder_path = \"../data_preparation/document_collection\"\n",
    "file_paths = [str(path) for path in Path(pdf_folder_path).rglob('*.pdf')]\n",
    "file_paths"
   ]
  },
  {
   "cell_type": "code",
   "execution_count": null,
   "id": "d9a38809-2915-4376-a847-0cec2abbfd0b",
   "metadata": {
    "ExecuteTime": {
     "end_time": "2024-12-18T18:52:26.711883Z",
     "start_time": "2024-12-18T18:52:26.709085Z"
    }
   },
   "outputs": [],
   "source": [
    "loader = DoclingPDFLoader(file_path=file_paths)"
   ]
  },
  {
   "cell_type": "markdown",
   "id": "4198fe0a-38bf-4cd4-af7d-35b41c645edd",
   "metadata": {},
   "source": [
    "#### Split documents into chunks with some overlap"
   ]
  },
  {
   "cell_type": "code",
   "execution_count": null,
   "id": "6362934767fd34ad",
   "metadata": {
    "ExecuteTime": {
     "end_time": "2024-12-18T18:52:51.348398Z",
     "start_time": "2024-12-18T18:52:26.723190Z"
    }
   },
   "outputs": [],
   "source": [
    "text_splitter = RecursiveCharacterTextSplitter(\n",
    "    chunk_size=1024,\n",
    "    chunk_overlap=100,\n",
    ")\n",
    "\n",
    "docs = loader.load()\n",
    "splits = text_splitter.split_documents(docs)\n",
    "splits[0]"
   ]
  },
  {
   "cell_type": "markdown",
   "id": "7ae7eae2-c670-4eb5-803b-b4d591fa83db",
   "metadata": {},
   "source": [
    "#### Create the index and ingest the documents"
   ]
  },
  {
   "cell_type": "code",
   "execution_count": null,
   "id": "53eb6d94-8615-4d55-b5b1-102f9ce56e6b",
   "metadata": {
    "ExecuteTime": {
     "end_time": "2024-12-18T18:52:57.291510Z",
     "start_time": "2024-12-18T18:52:51.358195Z"
    }
   },
   "outputs": [],
   "source": [
    "device = (\n",
    "    \"cuda\" if torch.cuda.is_available()\n",
    "    else \"mps\" if torch.backends.mps.is_available()\n",
    "    else \"cpu\"\n",
    ")\n",
    "\n",
    "model_kwargs = {\"trust_remote_code\": True, \"device\": device}\n",
    "embeddings = HuggingFaceEmbeddings(\n",
    "    model_name=\"nomic-ai/nomic-embed-text-v1.5\",\n",
    "    model_kwargs=model_kwargs,\n",
    "    show_progress=True\n",
    ")\n",
    "\n",
    "db = Milvus(\n",
    "    embedding_function=embeddings,\n",
    "    connection_args={\n",
    "        \"uri\": MILVUS_URI,\n",
    "        \"user\": MILVUS_USERNAME,\n",
    "        \"password\": MILVUS_PASSWORD\n",
    "    },\n",
    "    collection_name=MILVUS_COLLECTION,\n",
    "    auto_id=True,\n",
    "    drop_old=True\n",
    ")\n"
   ]
  },
  {
   "cell_type": "code",
   "execution_count": null,
   "id": "b6bf425b-dffd-4f42-9537-49d41383182d",
   "metadata": {
    "ExecuteTime": {
     "end_time": "2024-12-18T18:53:02.340189Z",
     "start_time": "2024-12-18T18:52:57.302430Z"
    },
    "tags": []
   },
   "outputs": [],
   "source": [
    "loaded = db.add_documents(splits)\n",
    "print(f\"{len(loaded)} documents loaded.\")"
   ]
  },
  {
   "cell_type": "markdown",
   "id": "dae3b458-4979-46df-8493-7496764a2568",
   "metadata": {},
   "source": [
    "#### Test vector DB search"
   ]
  },
  {
   "cell_type": "code",
   "execution_count": null,
   "id": "489c6e6d-c42c-4de4-87cf-8edfd0e63da3",
   "metadata": {
    "ExecuteTime": {
     "end_time": "2024-12-18T18:53:02.446894Z",
     "start_time": "2024-12-18T18:53:02.347422Z"
    },
    "tags": []
   },
   "outputs": [],
   "source": [
    "query = \"Who are you?\"\n",
    "# query = \"Who are the funding partners for the State's transformative infrastructure projects?\"\n",
    "docs_with_score = db.similarity_search_with_score(query)"
   ]
  },
  {
   "cell_type": "code",
   "execution_count": null,
   "id": "90feeb37-7888-4c5f-a5cb-5f82637cec16",
   "metadata": {
    "ExecuteTime": {
     "end_time": "2024-12-18T18:53:02.454676Z",
     "start_time": "2024-12-18T18:53:02.452612Z"
    },
    "tags": []
   },
   "outputs": [],
   "source": [
    "for doc, score in docs_with_score:\n",
    "    print(\"-\" * 80)\n",
    "    print(\"Score: \", score)\n",
    "    print(doc.page_content)\n",
    "    print(\"-\" * 80)"
   ]
  },
  {
   "cell_type": "markdown",
   "id": "05d47df1-ec9b-4571-8864-0c2ff1051dbf",
   "metadata": {},
   "source": [
    "#### Test out RAG request"
   ]
  },
  {
   "cell_type": "code",
   "execution_count": null,
   "id": "289b702a5f57bd69",
   "metadata": {
    "ExecuteTime": {
     "end_time": "2024-12-18T18:53:02.464954Z",
     "start_time": "2024-12-18T18:53:02.461902Z"
    }
   },
   "outputs": [],
   "source": [
    "retriever = db.as_retriever(search_type=\"similarity\", search_kwargs={\"k\": 4})\n",
    "\n",
    "\n",
    "def format_docs(docs):\n",
    "    return \"\\n\\n\".join(doc.page_content for doc in docs)\n",
    "\n",
    "\n",
    "def rag_request(llm, template_str, question):\n",
    "    num_retries = 1\n",
    "    for attempt in range(num_retries):\n",
    "        try:\n",
    "            prompt = PromptTemplate.from_template(template_str)\n",
    "            rag_chain = (\n",
    "                    {\"context\": retriever | format_docs, \"question\": RunnablePassthrough()}\n",
    "                    | prompt\n",
    "                    | llm\n",
    "                    | StrOutputParser()\n",
    "            )\n",
    "            response = rag_chain.invoke(question)\n",
    "            return response.strip()\n",
    "        except Exception as e:\n",
    "            print(f\"Request failed: {e}\")\n",
    "            if attempt < num_retries:\n",
    "                print(f\"Retrying in 5 seconds...\")\n",
    "                time.sleep(5)\n",
    "            else:\n",
    "                return \"\""
   ]
  },
  {
   "cell_type": "code",
   "execution_count": null,
   "id": "a16d018583d742b2",
   "metadata": {
    "ExecuteTime": {
     "end_time": "2024-12-18T18:53:10.669919Z",
     "start_time": "2024-12-18T18:53:02.478324Z"
    }
   },
   "outputs": [],
   "source": [
    "llm_config = get_config()\n",
    "for testing_config in llm_config[\"testing_config\"]:\n",
    "    if not testing_config.get(\"rag\"):\n",
    "        continue\n",
    "    else:\n",
    "        llm = create_llm(testing_config)\n",
    "        template_str = testing_config.get(\"template\")\n",
    "        question = \"Who are you?\"\n",
    "        answer = rag_request(llm, template_str, question)\n",
    "        print(answer)\n",
    "        break"
   ]
  },
  {
   "cell_type": "markdown",
   "id": "f9fe9c8d763f89d3",
   "metadata": {},
   "source": [
    "## Generate Answers"
   ]
  },
  {
   "cell_type": "markdown",
   "id": "7f44deb49353ef15",
   "metadata": {},
   "source": [
    "### Use qna.yaml, csv, jsonl to create some questions and ground truth answers\n",
    "\n",
    "We create a pandas dataframe with the columns `question` and `ground_truth`\n",
    "- create a csv file in the correct (default is \"ground_truth\") directory with the columns `question` and `ground_truth`\n",
    "\n",
    "- qna.yaml files can be taken as written from data_preparation and converted to the appropriate format.  "
   ]
  },
  {
   "cell_type": "code",
   "execution_count": null,
   "id": "84d59e9b14117335",
   "metadata": {
    "ExecuteTime": {
     "end_time": "2024-12-18T18:53:10.718876Z",
     "start_time": "2024-12-18T18:53:10.685367Z"
    }
   },
   "outputs": [],
   "source": [
    "llm_config = get_config()\n",
    "output_directory = get_output_dir()\n",
    "qround_truth_df = pd.DataFrame(columns=[\"user_input\", \"reference\"])\n",
    "\n",
    "directory = \"reference_answers\"\n",
    "for file_path in Path(directory).rglob('*.csv'):\n",
    "    # print(file_path)\n",
    "    csv_df = pd.read_csv(file_path)\n",
    "    print(f\"{file_path}: {csv_df.shape[0]} questions\")\n",
    "    qround_truth_df = pd.concat([qround_truth_df, csv_df], ignore_index=True)\n",
    "\n",
    "for file_path in Path(directory).rglob('*.jsonl'):\n",
    "    # print(file_path)\n",
    "    jsonl_df = pd.read_json(file_path, orient=\"records\", lines=True)\n",
    "    print(f\"{file_path}: {jsonl_df.shape[0]} questions\")\n",
    "    qround_truth_df = pd.concat([qround_truth_df, jsonl_df], ignore_index=True)\n",
    "\n",
    "qna_list = []\n",
    "\n",
    "for file_path in Path(directory).rglob('*.yaml'):\n",
    "    with open(file_path) as file:\n",
    "        qna = yaml.load(file, Loader=yaml.FullLoader)\n",
    "        for seed_example in qna[\"seed_examples\"]:\n",
    "            for questions_and_answers in seed_example[\"questions_and_answers\"]:\n",
    "                qna_list.append({\n",
    "                    \"user_input\": questions_and_answers[\"question\"].strip(),\n",
    "                    \"reference\": questions_and_answers[\"answer\"].strip()\n",
    "                })\n",
    "        print(f\"{file_path}: {len(qna_list)} questions\")\n",
    "\n",
    "ground_truth_df = pd.concat([qround_truth_df, pd.DataFrame(qna_list)], ignore_index=True)\n",
    "ground_truth_df = ground_truth_df.drop_duplicates(subset=[\"user_input\"])\n",
    "print(f\"{ground_truth_df.shape[0]} total unique questions\")\n",
    "\n",
    "ground_truth_df.to_json(f\"{output_directory}/reference_answers.jsonl\", orient=\"records\", lines=True)\n",
    "ground_truth_df.head()"
   ]
  },
  {
   "cell_type": "markdown",
   "id": "61f7533cc3d406a1",
   "metadata": {},
   "source": [
    "## Get responses from each of the available models"
   ]
  },
  {
   "metadata": {
    "ExecuteTime": {
     "end_time": "2024-12-19T18:35:58.874018Z",
     "start_time": "2024-12-19T18:35:58.068720Z"
    }
   },
   "cell_type": "code",
   "source": [
    "from instructlab_ragas import ModelConfig, RagasEvaluator, RunConfig, Sample\n",
    "import os\n",
    "\n",
    "llm_config = get_config()\n",
    "output_directory = get_output_dir()\n",
    "reference_answers_df = pd.read_json(f\"{output_directory}/reference_answers.jsonl\", orient=\"records\", lines=True)\n",
    "reference_answers_df\n",
    "\n",
    "for testing_config in llm_config[\"testing_config\"]:\n",
    "    testing_config_name = get_testing_config_name(testing_config)\n",
    "    print(\"-\" * 80)\n",
    "    print(testing_config_name)\n",
    "\n",
    "    reference_answers_df = pd.read_json(f\"{output_directory}/reference_answers.jsonl\", orient=\"records\", lines=True)\n",
    "    dataset = reference_answers_df.to_dict(orient=\"records\")\n",
    "\n",
    "    student_model = ModelConfig(\n",
    "        base_url=testing_config.get(\"endpoint_url\"),\n",
    "        model_name=testing_config.get(\"model_name\"),\n",
    "        api_key=testing_config.get(\"api_key\"),\n",
    "    )\n",
    "\n",
    "    os.environ[\"OPENAI_API_KEY\"] = llm_config[\"judge\"][\"api_key\"]\n",
    "    evaluator = RagasEvaluator()\n",
    "    # result_df = evaluator._generate_answers_from_model(questions, student_model)\n",
    "    evaluation_result = evaluator.run(dataset=dataset, student_model=student_model)\n",
    "\n"
   ],
   "id": "ba55790a10819e02",
   "outputs": [
    {
     "name": "stderr",
     "output_type": "stream",
     "text": [
      "/Users/cchase/git/github/cfchase/ny-state-poc/venv/lib/python3.11/site-packages/tqdm/auto.py:21: TqdmWarning: IProgress not found. Please update jupyter and ipywidgets. See https://ipywidgets.readthedocs.io/en/stable/user_install.html\n",
      "  from .autonotebook import tqdm as notebook_tqdm\n"
     ]
    },
    {
     "name": "stdout",
     "output_type": "stream",
     "text": [
      "--------------------------------------------------------------------------------\n",
      "finetuned\n"
     ]
    },
    {
     "ename": "BadRequestError",
     "evalue": "Error code: 400 - {'object': 'error', 'message': '[{\\'type\\': \\'dict_type\\', \\'loc\\': (\\'body\\', \\'messages\\', 0, \\'typed-dict\\'), \\'msg\\': \\'Input should be a valid dictionary\\', \\'input\\': \"You are an advanced AI assistant designed to provide precise and accurate information.\\\\nYour primary goal is to answer queries with the most up-to-date and factual information available.\\\\nFocus on delivering clear, concise, and correct responses.\\\\nIf you\\'re uncertain about any aspect of the query, state your level of confidence and provide the most accurate information you can.\\\\nYour responses should prioritize accuracy over all other considerations.\"}, {\\'type\\': \\'dict_type\\', \\'loc\\': (\\'body\\', \\'messages\\', 0, \\'typed-dict\\'), \\'msg\\': \\'Input should be a valid dictionary\\', \\'input\\': \"You are an advanced AI assistant designed to provide precise and accurate information.\\\\nYour primary goal is to answer queries with the most up-to-date and factual information available.\\\\nFocus on delivering clear, concise, and correct responses.\\\\nIf you\\'re uncertain about any aspect of the query, state your level of confidence and provide the most accurate information you can.\\\\nYour responses should prioritize accuracy over all other considerations.\"}, {\\'type\\': \\'dict_type\\', \\'loc\\': (\\'body\\', \\'messages\\', 0, \\'typed-dict\\'), \\'msg\\': \\'Input should be a valid dictionary\\', \\'input\\': \"You are an advanced AI assistant designed to provide precise and accurate information.\\\\nYour primary goal is to answer queries with the most up-to-date and factual information available.\\\\nFocus on delivering clear, concise, and correct responses.\\\\nIf you\\'re uncertain about any aspect of the query, state your level of confidence and provide the most accurate information you can.\\\\nYour responses should prioritize accuracy over all other considerations.\"}, {\\'type\\': \\'dict_type\\', \\'loc\\': (\\'body\\', \\'messages\\', 0, \\'typed-dict\\'), \\'msg\\': \\'Input should be a valid dictionary\\', \\'input\\': \"You are an advanced AI assistant designed to provide precise and accurate information.\\\\nYour primary goal is to answer queries with the most up-to-date and factual information available.\\\\nFocus on delivering clear, concise, and correct responses.\\\\nIf you\\'re uncertain about any aspect of the query, state your level of confidence and provide the most accurate information you can.\\\\nYour responses should prioritize accuracy over all other considerations.\"}, {\\'type\\': \\'dict_type\\', \\'loc\\': (\\'body\\', \\'messages\\', 0, \\'typed-dict\\'), \\'msg\\': \\'Input should be a valid dictionary\\', \\'input\\': \"You are an advanced AI assistant designed to provide precise and accurate information.\\\\nYour primary goal is to answer queries with the most up-to-date and factual information available.\\\\nFocus on delivering clear, concise, and correct responses.\\\\nIf you\\'re uncertain about any aspect of the query, state your level of confidence and provide the most accurate information you can.\\\\nYour responses should prioritize accuracy over all other considerations.\"}, {\\'type\\': \\'dict_type\\', \\'loc\\': (\\'body\\', \\'messages\\', 0, \\'typed-dict\\'), \\'msg\\': \\'Input should be a valid dictionary\\', \\'input\\': \"You are an advanced AI assistant designed to provide precise and accurate information.\\\\nYour primary goal is to answer queries with the most up-to-date and factual information available.\\\\nFocus on delivering clear, concise, and correct responses.\\\\nIf you\\'re uncertain about any aspect of the query, state your level of confidence and provide the most accurate information you can.\\\\nYour responses should prioritize accuracy over all other considerations.\"}, {\\'type\\': \\'dict_type\\', \\'loc\\': (\\'body\\', \\'messages\\', 1, \\'typed-dict\\'), \\'msg\\': \\'Input should be a valid dictionary\\', \\'input\\': \\'What does an employee need to provide in an appeal to the Telecommuting Appeal board?\\'}, {\\'type\\': \\'dict_type\\', \\'loc\\': (\\'body\\', \\'messages\\', 1, \\'typed-dict\\'), \\'msg\\': \\'Input should be a valid dictionary\\', \\'input\\': \\'What does an employee need to provide in an appeal to the Telecommuting Appeal board?\\'}, {\\'type\\': \\'dict_type\\', \\'loc\\': (\\'body\\', \\'messages\\', 1, \\'typed-dict\\'), \\'msg\\': \\'Input should be a valid dictionary\\', \\'input\\': \\'What does an employee need to provide in an appeal to the Telecommuting Appeal board?\\'}, {\\'type\\': \\'dict_type\\', \\'loc\\': (\\'body\\', \\'messages\\', 1, \\'typed-dict\\'), \\'msg\\': \\'Input should be a valid dictionary\\', \\'input\\': \\'What does an employee need to provide in an appeal to the Telecommuting Appeal board?\\'}, {\\'type\\': \\'dict_type\\', \\'loc\\': (\\'body\\', \\'messages\\', 1, \\'typed-dict\\'), \\'msg\\': \\'Input should be a valid dictionary\\', \\'input\\': \\'What does an employee need to provide in an appeal to the Telecommuting Appeal board?\\'}, {\\'type\\': \\'dict_type\\', \\'loc\\': (\\'body\\', \\'messages\\', 1, \\'typed-dict\\'), \\'msg\\': \\'Input should be a valid dictionary\\', \\'input\\': \\'What does an employee need to provide in an appeal to the Telecommuting Appeal board?\\'}]', 'type': 'BadRequestError', 'param': None, 'code': 400}",
     "output_type": "error",
     "traceback": [
      "\u001B[0;31m---------------------------------------------------------------------------\u001B[0m",
      "\u001B[0;31mBadRequestError\u001B[0m                           Traceback (most recent call last)",
      "Cell \u001B[0;32mIn[8], line 26\u001B[0m\n\u001B[1;32m     24\u001B[0m evaluator \u001B[38;5;241m=\u001B[39m RagasEvaluator()\n\u001B[1;32m     25\u001B[0m \u001B[38;5;66;03m# result_df = evaluator._generate_answers_from_model(questions, student_model)\u001B[39;00m\n\u001B[0;32m---> 26\u001B[0m evaluation_result \u001B[38;5;241m=\u001B[39m \u001B[43mevaluator\u001B[49m\u001B[38;5;241;43m.\u001B[39;49m\u001B[43mrun\u001B[49m\u001B[43m(\u001B[49m\u001B[43mdataset\u001B[49m\u001B[38;5;241;43m=\u001B[39;49m\u001B[43mdataset\u001B[49m\u001B[43m,\u001B[49m\u001B[43m \u001B[49m\u001B[43mstudent_model\u001B[49m\u001B[38;5;241;43m=\u001B[39;49m\u001B[43mstudent_model\u001B[49m\u001B[43m)\u001B[49m\n\u001B[1;32m     27\u001B[0m \u001B[38;5;28;01mbreak\u001B[39;00m\n",
      "File \u001B[0;32m~/git/github/cfchase/ny-state-poc/eval/instructlab_ragas.py:150\u001B[0m, in \u001B[0;36mRagasEvaluator.run\u001B[0;34m(self, dataset, student_model, run_config)\u001B[0m\n\u001B[1;32m    148\u001B[0m \u001B[38;5;66;03m# if the student model was provided then we always generate regardless\u001B[39;00m\n\u001B[1;32m    149\u001B[0m \u001B[38;5;28;01mif\u001B[39;00m student_model:\n\u001B[0;32m--> 150\u001B[0m     input_df \u001B[38;5;241m=\u001B[39m \u001B[38;5;28;43mself\u001B[39;49m\u001B[38;5;241;43m.\u001B[39;49m\u001B[43m_generate_answers_from_model\u001B[49m\u001B[43m(\u001B[49m\u001B[43minput_df\u001B[49m\u001B[43m,\u001B[49m\u001B[43m \u001B[49m\u001B[43mstudent_model\u001B[49m\u001B[43m)\u001B[49m\n\u001B[1;32m    152\u001B[0m \u001B[38;5;28;01mif\u001B[39;00m \u001B[38;5;129;01mnot\u001B[39;00m run_config:\n\u001B[1;32m    153\u001B[0m     \u001B[38;5;66;03m# we set extreme timeout/retry values by default since OpenAI tier-1 rate limits\u001B[39;00m\n\u001B[1;32m    154\u001B[0m     \u001B[38;5;66;03m# are horrible and will result in half of our evaluation results being NaN or 0\u001B[39;00m\n\u001B[1;32m    155\u001B[0m     run_config \u001B[38;5;241m=\u001B[39m RunConfig(\n\u001B[1;32m    156\u001B[0m         max_retries\u001B[38;5;241m=\u001B[39m\u001B[38;5;241m120\u001B[39m,\n\u001B[1;32m    157\u001B[0m         max_wait\u001B[38;5;241m=\u001B[39m\u001B[38;5;241m7200\u001B[39m,\n\u001B[1;32m    158\u001B[0m         seed\u001B[38;5;241m=\u001B[39mDEFAULT_SEED,\n\u001B[1;32m    159\u001B[0m         timeout\u001B[38;5;241m=\u001B[39m\u001B[38;5;241m3600\u001B[39m,\n\u001B[1;32m    160\u001B[0m     )\n",
      "File \u001B[0;32m~/git/github/cfchase/ny-state-poc/eval/instructlab_ragas.py:198\u001B[0m, in \u001B[0;36mRagasEvaluator._generate_answers_from_model\u001B[0;34m(self, questions, student_model)\u001B[0m\n\u001B[1;32m    193\u001B[0m \u001B[38;5;28;01mfor\u001B[39;00m i, qna \u001B[38;5;129;01min\u001B[39;00m updated_df\u001B[38;5;241m.\u001B[39miterrows():\n\u001B[1;32m    194\u001B[0m     messages \u001B[38;5;241m=\u001B[39m [\n\u001B[1;32m    195\u001B[0m         student_model\u001B[38;5;241m.\u001B[39msystem_prompt,\n\u001B[1;32m    196\u001B[0m         qna[\u001B[38;5;124m\"\u001B[39m\u001B[38;5;124muser_input\u001B[39m\u001B[38;5;124m\"\u001B[39m],\n\u001B[1;32m    197\u001B[0m     ]\n\u001B[0;32m--> 198\u001B[0m     response \u001B[38;5;241m=\u001B[39m \u001B[43mclient\u001B[49m\u001B[38;5;241;43m.\u001B[39;49m\u001B[43mchat\u001B[49m\u001B[38;5;241;43m.\u001B[39;49m\u001B[43mcompletions\u001B[49m\u001B[38;5;241;43m.\u001B[39;49m\u001B[43mcreate\u001B[49m\u001B[43m(\u001B[49m\n\u001B[1;32m    199\u001B[0m \u001B[43m        \u001B[49m\u001B[43mmessages\u001B[49m\u001B[38;5;241;43m=\u001B[39;49m\u001B[43mmessages\u001B[49m\u001B[43m,\u001B[49m\n\u001B[1;32m    200\u001B[0m \u001B[43m        \u001B[49m\u001B[43mmodel\u001B[49m\u001B[38;5;241;43m=\u001B[39;49m\u001B[43mstudent_model\u001B[49m\u001B[38;5;241;43m.\u001B[39;49m\u001B[43mmodel_name\u001B[49m\u001B[43m,\u001B[49m\n\u001B[1;32m    201\u001B[0m \u001B[43m        \u001B[49m\u001B[38;5;66;43;03m# specify the seed so we can at least try to have some reproducibility when the clients support it\u001B[39;49;00m\n\u001B[1;32m    202\u001B[0m \u001B[43m        \u001B[49m\u001B[43mseed\u001B[49m\u001B[38;5;241;43m=\u001B[39;49m\u001B[38;5;241;43m42\u001B[39;49m\u001B[43m,\u001B[49m\n\u001B[1;32m    203\u001B[0m \u001B[43m        \u001B[49m\u001B[43mmax_tokens\u001B[49m\u001B[38;5;241;43m=\u001B[39;49m\u001B[43mstudent_model\u001B[49m\u001B[38;5;241;43m.\u001B[39;49m\u001B[43mmax_tokens\u001B[49m\u001B[43m,\u001B[49m\n\u001B[1;32m    204\u001B[0m \u001B[43m        \u001B[49m\u001B[43mtemperature\u001B[49m\u001B[38;5;241;43m=\u001B[39;49m\u001B[43mstudent_model\u001B[49m\u001B[38;5;241;43m.\u001B[39;49m\u001B[43mtemperature\u001B[49m\u001B[43m,\u001B[49m\n\u001B[1;32m    205\u001B[0m \u001B[43m    \u001B[49m\u001B[43m)\u001B[49m\n\u001B[1;32m    206\u001B[0m     updated_df\u001B[38;5;241m.\u001B[39mat[i, \u001B[38;5;124m\"\u001B[39m\u001B[38;5;124mresponse\u001B[39m\u001B[38;5;124m\"\u001B[39m] \u001B[38;5;241m=\u001B[39m response\u001B[38;5;241m.\u001B[39mchoices[\u001B[38;5;241m0\u001B[39m]\u001B[38;5;241m.\u001B[39mmessage\u001B[38;5;241m.\u001B[39mcontent\n\u001B[1;32m    207\u001B[0m \u001B[38;5;28;01mreturn\u001B[39;00m updated_df\n",
      "File \u001B[0;32m~/git/github/cfchase/ny-state-poc/venv/lib/python3.11/site-packages/openai/_utils/_utils.py:275\u001B[0m, in \u001B[0;36mrequired_args.<locals>.inner.<locals>.wrapper\u001B[0;34m(*args, **kwargs)\u001B[0m\n\u001B[1;32m    273\u001B[0m             msg \u001B[38;5;241m=\u001B[39m \u001B[38;5;124mf\u001B[39m\u001B[38;5;124m\"\u001B[39m\u001B[38;5;124mMissing required argument: \u001B[39m\u001B[38;5;132;01m{\u001B[39;00mquote(missing[\u001B[38;5;241m0\u001B[39m])\u001B[38;5;132;01m}\u001B[39;00m\u001B[38;5;124m\"\u001B[39m\n\u001B[1;32m    274\u001B[0m     \u001B[38;5;28;01mraise\u001B[39;00m \u001B[38;5;167;01mTypeError\u001B[39;00m(msg)\n\u001B[0;32m--> 275\u001B[0m \u001B[38;5;28;01mreturn\u001B[39;00m \u001B[43mfunc\u001B[49m\u001B[43m(\u001B[49m\u001B[38;5;241;43m*\u001B[39;49m\u001B[43margs\u001B[49m\u001B[43m,\u001B[49m\u001B[43m \u001B[49m\u001B[38;5;241;43m*\u001B[39;49m\u001B[38;5;241;43m*\u001B[39;49m\u001B[43mkwargs\u001B[49m\u001B[43m)\u001B[49m\n",
      "File \u001B[0;32m~/git/github/cfchase/ny-state-poc/venv/lib/python3.11/site-packages/openai/resources/chat/completions.py:829\u001B[0m, in \u001B[0;36mCompletions.create\u001B[0;34m(self, messages, model, audio, frequency_penalty, function_call, functions, logit_bias, logprobs, max_completion_tokens, max_tokens, metadata, modalities, n, parallel_tool_calls, prediction, presence_penalty, response_format, seed, service_tier, stop, store, stream, stream_options, temperature, tool_choice, tools, top_logprobs, top_p, user, extra_headers, extra_query, extra_body, timeout)\u001B[0m\n\u001B[1;32m    788\u001B[0m \u001B[38;5;129m@required_args\u001B[39m([\u001B[38;5;124m\"\u001B[39m\u001B[38;5;124mmessages\u001B[39m\u001B[38;5;124m\"\u001B[39m, \u001B[38;5;124m\"\u001B[39m\u001B[38;5;124mmodel\u001B[39m\u001B[38;5;124m\"\u001B[39m], [\u001B[38;5;124m\"\u001B[39m\u001B[38;5;124mmessages\u001B[39m\u001B[38;5;124m\"\u001B[39m, \u001B[38;5;124m\"\u001B[39m\u001B[38;5;124mmodel\u001B[39m\u001B[38;5;124m\"\u001B[39m, \u001B[38;5;124m\"\u001B[39m\u001B[38;5;124mstream\u001B[39m\u001B[38;5;124m\"\u001B[39m])\n\u001B[1;32m    789\u001B[0m \u001B[38;5;28;01mdef\u001B[39;00m \u001B[38;5;21mcreate\u001B[39m(\n\u001B[1;32m    790\u001B[0m     \u001B[38;5;28mself\u001B[39m,\n\u001B[0;32m   (...)\u001B[0m\n\u001B[1;32m    826\u001B[0m     timeout: \u001B[38;5;28mfloat\u001B[39m \u001B[38;5;241m|\u001B[39m httpx\u001B[38;5;241m.\u001B[39mTimeout \u001B[38;5;241m|\u001B[39m \u001B[38;5;28;01mNone\u001B[39;00m \u001B[38;5;241m|\u001B[39m NotGiven \u001B[38;5;241m=\u001B[39m NOT_GIVEN,\n\u001B[1;32m    827\u001B[0m ) \u001B[38;5;241m-\u001B[39m\u001B[38;5;241m>\u001B[39m ChatCompletion \u001B[38;5;241m|\u001B[39m Stream[ChatCompletionChunk]:\n\u001B[1;32m    828\u001B[0m     validate_response_format(response_format)\n\u001B[0;32m--> 829\u001B[0m     \u001B[38;5;28;01mreturn\u001B[39;00m \u001B[38;5;28;43mself\u001B[39;49m\u001B[38;5;241;43m.\u001B[39;49m\u001B[43m_post\u001B[49m\u001B[43m(\u001B[49m\n\u001B[1;32m    830\u001B[0m \u001B[43m        \u001B[49m\u001B[38;5;124;43m\"\u001B[39;49m\u001B[38;5;124;43m/chat/completions\u001B[39;49m\u001B[38;5;124;43m\"\u001B[39;49m\u001B[43m,\u001B[49m\n\u001B[1;32m    831\u001B[0m \u001B[43m        \u001B[49m\u001B[43mbody\u001B[49m\u001B[38;5;241;43m=\u001B[39;49m\u001B[43mmaybe_transform\u001B[49m\u001B[43m(\u001B[49m\n\u001B[1;32m    832\u001B[0m \u001B[43m            \u001B[49m\u001B[43m{\u001B[49m\n\u001B[1;32m    833\u001B[0m \u001B[43m                \u001B[49m\u001B[38;5;124;43m\"\u001B[39;49m\u001B[38;5;124;43mmessages\u001B[39;49m\u001B[38;5;124;43m\"\u001B[39;49m\u001B[43m:\u001B[49m\u001B[43m \u001B[49m\u001B[43mmessages\u001B[49m\u001B[43m,\u001B[49m\n\u001B[1;32m    834\u001B[0m \u001B[43m                \u001B[49m\u001B[38;5;124;43m\"\u001B[39;49m\u001B[38;5;124;43mmodel\u001B[39;49m\u001B[38;5;124;43m\"\u001B[39;49m\u001B[43m:\u001B[49m\u001B[43m \u001B[49m\u001B[43mmodel\u001B[49m\u001B[43m,\u001B[49m\n\u001B[1;32m    835\u001B[0m \u001B[43m                \u001B[49m\u001B[38;5;124;43m\"\u001B[39;49m\u001B[38;5;124;43maudio\u001B[39;49m\u001B[38;5;124;43m\"\u001B[39;49m\u001B[43m:\u001B[49m\u001B[43m \u001B[49m\u001B[43maudio\u001B[49m\u001B[43m,\u001B[49m\n\u001B[1;32m    836\u001B[0m \u001B[43m                \u001B[49m\u001B[38;5;124;43m\"\u001B[39;49m\u001B[38;5;124;43mfrequency_penalty\u001B[39;49m\u001B[38;5;124;43m\"\u001B[39;49m\u001B[43m:\u001B[49m\u001B[43m \u001B[49m\u001B[43mfrequency_penalty\u001B[49m\u001B[43m,\u001B[49m\n\u001B[1;32m    837\u001B[0m \u001B[43m                \u001B[49m\u001B[38;5;124;43m\"\u001B[39;49m\u001B[38;5;124;43mfunction_call\u001B[39;49m\u001B[38;5;124;43m\"\u001B[39;49m\u001B[43m:\u001B[49m\u001B[43m \u001B[49m\u001B[43mfunction_call\u001B[49m\u001B[43m,\u001B[49m\n\u001B[1;32m    838\u001B[0m \u001B[43m                \u001B[49m\u001B[38;5;124;43m\"\u001B[39;49m\u001B[38;5;124;43mfunctions\u001B[39;49m\u001B[38;5;124;43m\"\u001B[39;49m\u001B[43m:\u001B[49m\u001B[43m \u001B[49m\u001B[43mfunctions\u001B[49m\u001B[43m,\u001B[49m\n\u001B[1;32m    839\u001B[0m \u001B[43m                \u001B[49m\u001B[38;5;124;43m\"\u001B[39;49m\u001B[38;5;124;43mlogit_bias\u001B[39;49m\u001B[38;5;124;43m\"\u001B[39;49m\u001B[43m:\u001B[49m\u001B[43m \u001B[49m\u001B[43mlogit_bias\u001B[49m\u001B[43m,\u001B[49m\n\u001B[1;32m    840\u001B[0m \u001B[43m                \u001B[49m\u001B[38;5;124;43m\"\u001B[39;49m\u001B[38;5;124;43mlogprobs\u001B[39;49m\u001B[38;5;124;43m\"\u001B[39;49m\u001B[43m:\u001B[49m\u001B[43m \u001B[49m\u001B[43mlogprobs\u001B[49m\u001B[43m,\u001B[49m\n\u001B[1;32m    841\u001B[0m \u001B[43m                \u001B[49m\u001B[38;5;124;43m\"\u001B[39;49m\u001B[38;5;124;43mmax_completion_tokens\u001B[39;49m\u001B[38;5;124;43m\"\u001B[39;49m\u001B[43m:\u001B[49m\u001B[43m \u001B[49m\u001B[43mmax_completion_tokens\u001B[49m\u001B[43m,\u001B[49m\n\u001B[1;32m    842\u001B[0m \u001B[43m                \u001B[49m\u001B[38;5;124;43m\"\u001B[39;49m\u001B[38;5;124;43mmax_tokens\u001B[39;49m\u001B[38;5;124;43m\"\u001B[39;49m\u001B[43m:\u001B[49m\u001B[43m \u001B[49m\u001B[43mmax_tokens\u001B[49m\u001B[43m,\u001B[49m\n\u001B[1;32m    843\u001B[0m \u001B[43m                \u001B[49m\u001B[38;5;124;43m\"\u001B[39;49m\u001B[38;5;124;43mmetadata\u001B[39;49m\u001B[38;5;124;43m\"\u001B[39;49m\u001B[43m:\u001B[49m\u001B[43m \u001B[49m\u001B[43mmetadata\u001B[49m\u001B[43m,\u001B[49m\n\u001B[1;32m    844\u001B[0m \u001B[43m                \u001B[49m\u001B[38;5;124;43m\"\u001B[39;49m\u001B[38;5;124;43mmodalities\u001B[39;49m\u001B[38;5;124;43m\"\u001B[39;49m\u001B[43m:\u001B[49m\u001B[43m \u001B[49m\u001B[43mmodalities\u001B[49m\u001B[43m,\u001B[49m\n\u001B[1;32m    845\u001B[0m \u001B[43m                \u001B[49m\u001B[38;5;124;43m\"\u001B[39;49m\u001B[38;5;124;43mn\u001B[39;49m\u001B[38;5;124;43m\"\u001B[39;49m\u001B[43m:\u001B[49m\u001B[43m \u001B[49m\u001B[43mn\u001B[49m\u001B[43m,\u001B[49m\n\u001B[1;32m    846\u001B[0m \u001B[43m                \u001B[49m\u001B[38;5;124;43m\"\u001B[39;49m\u001B[38;5;124;43mparallel_tool_calls\u001B[39;49m\u001B[38;5;124;43m\"\u001B[39;49m\u001B[43m:\u001B[49m\u001B[43m \u001B[49m\u001B[43mparallel_tool_calls\u001B[49m\u001B[43m,\u001B[49m\n\u001B[1;32m    847\u001B[0m \u001B[43m                \u001B[49m\u001B[38;5;124;43m\"\u001B[39;49m\u001B[38;5;124;43mprediction\u001B[39;49m\u001B[38;5;124;43m\"\u001B[39;49m\u001B[43m:\u001B[49m\u001B[43m \u001B[49m\u001B[43mprediction\u001B[49m\u001B[43m,\u001B[49m\n\u001B[1;32m    848\u001B[0m \u001B[43m                \u001B[49m\u001B[38;5;124;43m\"\u001B[39;49m\u001B[38;5;124;43mpresence_penalty\u001B[39;49m\u001B[38;5;124;43m\"\u001B[39;49m\u001B[43m:\u001B[49m\u001B[43m \u001B[49m\u001B[43mpresence_penalty\u001B[49m\u001B[43m,\u001B[49m\n\u001B[1;32m    849\u001B[0m \u001B[43m                \u001B[49m\u001B[38;5;124;43m\"\u001B[39;49m\u001B[38;5;124;43mresponse_format\u001B[39;49m\u001B[38;5;124;43m\"\u001B[39;49m\u001B[43m:\u001B[49m\u001B[43m \u001B[49m\u001B[43mresponse_format\u001B[49m\u001B[43m,\u001B[49m\n\u001B[1;32m    850\u001B[0m \u001B[43m                \u001B[49m\u001B[38;5;124;43m\"\u001B[39;49m\u001B[38;5;124;43mseed\u001B[39;49m\u001B[38;5;124;43m\"\u001B[39;49m\u001B[43m:\u001B[49m\u001B[43m \u001B[49m\u001B[43mseed\u001B[49m\u001B[43m,\u001B[49m\n\u001B[1;32m    851\u001B[0m \u001B[43m                \u001B[49m\u001B[38;5;124;43m\"\u001B[39;49m\u001B[38;5;124;43mservice_tier\u001B[39;49m\u001B[38;5;124;43m\"\u001B[39;49m\u001B[43m:\u001B[49m\u001B[43m \u001B[49m\u001B[43mservice_tier\u001B[49m\u001B[43m,\u001B[49m\n\u001B[1;32m    852\u001B[0m \u001B[43m                \u001B[49m\u001B[38;5;124;43m\"\u001B[39;49m\u001B[38;5;124;43mstop\u001B[39;49m\u001B[38;5;124;43m\"\u001B[39;49m\u001B[43m:\u001B[49m\u001B[43m \u001B[49m\u001B[43mstop\u001B[49m\u001B[43m,\u001B[49m\n\u001B[1;32m    853\u001B[0m \u001B[43m                \u001B[49m\u001B[38;5;124;43m\"\u001B[39;49m\u001B[38;5;124;43mstore\u001B[39;49m\u001B[38;5;124;43m\"\u001B[39;49m\u001B[43m:\u001B[49m\u001B[43m \u001B[49m\u001B[43mstore\u001B[49m\u001B[43m,\u001B[49m\n\u001B[1;32m    854\u001B[0m \u001B[43m                \u001B[49m\u001B[38;5;124;43m\"\u001B[39;49m\u001B[38;5;124;43mstream\u001B[39;49m\u001B[38;5;124;43m\"\u001B[39;49m\u001B[43m:\u001B[49m\u001B[43m \u001B[49m\u001B[43mstream\u001B[49m\u001B[43m,\u001B[49m\n\u001B[1;32m    855\u001B[0m \u001B[43m                \u001B[49m\u001B[38;5;124;43m\"\u001B[39;49m\u001B[38;5;124;43mstream_options\u001B[39;49m\u001B[38;5;124;43m\"\u001B[39;49m\u001B[43m:\u001B[49m\u001B[43m \u001B[49m\u001B[43mstream_options\u001B[49m\u001B[43m,\u001B[49m\n\u001B[1;32m    856\u001B[0m \u001B[43m                \u001B[49m\u001B[38;5;124;43m\"\u001B[39;49m\u001B[38;5;124;43mtemperature\u001B[39;49m\u001B[38;5;124;43m\"\u001B[39;49m\u001B[43m:\u001B[49m\u001B[43m \u001B[49m\u001B[43mtemperature\u001B[49m\u001B[43m,\u001B[49m\n\u001B[1;32m    857\u001B[0m \u001B[43m                \u001B[49m\u001B[38;5;124;43m\"\u001B[39;49m\u001B[38;5;124;43mtool_choice\u001B[39;49m\u001B[38;5;124;43m\"\u001B[39;49m\u001B[43m:\u001B[49m\u001B[43m \u001B[49m\u001B[43mtool_choice\u001B[49m\u001B[43m,\u001B[49m\n\u001B[1;32m    858\u001B[0m \u001B[43m                \u001B[49m\u001B[38;5;124;43m\"\u001B[39;49m\u001B[38;5;124;43mtools\u001B[39;49m\u001B[38;5;124;43m\"\u001B[39;49m\u001B[43m:\u001B[49m\u001B[43m \u001B[49m\u001B[43mtools\u001B[49m\u001B[43m,\u001B[49m\n\u001B[1;32m    859\u001B[0m \u001B[43m                \u001B[49m\u001B[38;5;124;43m\"\u001B[39;49m\u001B[38;5;124;43mtop_logprobs\u001B[39;49m\u001B[38;5;124;43m\"\u001B[39;49m\u001B[43m:\u001B[49m\u001B[43m \u001B[49m\u001B[43mtop_logprobs\u001B[49m\u001B[43m,\u001B[49m\n\u001B[1;32m    860\u001B[0m \u001B[43m                \u001B[49m\u001B[38;5;124;43m\"\u001B[39;49m\u001B[38;5;124;43mtop_p\u001B[39;49m\u001B[38;5;124;43m\"\u001B[39;49m\u001B[43m:\u001B[49m\u001B[43m \u001B[49m\u001B[43mtop_p\u001B[49m\u001B[43m,\u001B[49m\n\u001B[1;32m    861\u001B[0m \u001B[43m                \u001B[49m\u001B[38;5;124;43m\"\u001B[39;49m\u001B[38;5;124;43muser\u001B[39;49m\u001B[38;5;124;43m\"\u001B[39;49m\u001B[43m:\u001B[49m\u001B[43m \u001B[49m\u001B[43muser\u001B[49m\u001B[43m,\u001B[49m\n\u001B[1;32m    862\u001B[0m \u001B[43m            \u001B[49m\u001B[43m}\u001B[49m\u001B[43m,\u001B[49m\n\u001B[1;32m    863\u001B[0m \u001B[43m            \u001B[49m\u001B[43mcompletion_create_params\u001B[49m\u001B[38;5;241;43m.\u001B[39;49m\u001B[43mCompletionCreateParams\u001B[49m\u001B[43m,\u001B[49m\n\u001B[1;32m    864\u001B[0m \u001B[43m        \u001B[49m\u001B[43m)\u001B[49m\u001B[43m,\u001B[49m\n\u001B[1;32m    865\u001B[0m \u001B[43m        \u001B[49m\u001B[43moptions\u001B[49m\u001B[38;5;241;43m=\u001B[39;49m\u001B[43mmake_request_options\u001B[49m\u001B[43m(\u001B[49m\n\u001B[1;32m    866\u001B[0m \u001B[43m            \u001B[49m\u001B[43mextra_headers\u001B[49m\u001B[38;5;241;43m=\u001B[39;49m\u001B[43mextra_headers\u001B[49m\u001B[43m,\u001B[49m\u001B[43m \u001B[49m\u001B[43mextra_query\u001B[49m\u001B[38;5;241;43m=\u001B[39;49m\u001B[43mextra_query\u001B[49m\u001B[43m,\u001B[49m\u001B[43m \u001B[49m\u001B[43mextra_body\u001B[49m\u001B[38;5;241;43m=\u001B[39;49m\u001B[43mextra_body\u001B[49m\u001B[43m,\u001B[49m\u001B[43m \u001B[49m\u001B[43mtimeout\u001B[49m\u001B[38;5;241;43m=\u001B[39;49m\u001B[43mtimeout\u001B[49m\n\u001B[1;32m    867\u001B[0m \u001B[43m        \u001B[49m\u001B[43m)\u001B[49m\u001B[43m,\u001B[49m\n\u001B[1;32m    868\u001B[0m \u001B[43m        \u001B[49m\u001B[43mcast_to\u001B[49m\u001B[38;5;241;43m=\u001B[39;49m\u001B[43mChatCompletion\u001B[49m\u001B[43m,\u001B[49m\n\u001B[1;32m    869\u001B[0m \u001B[43m        \u001B[49m\u001B[43mstream\u001B[49m\u001B[38;5;241;43m=\u001B[39;49m\u001B[43mstream\u001B[49m\u001B[43m \u001B[49m\u001B[38;5;129;43;01mor\u001B[39;49;00m\u001B[43m \u001B[49m\u001B[38;5;28;43;01mFalse\u001B[39;49;00m\u001B[43m,\u001B[49m\n\u001B[1;32m    870\u001B[0m \u001B[43m        \u001B[49m\u001B[43mstream_cls\u001B[49m\u001B[38;5;241;43m=\u001B[39;49m\u001B[43mStream\u001B[49m\u001B[43m[\u001B[49m\u001B[43mChatCompletionChunk\u001B[49m\u001B[43m]\u001B[49m\u001B[43m,\u001B[49m\n\u001B[1;32m    871\u001B[0m \u001B[43m    \u001B[49m\u001B[43m)\u001B[49m\n",
      "File \u001B[0;32m~/git/github/cfchase/ny-state-poc/venv/lib/python3.11/site-packages/openai/_base_client.py:1280\u001B[0m, in \u001B[0;36mSyncAPIClient.post\u001B[0;34m(self, path, cast_to, body, options, files, stream, stream_cls)\u001B[0m\n\u001B[1;32m   1266\u001B[0m \u001B[38;5;28;01mdef\u001B[39;00m \u001B[38;5;21mpost\u001B[39m(\n\u001B[1;32m   1267\u001B[0m     \u001B[38;5;28mself\u001B[39m,\n\u001B[1;32m   1268\u001B[0m     path: \u001B[38;5;28mstr\u001B[39m,\n\u001B[0;32m   (...)\u001B[0m\n\u001B[1;32m   1275\u001B[0m     stream_cls: \u001B[38;5;28mtype\u001B[39m[_StreamT] \u001B[38;5;241m|\u001B[39m \u001B[38;5;28;01mNone\u001B[39;00m \u001B[38;5;241m=\u001B[39m \u001B[38;5;28;01mNone\u001B[39;00m,\n\u001B[1;32m   1276\u001B[0m ) \u001B[38;5;241m-\u001B[39m\u001B[38;5;241m>\u001B[39m ResponseT \u001B[38;5;241m|\u001B[39m _StreamT:\n\u001B[1;32m   1277\u001B[0m     opts \u001B[38;5;241m=\u001B[39m FinalRequestOptions\u001B[38;5;241m.\u001B[39mconstruct(\n\u001B[1;32m   1278\u001B[0m         method\u001B[38;5;241m=\u001B[39m\u001B[38;5;124m\"\u001B[39m\u001B[38;5;124mpost\u001B[39m\u001B[38;5;124m\"\u001B[39m, url\u001B[38;5;241m=\u001B[39mpath, json_data\u001B[38;5;241m=\u001B[39mbody, files\u001B[38;5;241m=\u001B[39mto_httpx_files(files), \u001B[38;5;241m*\u001B[39m\u001B[38;5;241m*\u001B[39moptions\n\u001B[1;32m   1279\u001B[0m     )\n\u001B[0;32m-> 1280\u001B[0m     \u001B[38;5;28;01mreturn\u001B[39;00m cast(ResponseT, \u001B[38;5;28;43mself\u001B[39;49m\u001B[38;5;241;43m.\u001B[39;49m\u001B[43mrequest\u001B[49m\u001B[43m(\u001B[49m\u001B[43mcast_to\u001B[49m\u001B[43m,\u001B[49m\u001B[43m \u001B[49m\u001B[43mopts\u001B[49m\u001B[43m,\u001B[49m\u001B[43m \u001B[49m\u001B[43mstream\u001B[49m\u001B[38;5;241;43m=\u001B[39;49m\u001B[43mstream\u001B[49m\u001B[43m,\u001B[49m\u001B[43m \u001B[49m\u001B[43mstream_cls\u001B[49m\u001B[38;5;241;43m=\u001B[39;49m\u001B[43mstream_cls\u001B[49m\u001B[43m)\u001B[49m)\n",
      "File \u001B[0;32m~/git/github/cfchase/ny-state-poc/venv/lib/python3.11/site-packages/openai/_base_client.py:957\u001B[0m, in \u001B[0;36mSyncAPIClient.request\u001B[0;34m(self, cast_to, options, remaining_retries, stream, stream_cls)\u001B[0m\n\u001B[1;32m    954\u001B[0m \u001B[38;5;28;01melse\u001B[39;00m:\n\u001B[1;32m    955\u001B[0m     retries_taken \u001B[38;5;241m=\u001B[39m \u001B[38;5;241m0\u001B[39m\n\u001B[0;32m--> 957\u001B[0m \u001B[38;5;28;01mreturn\u001B[39;00m \u001B[38;5;28;43mself\u001B[39;49m\u001B[38;5;241;43m.\u001B[39;49m\u001B[43m_request\u001B[49m\u001B[43m(\u001B[49m\n\u001B[1;32m    958\u001B[0m \u001B[43m    \u001B[49m\u001B[43mcast_to\u001B[49m\u001B[38;5;241;43m=\u001B[39;49m\u001B[43mcast_to\u001B[49m\u001B[43m,\u001B[49m\n\u001B[1;32m    959\u001B[0m \u001B[43m    \u001B[49m\u001B[43moptions\u001B[49m\u001B[38;5;241;43m=\u001B[39;49m\u001B[43moptions\u001B[49m\u001B[43m,\u001B[49m\n\u001B[1;32m    960\u001B[0m \u001B[43m    \u001B[49m\u001B[43mstream\u001B[49m\u001B[38;5;241;43m=\u001B[39;49m\u001B[43mstream\u001B[49m\u001B[43m,\u001B[49m\n\u001B[1;32m    961\u001B[0m \u001B[43m    \u001B[49m\u001B[43mstream_cls\u001B[49m\u001B[38;5;241;43m=\u001B[39;49m\u001B[43mstream_cls\u001B[49m\u001B[43m,\u001B[49m\n\u001B[1;32m    962\u001B[0m \u001B[43m    \u001B[49m\u001B[43mretries_taken\u001B[49m\u001B[38;5;241;43m=\u001B[39;49m\u001B[43mretries_taken\u001B[49m\u001B[43m,\u001B[49m\n\u001B[1;32m    963\u001B[0m \u001B[43m\u001B[49m\u001B[43m)\u001B[49m\n",
      "File \u001B[0;32m~/git/github/cfchase/ny-state-poc/venv/lib/python3.11/site-packages/openai/_base_client.py:1061\u001B[0m, in \u001B[0;36mSyncAPIClient._request\u001B[0;34m(self, cast_to, options, retries_taken, stream, stream_cls)\u001B[0m\n\u001B[1;32m   1058\u001B[0m         err\u001B[38;5;241m.\u001B[39mresponse\u001B[38;5;241m.\u001B[39mread()\n\u001B[1;32m   1060\u001B[0m     log\u001B[38;5;241m.\u001B[39mdebug(\u001B[38;5;124m\"\u001B[39m\u001B[38;5;124mRe-raising status error\u001B[39m\u001B[38;5;124m\"\u001B[39m)\n\u001B[0;32m-> 1061\u001B[0m     \u001B[38;5;28;01mraise\u001B[39;00m \u001B[38;5;28mself\u001B[39m\u001B[38;5;241m.\u001B[39m_make_status_error_from_response(err\u001B[38;5;241m.\u001B[39mresponse) \u001B[38;5;28;01mfrom\u001B[39;00m \u001B[38;5;28;01mNone\u001B[39;00m\n\u001B[1;32m   1063\u001B[0m \u001B[38;5;28;01mreturn\u001B[39;00m \u001B[38;5;28mself\u001B[39m\u001B[38;5;241m.\u001B[39m_process_response(\n\u001B[1;32m   1064\u001B[0m     cast_to\u001B[38;5;241m=\u001B[39mcast_to,\n\u001B[1;32m   1065\u001B[0m     options\u001B[38;5;241m=\u001B[39moptions,\n\u001B[0;32m   (...)\u001B[0m\n\u001B[1;32m   1069\u001B[0m     retries_taken\u001B[38;5;241m=\u001B[39mretries_taken,\n\u001B[1;32m   1070\u001B[0m )\n",
      "\u001B[0;31mBadRequestError\u001B[0m: Error code: 400 - {'object': 'error', 'message': '[{\\'type\\': \\'dict_type\\', \\'loc\\': (\\'body\\', \\'messages\\', 0, \\'typed-dict\\'), \\'msg\\': \\'Input should be a valid dictionary\\', \\'input\\': \"You are an advanced AI assistant designed to provide precise and accurate information.\\\\nYour primary goal is to answer queries with the most up-to-date and factual information available.\\\\nFocus on delivering clear, concise, and correct responses.\\\\nIf you\\'re uncertain about any aspect of the query, state your level of confidence and provide the most accurate information you can.\\\\nYour responses should prioritize accuracy over all other considerations.\"}, {\\'type\\': \\'dict_type\\', \\'loc\\': (\\'body\\', \\'messages\\', 0, \\'typed-dict\\'), \\'msg\\': \\'Input should be a valid dictionary\\', \\'input\\': \"You are an advanced AI assistant designed to provide precise and accurate information.\\\\nYour primary goal is to answer queries with the most up-to-date and factual information available.\\\\nFocus on delivering clear, concise, and correct responses.\\\\nIf you\\'re uncertain about any aspect of the query, state your level of confidence and provide the most accurate information you can.\\\\nYour responses should prioritize accuracy over all other considerations.\"}, {\\'type\\': \\'dict_type\\', \\'loc\\': (\\'body\\', \\'messages\\', 0, \\'typed-dict\\'), \\'msg\\': \\'Input should be a valid dictionary\\', \\'input\\': \"You are an advanced AI assistant designed to provide precise and accurate information.\\\\nYour primary goal is to answer queries with the most up-to-date and factual information available.\\\\nFocus on delivering clear, concise, and correct responses.\\\\nIf you\\'re uncertain about any aspect of the query, state your level of confidence and provide the most accurate information you can.\\\\nYour responses should prioritize accuracy over all other considerations.\"}, {\\'type\\': \\'dict_type\\', \\'loc\\': (\\'body\\', \\'messages\\', 0, \\'typed-dict\\'), \\'msg\\': \\'Input should be a valid dictionary\\', \\'input\\': \"You are an advanced AI assistant designed to provide precise and accurate information.\\\\nYour primary goal is to answer queries with the most up-to-date and factual information available.\\\\nFocus on delivering clear, concise, and correct responses.\\\\nIf you\\'re uncertain about any aspect of the query, state your level of confidence and provide the most accurate information you can.\\\\nYour responses should prioritize accuracy over all other considerations.\"}, {\\'type\\': \\'dict_type\\', \\'loc\\': (\\'body\\', \\'messages\\', 0, \\'typed-dict\\'), \\'msg\\': \\'Input should be a valid dictionary\\', \\'input\\': \"You are an advanced AI assistant designed to provide precise and accurate information.\\\\nYour primary goal is to answer queries with the most up-to-date and factual information available.\\\\nFocus on delivering clear, concise, and correct responses.\\\\nIf you\\'re uncertain about any aspect of the query, state your level of confidence and provide the most accurate information you can.\\\\nYour responses should prioritize accuracy over all other considerations.\"}, {\\'type\\': \\'dict_type\\', \\'loc\\': (\\'body\\', \\'messages\\', 0, \\'typed-dict\\'), \\'msg\\': \\'Input should be a valid dictionary\\', \\'input\\': \"You are an advanced AI assistant designed to provide precise and accurate information.\\\\nYour primary goal is to answer queries with the most up-to-date and factual information available.\\\\nFocus on delivering clear, concise, and correct responses.\\\\nIf you\\'re uncertain about any aspect of the query, state your level of confidence and provide the most accurate information you can.\\\\nYour responses should prioritize accuracy over all other considerations.\"}, {\\'type\\': \\'dict_type\\', \\'loc\\': (\\'body\\', \\'messages\\', 1, \\'typed-dict\\'), \\'msg\\': \\'Input should be a valid dictionary\\', \\'input\\': \\'What does an employee need to provide in an appeal to the Telecommuting Appeal board?\\'}, {\\'type\\': \\'dict_type\\', \\'loc\\': (\\'body\\', \\'messages\\', 1, \\'typed-dict\\'), \\'msg\\': \\'Input should be a valid dictionary\\', \\'input\\': \\'What does an employee need to provide in an appeal to the Telecommuting Appeal board?\\'}, {\\'type\\': \\'dict_type\\', \\'loc\\': (\\'body\\', \\'messages\\', 1, \\'typed-dict\\'), \\'msg\\': \\'Input should be a valid dictionary\\', \\'input\\': \\'What does an employee need to provide in an appeal to the Telecommuting Appeal board?\\'}, {\\'type\\': \\'dict_type\\', \\'loc\\': (\\'body\\', \\'messages\\', 1, \\'typed-dict\\'), \\'msg\\': \\'Input should be a valid dictionary\\', \\'input\\': \\'What does an employee need to provide in an appeal to the Telecommuting Appeal board?\\'}, {\\'type\\': \\'dict_type\\', \\'loc\\': (\\'body\\', \\'messages\\', 1, \\'typed-dict\\'), \\'msg\\': \\'Input should be a valid dictionary\\', \\'input\\': \\'What does an employee need to provide in an appeal to the Telecommuting Appeal board?\\'}, {\\'type\\': \\'dict_type\\', \\'loc\\': (\\'body\\', \\'messages\\', 1, \\'typed-dict\\'), \\'msg\\': \\'Input should be a valid dictionary\\', \\'input\\': \\'What does an employee need to provide in an appeal to the Telecommuting Appeal board?\\'}]', 'type': 'BadRequestError', 'param': None, 'code': 400}"
     ]
    }
   ],
   "execution_count": 8
  },
  {
   "metadata": {
    "ExecuteTime": {
     "end_time": "2024-12-19T18:34:38.380422Z",
     "start_time": "2024-12-19T18:34:38.375995Z"
    }
   },
   "cell_type": "code",
   "source": "evaluation_result.scores",
   "id": "b4ca666faba4b8a3",
   "outputs": [
    {
     "data": {
      "text/plain": [
       "[{'domain_specific_rubrics': 9},\n",
       " {'domain_specific_rubrics': 3},\n",
       " {'domain_specific_rubrics': 8},\n",
       " {'domain_specific_rubrics': 3},\n",
       " {'domain_specific_rubrics': 9},\n",
       " {'domain_specific_rubrics': 2},\n",
       " {'domain_specific_rubrics': 3},\n",
       " {'domain_specific_rubrics': 6},\n",
       " {'domain_specific_rubrics': 4},\n",
       " {'domain_specific_rubrics': 8},\n",
       " {'domain_specific_rubrics': 6},\n",
       " {'domain_specific_rubrics': 5},\n",
       " {'domain_specific_rubrics': 8},\n",
       " {'domain_specific_rubrics': 8},\n",
       " {'domain_specific_rubrics': 7},\n",
       " {'domain_specific_rubrics': 3},\n",
       " {'domain_specific_rubrics': 8},\n",
       " {'domain_specific_rubrics': 2},\n",
       " {'domain_specific_rubrics': 3},\n",
       " {'domain_specific_rubrics': 1},\n",
       " {'domain_specific_rubrics': 5},\n",
       " {'domain_specific_rubrics': 5},\n",
       " {'domain_specific_rubrics': 5},\n",
       " {'domain_specific_rubrics': 4},\n",
       " {'domain_specific_rubrics': 4},\n",
       " {'domain_specific_rubrics': 5},\n",
       " {'domain_specific_rubrics': 6},\n",
       " {'domain_specific_rubrics': 10},\n",
       " {'domain_specific_rubrics': 4},\n",
       " {'domain_specific_rubrics': 5},\n",
       " {'domain_specific_rubrics': 5},\n",
       " {'domain_specific_rubrics': 7},\n",
       " {'domain_specific_rubrics': 5},\n",
       " {'domain_specific_rubrics': 4},\n",
       " {'domain_specific_rubrics': 7},\n",
       " {'domain_specific_rubrics': 8},\n",
       " {'domain_specific_rubrics': 2},\n",
       " {'domain_specific_rubrics': 2},\n",
       " {'domain_specific_rubrics': 2}]"
      ]
     },
     "execution_count": 11,
     "metadata": {},
     "output_type": "execute_result"
    }
   ],
   "execution_count": 11
  },
  {
   "metadata": {},
   "cell_type": "code",
   "outputs": [],
   "execution_count": null,
   "source": "",
   "id": "94499230a3747045"
  },
  {
   "metadata": {},
   "cell_type": "code",
   "outputs": [],
   "execution_count": null,
   "source": "",
   "id": "23646d7320869fac"
  },
  {
   "metadata": {},
   "cell_type": "code",
   "outputs": [],
   "execution_count": null,
   "source": "",
   "id": "a45b71197c1aa0bb"
  },
  {
   "cell_type": "code",
   "execution_count": null,
   "id": "f060586ddac9bda2",
   "metadata": {
    "ExecuteTime": {
     "end_time": "2024-12-18T19:13:25.168156Z",
     "start_time": "2024-12-18T18:53:10.727959Z"
    }
   },
   "outputs": [],
   "source": [
    "llm_config = get_config()\n",
    "output_directory = get_output_dir()\n",
    "reference_answers_df = pd.read_json(f\"{output_directory}/reference_answers.jsonl\", orient=\"records\", lines=True)\n",
    "\n",
    "for testing_config in llm_config[\"testing_config\"]:\n",
    "    print(\"-\" * 80)\n",
    "    print(testing_config.get(\"name\") or testing_config.get(\"model_name\"))\n",
    "    responses = reference_answers_df.copy()\n",
    "    responses[\"response\"] = \"\"\n",
    "    llm = create_llm(testing_config)\n",
    "    for index, row in responses.iterrows():\n",
    "        question = row[\"user_input\"]\n",
    "        print(index, question[:40])\n",
    "        if testing_config.get(\"rag\"):\n",
    "            answer = rag_request(llm, testing_config.get(\"template\"), question)\n",
    "        else:\n",
    "            answer = qna_request(llm, testing_config.get(\"template\"), question)\n",
    "        print(\"Answer: \" + answer[:40])\n",
    "        responses.at[index, \"response\"] = answer\n",
    "    testing_config_name = get_testing_config_name(testing_config)\n",
    "    responses.to_json(f\"{output_directory}/{testing_config_name}_responses.jsonl\", orient=\"records\", lines=True)\n",
    "    # responses.to_csv(f\"{output_directory}/{base_filename}_answers.csv\")"
   ]
  },
  {
   "metadata": {},
   "cell_type": "code",
   "outputs": [],
   "execution_count": null,
   "source": "",
   "id": "5b70583916031289"
  },
  {
   "cell_type": "markdown",
   "id": "af3015221565900a",
   "metadata": {},
   "source": [
    "## Grade responses using InstructLab"
   ]
  },
  {
   "cell_type": "code",
   "id": "4d1299d729ca8113",
   "metadata": {
    "ExecuteTime": {
     "end_time": "2024-12-19T13:57:14.137846Z",
     "start_time": "2024-12-19T13:57:14.124728Z"
    }
   },
   "source": [
    "llm_config = get_config()\n",
    "responses_directory = get_output_dir()\n",
    "output_directory = responses_directory + \"/ilab_scores\"\n",
    "os.makedirs(output_directory, exist_ok=True)"
   ],
   "outputs": [],
   "execution_count": 13
  },
  {
   "cell_type": "code",
   "execution_count": null,
   "id": "ecf141b20e6c5d9d",
   "metadata": {
    "ExecuteTime": {
     "end_time": "2024-12-18T19:37:03.657468Z",
     "start_time": "2024-12-18T19:33:49.019174Z"
    }
   },
   "outputs": [],
   "source": [
    "from instructlab_ragas import ModelConfig, RagasEvaluator, RunConfig, Sample\n",
    "import os\n",
    "\n",
    "for testing_config in llm_config[\"testing_config\"]:\n",
    "    testing_config_name = get_testing_config_name(testing_config)\n",
    "    print(\"-\" * 80)\n",
    "    print(testing_config_name)\n",
    "\n",
    "    responses_filename = f\"{responses_directory}/{testing_config_name}_responses.jsonl\"\n",
    "    print(responses_filename)\n",
    "    responses = pd.read_json(responses_filename, orient=\"records\", lines=True)\n",
    "    responses_list = responses[[\"user_input\", \"reference\", \"response\"]].to_dict(orient=\"records\")\n",
    "\n",
    "    os.environ[\"OPENAI_API_KEY\"] = llm_config[\"judge\"][\"api_key\"]\n",
    "    evaluator = RagasEvaluator()\n",
    "    evaluation_result = evaluator.run(dataset=responses_list)\n",
    "\n",
    "    scores = pd.DataFrame(responses_list)\n",
    "    scores[\"score\"] = [score[\"domain_specific_rubrics\"] for score in evaluation_result.scores]\n",
    "    scores_filename = f\"{output_directory}/{testing_config_name}_ilab_scores\"\n",
    "    scores.to_json(f\"{scores_filename}.jsonl\", orient=\"records\", lines=True)\n"
   ]
  },
  {
   "cell_type": "markdown",
   "id": "66c9ad25-b957-4fab-aea9-b9b828e030d2",
   "metadata": {},
   "source": [
    "## Create resulting score report CSV"
   ]
  },
  {
   "cell_type": "code",
   "execution_count": null,
   "id": "7361f3d34cdca9f8",
   "metadata": {
    "ExecuteTime": {
     "end_time": "2024-12-18T19:37:03.684892Z",
     "start_time": "2024-12-18T19:37:03.676542Z"
    }
   },
   "outputs": [],
   "source": [
    "llm_config = get_config()\n",
    "output_directory = get_output_dir() + \"/ilab_scores\"\n",
    "os.makedirs(output_directory, exist_ok=True)"
   ]
  },
  {
   "cell_type": "code",
   "execution_count": null,
   "id": "bd1cedae-4bbf-419d-87cb-d5aedf404694",
   "metadata": {
    "ExecuteTime": {
     "end_time": "2024-12-18T19:37:03.728157Z",
     "start_time": "2024-12-18T19:37:03.706656Z"
    }
   },
   "outputs": [],
   "source": [
    "judge_client = OpenAI(api_key=llm_config[\"judge\"][\"api_key\"])\n",
    "judge_model_name = llm_config[\"judge\"][\"model_name\"]\n",
    "judge_name = replace_special_char(judge_model_name)\n",
    "\n",
    "summary_output_df = pd.DataFrame()\n",
    "\n",
    "for testing_config in llm_config[\"testing_config\"]:\n",
    "    testing_config_name = get_testing_config_name(testing_config)\n",
    "    scores_filename = f\"{output_directory}/{testing_config_name}_ilab_scores.jsonl\"\n",
    "    print(f\"Adding {scores_filename}\")\n",
    "    scores = pd.read_json(scores_filename, orient=\"records\", lines=True)\n",
    "    summary_output_df[f\"{testing_config_name}_score\"] = scores[\"score\"]\n",
    "\n",
    "average_row = summary_output_df.mean(axis=0, numeric_only=True)\n",
    "print(average_row)\n",
    "summary_output_df.loc[len(summary_output_df)] = average_row\n",
    "question_indices = [f\"Q{i + 1}\" for i in range(len(summary_output_df) - 1)]\n",
    "question_indices.append(\"Average\")\n",
    "summary_output_df.insert(0, 'question index', question_indices)\n",
    "\n",
    "summary_filepath = f\"{output_directory}/ilab_summary_scores\"\n",
    "# summary_output_df.to_json(f\"{summary_filepath}.jsonl\", orient=\"records\", lines=True)\n",
    "summary_output_df.to_csv(f\"{summary_filepath}.csv\", index=False)"
   ]
  },
  {
   "cell_type": "code",
   "execution_count": null,
   "id": "785bb2e5bde823e6",
   "metadata": {
    "ExecuteTime": {
     "end_time": "2024-12-18T19:37:03.783593Z",
     "start_time": "2024-12-18T19:37:03.738391Z"
    }
   },
   "outputs": [],
   "source": [
    "with pd.ExcelWriter(f\"{output_directory}/ilab_scores.xlsx\") as writer:\n",
    "    summary_output_df = pd.read_csv(f\"{summary_filepath}.csv\")\n",
    "    summary_output_df.to_excel(writer, sheet_name=\"Summary\", index=False)\n",
    "\n",
    "    for testing_config in llm_config[\"testing_config\"]:\n",
    "        testing_config_name = get_testing_config_name(testing_config)\n",
    "        scores_filename = f\"{output_directory}/{testing_config_name}_ilab_scores.jsonl\"\n",
    "        scores = pd.read_json(scores_filename, orient=\"records\", lines=True)\n",
    "        scores.to_excel(writer, sheet_name=f\"{testing_config_name}_ilab_scores\"[:30])"
   ]
  },
  {
   "cell_type": "code",
   "execution_count": null,
   "id": "6e2192c3-477f-4fa3-ae04-4222e8a4d979",
   "metadata": {},
   "outputs": [],
   "source": []
  }
 ],
 "metadata": {
  "kernelspec": {
   "display_name": "Python 3 (ipykernel)",
   "language": "python",
   "name": "python3"
  },
  "language_info": {
   "codemirror_mode": {
    "name": "ipython",
    "version": 3
   },
   "file_extension": ".py",
   "mimetype": "text/x-python",
   "name": "python",
   "nbconvert_exporter": "python",
   "pygments_lexer": "ipython3",
   "version": "3.11.9"
  }
 },
 "nbformat": 4,
 "nbformat_minor": 5
}
